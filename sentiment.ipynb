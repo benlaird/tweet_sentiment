{
 "cells": [
  {
   "cell_type": "code",
   "execution_count": 6,
   "metadata": {},
   "outputs": [
    {
     "data": {
      "text/html": [
       "<div>\n",
       "<style scoped>\n",
       "    .dataframe tbody tr th:only-of-type {\n",
       "        vertical-align: middle;\n",
       "    }\n",
       "\n",
       "    .dataframe tbody tr th {\n",
       "        vertical-align: top;\n",
       "    }\n",
       "\n",
       "    .dataframe thead th {\n",
       "        text-align: right;\n",
       "    }\n",
       "</style>\n",
       "<table border=\"1\" class=\"dataframe\">\n",
       "  <thead>\n",
       "    <tr style=\"text-align: right;\">\n",
       "      <th></th>\n",
       "      <th>textID</th>\n",
       "      <th>text</th>\n",
       "      <th>selected_text</th>\n",
       "      <th>sentiment</th>\n",
       "    </tr>\n",
       "  </thead>\n",
       "  <tbody>\n",
       "    <tr>\n",
       "      <td>0</td>\n",
       "      <td>cb774db0d1</td>\n",
       "      <td>I`d have responded, if I were going</td>\n",
       "      <td>I`d have responded, if I were going</td>\n",
       "      <td>neutral</td>\n",
       "    </tr>\n",
       "    <tr>\n",
       "      <td>1</td>\n",
       "      <td>549e992a42</td>\n",
       "      <td>Sooo SAD I will miss you here in San Diego!!!</td>\n",
       "      <td>Sooo SAD</td>\n",
       "      <td>negative</td>\n",
       "    </tr>\n",
       "    <tr>\n",
       "      <td>2</td>\n",
       "      <td>088c60f138</td>\n",
       "      <td>my boss is bullying me...</td>\n",
       "      <td>bullying me</td>\n",
       "      <td>negative</td>\n",
       "    </tr>\n",
       "    <tr>\n",
       "      <td>3</td>\n",
       "      <td>9642c003ef</td>\n",
       "      <td>what interview! leave me alone</td>\n",
       "      <td>leave me alone</td>\n",
       "      <td>negative</td>\n",
       "    </tr>\n",
       "    <tr>\n",
       "      <td>4</td>\n",
       "      <td>358bd9e861</td>\n",
       "      <td>Sons of ****, why couldn`t they put them on t...</td>\n",
       "      <td>Sons of ****,</td>\n",
       "      <td>negative</td>\n",
       "    </tr>\n",
       "  </tbody>\n",
       "</table>\n",
       "</div>"
      ],
      "text/plain": [
       "       textID                                               text  \\\n",
       "0  cb774db0d1                I`d have responded, if I were going   \n",
       "1  549e992a42      Sooo SAD I will miss you here in San Diego!!!   \n",
       "2  088c60f138                          my boss is bullying me...   \n",
       "3  9642c003ef                     what interview! leave me alone   \n",
       "4  358bd9e861   Sons of ****, why couldn`t they put them on t...   \n",
       "\n",
       "                         selected_text sentiment  \n",
       "0  I`d have responded, if I were going   neutral  \n",
       "1                             Sooo SAD  negative  \n",
       "2                          bullying me  negative  \n",
       "3                       leave me alone  negative  \n",
       "4                        Sons of ****,  negative  "
      ]
     },
     "execution_count": 6,
     "metadata": {},
     "output_type": "execute_result"
    }
   ],
   "source": [
    "import pandas as pd  \n",
    "import numpy as np\n",
    "import matplotlib.pyplot as plt\n",
    "# cols = ['sentiment','id','date','query_string','user','text']\n",
    "df = pd.read_csv(\"./data/tweet-sentiment-extraction/train.csv\")\n",
    "# above line will be different depending on where you saved your data, and your file name\n",
    "df.head()"
   ]
  },
  {
   "cell_type": "code",
   "execution_count": 3,
   "metadata": {},
   "outputs": [
    {
     "data": {
      "text/plain": [
       "neutral     11118\n",
       "positive     8582\n",
       "negative     7781\n",
       "Name: sentiment, dtype: int64"
      ]
     },
     "execution_count": 3,
     "metadata": {},
     "output_type": "execute_result"
    }
   ],
   "source": [
    "df.sentiment.value_counts()"
   ]
  },
  {
   "cell_type": "code",
   "execution_count": 5,
   "metadata": {},
   "outputs": [
    {
     "data": {
      "text/plain": [
       "' I`d have responded, if I were going'"
      ]
     },
     "execution_count": 5,
     "metadata": {},
     "output_type": "execute_result"
    }
   ],
   "source": [
    "# Remove URLs\n",
    "import re\n",
    "re.sub('https?://[A-Za-z0-9./]+','',df.text[0])"
   ]
  },
  {
   "cell_type": "code",
   "execution_count": 7,
   "metadata": {},
   "outputs": [],
   "source": [
    "import spacy\n",
    "from spacy.matcher.phrasematcher import PhraseMatcher\n",
    "nlp = spacy.load(\"en_core_web_sm\")"
   ]
  },
  {
   "cell_type": "code",
   "execution_count": 9,
   "metadata": {},
   "outputs": [
    {
     "name": "stdout",
     "output_type": "stream",
     "text": [
      "The the DET True\n",
      "rain rain NOUN False\n",
      "in in ADP True\n",
      "Spain Spain PROPN False\n",
      "falls fall VERB False\n",
      "mainly mainly ADV False\n",
      "on on ADP True\n",
      "the the DET True\n",
      "plain plain NOUN False\n",
      ". . PUNCT False\n"
     ]
    }
   ],
   "source": [
    "text = \"The rain in Spain falls mainly on the plain.\"\n",
    "doc = nlp(text)\n",
    " \n",
    "for token in doc:\n",
    "    print(token.text, token.lemma_, token.pos_, token.is_stop)\n",
    "    "
   ]
  },
  {
   "cell_type": "code",
   "execution_count": 10,
   "metadata": {},
   "outputs": [
    {
     "data": {
      "text/html": [
       "<div>\n",
       "<style scoped>\n",
       "    .dataframe tbody tr th:only-of-type {\n",
       "        vertical-align: middle;\n",
       "    }\n",
       "\n",
       "    .dataframe tbody tr th {\n",
       "        vertical-align: top;\n",
       "    }\n",
       "\n",
       "    .dataframe thead th {\n",
       "        text-align: right;\n",
       "    }\n",
       "</style>\n",
       "<table border=\"1\" class=\"dataframe\">\n",
       "  <thead>\n",
       "    <tr style=\"text-align: right;\">\n",
       "      <th></th>\n",
       "      <th>text</th>\n",
       "      <th>lemma</th>\n",
       "      <th>POS</th>\n",
       "      <th>explain</th>\n",
       "      <th>stopword</th>\n",
       "    </tr>\n",
       "  </thead>\n",
       "  <tbody>\n",
       "    <tr>\n",
       "      <td>0</td>\n",
       "      <td>The</td>\n",
       "      <td>the</td>\n",
       "      <td>DET</td>\n",
       "      <td>determiner</td>\n",
       "      <td>True</td>\n",
       "    </tr>\n",
       "    <tr>\n",
       "      <td>1</td>\n",
       "      <td>rain</td>\n",
       "      <td>rain</td>\n",
       "      <td>NOUN</td>\n",
       "      <td>noun</td>\n",
       "      <td>False</td>\n",
       "    </tr>\n",
       "    <tr>\n",
       "      <td>2</td>\n",
       "      <td>in</td>\n",
       "      <td>in</td>\n",
       "      <td>ADP</td>\n",
       "      <td>adposition</td>\n",
       "      <td>True</td>\n",
       "    </tr>\n",
       "    <tr>\n",
       "      <td>3</td>\n",
       "      <td>Spain</td>\n",
       "      <td>Spain</td>\n",
       "      <td>PROPN</td>\n",
       "      <td>proper noun</td>\n",
       "      <td>False</td>\n",
       "    </tr>\n",
       "    <tr>\n",
       "      <td>4</td>\n",
       "      <td>falls</td>\n",
       "      <td>fall</td>\n",
       "      <td>VERB</td>\n",
       "      <td>verb</td>\n",
       "      <td>False</td>\n",
       "    </tr>\n",
       "    <tr>\n",
       "      <td>5</td>\n",
       "      <td>mainly</td>\n",
       "      <td>mainly</td>\n",
       "      <td>ADV</td>\n",
       "      <td>adverb</td>\n",
       "      <td>False</td>\n",
       "    </tr>\n",
       "    <tr>\n",
       "      <td>6</td>\n",
       "      <td>on</td>\n",
       "      <td>on</td>\n",
       "      <td>ADP</td>\n",
       "      <td>adposition</td>\n",
       "      <td>True</td>\n",
       "    </tr>\n",
       "    <tr>\n",
       "      <td>7</td>\n",
       "      <td>the</td>\n",
       "      <td>the</td>\n",
       "      <td>DET</td>\n",
       "      <td>determiner</td>\n",
       "      <td>True</td>\n",
       "    </tr>\n",
       "    <tr>\n",
       "      <td>8</td>\n",
       "      <td>plain</td>\n",
       "      <td>plain</td>\n",
       "      <td>NOUN</td>\n",
       "      <td>noun</td>\n",
       "      <td>False</td>\n",
       "    </tr>\n",
       "    <tr>\n",
       "      <td>9</td>\n",
       "      <td>.</td>\n",
       "      <td>.</td>\n",
       "      <td>PUNCT</td>\n",
       "      <td>punctuation</td>\n",
       "      <td>False</td>\n",
       "    </tr>\n",
       "  </tbody>\n",
       "</table>\n",
       "</div>"
      ],
      "text/plain": [
       "     text   lemma    POS      explain  stopword\n",
       "0     The     the    DET   determiner      True\n",
       "1    rain    rain   NOUN         noun     False\n",
       "2      in      in    ADP   adposition      True\n",
       "3   Spain   Spain  PROPN  proper noun     False\n",
       "4   falls    fall   VERB         verb     False\n",
       "5  mainly  mainly    ADV       adverb     False\n",
       "6      on      on    ADP   adposition      True\n",
       "7     the     the    DET   determiner      True\n",
       "8   plain   plain   NOUN         noun     False\n",
       "9       .       .  PUNCT  punctuation     False"
      ]
     },
     "execution_count": 10,
     "metadata": {},
     "output_type": "execute_result"
    }
   ],
   "source": [
    "import pandas as pd\n",
    " \n",
    "cols = (\"text\", \"lemma\", \"POS\", \"explain\", \"stopword\")\n",
    "rows = []\n",
    " \n",
    "for t in doc:\n",
    "    row = [t.text, t.lemma_, t.pos_, spacy.explain(t.pos_), t.is_stop]\n",
    "    rows.append(row)\n",
    " \n",
    "df = pd.DataFrame(rows, columns=cols)\n",
    " \n",
    "df"
   ]
  },
  {
   "cell_type": "code",
   "execution_count": 15,
   "metadata": {},
   "outputs": [
    {
     "data": {
      "text/plain": [
       "['rain', 'Spain', 'fall', 'mainly', 'plain']"
      ]
     },
     "execution_count": 15,
     "metadata": {},
     "output_type": "execute_result"
    }
   ],
   "source": [
    "# Remove punctuation and stop words, and show the lemmatized version\n",
    "# Note token.orth_ is the original version\n",
    "[token.lemma_ for token in doc if not ( token.is_punct | token.is_space | token.is_stop) ] \n"
   ]
  },
  {
   "cell_type": "code",
   "execution_count": 16,
   "metadata": {},
   "outputs": [
    {
     "name": "stdout",
     "output_type": "stream",
     "text": [
      "['When', 'learning', 'data', 'science', ',', 'you', 'should', \"n't\", 'get', 'discouraged', '!', '\\n', 'Challenges', 'and', 'setbacks', 'are', \"n't\", 'failures', ',', 'they', \"'re\", 'just', 'part', 'of', 'the', 'journey', '.', 'You', \"'ve\", 'got', 'this', '!']\n"
     ]
    }
   ],
   "source": [
    "\n",
    "text = \"\"\"When learning data science, you shouldn't get discouraged!\n",
    "Challenges and setbacks aren't failures, they're just part of the journey. You've got this!\"\"\"\n",
    "\n",
    "#  \"nlp\" Object is used to create documents with linguistic annotations.\n",
    "my_doc = nlp(text)\n",
    "\n",
    "# Create list of word tokens\n",
    "token_list = []\n",
    "for token in my_doc:\n",
    "    token_list.append(token.text)\n",
    "print(token_list)"
   ]
  },
  {
   "cell_type": "code",
   "execution_count": 19,
   "metadata": {},
   "outputs": [
    {
     "name": "stdout",
     "output_type": "stream",
     "text": [
      "When when ADV\n",
      "learning learn VERB\n",
      "data datum NOUN\n",
      "science science NOUN\n",
      ", , PUNCT\n",
      "you -PRON- PRON\n",
      "should should VERB\n",
      "n't not PART\n",
      "get get AUX\n",
      "discouraged discourage VERB\n",
      "! ! PUNCT\n",
      "\n",
      " \n",
      " SPACE\n",
      "Challenges challenge NOUN\n",
      "and and CCONJ\n",
      "setbacks setback NOUN\n",
      "are be AUX\n",
      "n't not PART\n",
      "failures failure NOUN\n",
      ", , PUNCT\n",
      "they -PRON- PRON\n",
      "'re be AUX\n",
      "just just ADV\n",
      "part part NOUN\n",
      "of of ADP\n",
      "the the DET\n",
      "journey journey NOUN\n",
      ". . PUNCT\n",
      "You -PRON- PRON\n",
      "'ve have AUX\n",
      "got get VERB\n",
      "this this DET\n",
      "! ! PUNCT\n",
      "Filtered Sentence: [learning, data, science, ,, discouraged, !, \n",
      ", Challenges, setbacks, failures, ,, journey, ., got, !]\n"
     ]
    }
   ],
   "source": [
    "#Implementation of stop words:\n",
    "filtered_sent=[]\n",
    "\n",
    "#  \"nlp\" Object is used to create documents with linguistic annotations.\n",
    "doc = nlp(text)\n",
    "\n",
    "# filtering stop words\n",
    "for word in doc:\n",
    "    if word.is_stop==False:\n",
    "        filtered_sent.append(word)\n",
    "    print(word.text,word.lemma_, word.pos_)\n",
    "print(\"Filtered Sentence:\",filtered_sent)"
   ]
  },
  {
   "cell_type": "code",
   "execution_count": 20,
   "metadata": {},
   "outputs": [
    {
     "name": "stdout",
     "output_type": "stream",
     "text": [
      "pursuit pursuit pobj In\n",
      "a wall wall pobj of\n",
      "President Trump Trump nsubj ran\n"
     ]
    }
   ],
   "source": [
    "docp = nlp (\" In pursuit of a wall, President Trump ran into one.\")\n",
    "\n",
    "for chunk in docp.noun_chunks:\n",
    "   print(chunk.text, chunk.root.text, chunk.root.dep_,\n",
    "          chunk.root.head.text)"
   ]
  },
  {
   "cell_type": "code",
   "execution_count": 21,
   "metadata": {},
   "outputs": [],
   "source": [
    "import pandas as pd\n",
    "from sklearn.feature_extraction.text import CountVectorizer,TfidfVectorizer\n",
    "from sklearn.base import TransformerMixin\n",
    "from sklearn.pipeline import Pipeline"
   ]
  },
  {
   "cell_type": "code",
   "execution_count": 31,
   "metadata": {},
   "outputs": [],
   "source": [
    "def custom_tokenizer(sentence):\n",
    "    \"\"\"\n",
    "        remove stop words, and lemmatize \n",
    "    \"\"\"\n",
    "    tokens = nlp(sentence)\n",
    "    \n",
    "    ret = [token.lemma_ for token in tokens if not ( token.is_punct | token.is_space | token.is_stop ) ]\n",
    "\n",
    "    return ret"
   ]
  },
  {
   "cell_type": "code",
   "execution_count": 32,
   "metadata": {},
   "outputs": [
    {
     "data": {
      "text/plain": [
       "['pursuit', 'wall', 'President', 'Trump', 'run']"
      ]
     },
     "execution_count": 32,
     "metadata": {},
     "output_type": "execute_result"
    }
   ],
   "source": [
    "custom_tokenizer(\" In pursuit of a wall, President Trump ran into one.\")"
   ]
  },
  {
   "cell_type": "code",
   "execution_count": 33,
   "metadata": {},
   "outputs": [],
   "source": [
    "bow_vector = CountVectorizer(tokenizer = custom_tokenizer, ngram_range=(1,1))"
   ]
  },
  {
   "cell_type": "code",
   "execution_count": 29,
   "metadata": {},
   "outputs": [
    {
     "data": {
      "text/plain": [
       "CountVectorizer(analyzer='word', binary=False, decode_error='strict',\n",
       "                dtype=<class 'numpy.int64'>, encoding='utf-8', input='content',\n",
       "                lowercase=True, max_df=1.0, max_features=None, min_df=1,\n",
       "                ngram_range=(1, 1), preprocessor=None, stop_words=None,\n",
       "                strip_accents=None, token_pattern='(?u)\\\\b\\\\w\\\\w+\\\\b',\n",
       "                tokenizer=<function tokenizer at 0x1a3010b0e0>,\n",
       "                vocabulary=None)"
      ]
     },
     "execution_count": 29,
     "metadata": {},
     "output_type": "execute_result"
    }
   ],
   "source": [
    "bow_vector"
   ]
  },
  {
   "cell_type": "code",
   "execution_count": 37,
   "metadata": {},
   "outputs": [
    {
     "name": "stderr",
     "output_type": "stream",
     "text": [
      "[nltk_data] Downloading package movie_reviews to\n",
      "[nltk_data]     /Users/rebjl/nltk_data...\n",
      "[nltk_data]   Unzipping corpora/movie_reviews.zip.\n"
     ]
    },
    {
     "data": {
      "text/plain": [
       "True"
      ]
     },
     "execution_count": 37,
     "metadata": {},
     "output_type": "execute_result"
    }
   ],
   "source": [
    "import nltk\n",
    "nltk.download('movie_reviews')"
   ]
  },
  {
   "cell_type": "code",
   "execution_count": 34,
   "metadata": {},
   "outputs": [],
   "source": [
    "tfidf_vector = TfidfVectorizer(tokenizer = custom_tokenizer)"
   ]
  },
  {
   "cell_type": "code",
   "execution_count": 39,
   "metadata": {},
   "outputs": [
    {
     "name": "stdout",
     "output_type": "stream",
     "text": [
      "[FreqDist({'the': 46, ',': 43, \"'\": 25, '.': 23, 'and': 21, '(': 18, ')': 18, 'in': 18, 'a': 15, 'to': 15, ...}), FreqDist({',': 52, '.': 40, 'the': 35, 'a': 22, 'is': 22, 'and': 20, \"'\": 17, 'to': 14, 'of': 12, 'in': 12, ...}), FreqDist({'the': 33, ',': 28, '.': 17, \"'\": 11, 'it': 10, 'of': 10, 'a': 9, 'and': 9, 'as': 9, 'to': 7, ...}), FreqDist({',': 72, 'the': 63, '.': 44, 'a': 34, '\"': 32, 'and': 29, 'of': 28, 'is': 22, 'it': 22, \"'\": 19, ...}), FreqDist({',': 55, 'the': 41, '.': 25, 'a': 20, 'in': 20, 'and': 18, \"'\": 16, 'of': 15, 'to': 15, '-': 12, ...}), FreqDist({',': 62, 'the': 61, 'of': 37, '.': 34, 'and': 27, 'a': 26, 'to': 23, 'his': 20, 'in': 13, 'lumumba': 13, ...}), FreqDist({',': 58, 'a': 37, 'the': 33, '.': 32, 'and': 22, 'of': 21, \"'\": 20, 'in': 19, 'to': 18, 'is': 17, ...}), FreqDist({',': 45, '.': 32, 'the': 29, 'a': 26, 'and': 25, \"'\": 24, 's': 20, 'is': 20, '-': 18, 'of': 13, ...}), FreqDist({',': 24, \"'\": 15, '.': 13, 'the': 11, 's': 11, 'and': 10, 'lumumba': 8, 'a': 7, 'to': 6, 'with': 6, ...}), FreqDist({',': 28, 'the': 22, 'of': 22, '.': 21, 'a': 14, 'and': 11, '-': 10, 'in': 9, 'monkey': 9, 'to': 8, ...}), FreqDist({',': 45, 'the': 44, '.': 44, 'a': 39, 'and': 20, 'of': 17, '-': 17, 'to': 17, 'in': 16, '(': 15, ...}), FreqDist({',': 50, 'the': 27, '.': 25, 'to': 22, 'of': 20, 'a': 18, 'and': 15, 'it': 14, \"'\": 12, 'is': 12, ...}), FreqDist({',': 24, '.': 15, 'is': 14, '\"': 14, 'a': 9, 'the': 9, 'and': 9, 'bobby': 8, \"'\": 7, 'to': 7, ...}), FreqDist({',': 20, 'and': 13, '.': 11, 'the': 10, 'a': 9, 'of': 8, '-': 8, 'to': 7, 'in': 5, \"'\": 5, ...}), FreqDist({'the': 81, ',': 72, '.': 56, 'to': 37, 'of': 36, 'and': 27, 'in': 26, 'a': 24, 'his': 20, \"'\": 18, ...}), FreqDist({',': 34, 'the': 28, 'and': 22, '.': 22, 'a': 17, 'to': 13, \"'\": 13, 'this': 13, '(': 12, ')': 12, ...}), FreqDist({'the': 23, ',': 18, 'and': 18, '.': 15, 'is': 12, 'to': 12, 'in': 10, \"'\": 10, 'a': 9, 'he': 9, ...}), FreqDist({'the': 57, '.': 44, ',': 39, 'a': 25, 'of': 23, 'and': 22, 'to': 22, 'is': 19, 'he': 13, '\"': 12, ...}), FreqDist({'the': 25, '.': 21, 'and': 20, ',': 18, 'to': 16, \"'\": 13, 'of': 12, 'roger': 11, 'in': 11, 'a': 11, ...}), FreqDist({',': 36, '\"': 32, 'the': 24, 'a': 22, '.': 22, \"'\": 18, 'in': 15, 's': 14, '-': 14, 'and': 13, ...}), FreqDist({',': 26, '.': 17, 'the': 15, 'of': 12, 'a': 10, 'and': 10, 'in': 8, 'as': 6, '-': 6, '\"': 6, ...}), FreqDist({'the': 40, ',': 33, \"'\": 30, '.': 29, 'to': 26, 'a': 23, 'of': 19, 'it': 14, 'with': 12, 'in': 11, ...}), FreqDist({',': 51, 'the': 23, '.': 22, \"'\": 18, 'to': 14, 'and': 13, 'a': 12, 'i': 11, 's': 9, 'cable': 8, ...}), FreqDist({',': 44, 'the': 42, '?': 36, '.': 33, 'a': 25, \"'\": 24, 'is': 22, 'and': 20, 'of': 18, 'he': 18, ...}), FreqDist({'the': 49, ',': 42, '.': 32, 'a': 30, 'to': 28, 'and': 27, \"'\": 25, 'in': 19, 'of': 18, 'd': 14, ...}), FreqDist({'the': 48, '.': 45, ',': 38, 'and': 22, 'of': 21, 'a': 20, '-': 16, 'is': 16, \"'\": 15, 'in': 13, ...}), FreqDist({',': 36, 'the': 34, '.': 25, 'to': 17, 'of': 15, \"'\": 13, 'and': 13, 'a': 12, 'that': 11, 'as': 9, ...}), FreqDist({',': 69, 'of': 60, 'the': 54, 'and': 46, '.': 40, 'to': 25, 'in': 18, 'is': 17, '-': 17, 'film': 17, ...}), FreqDist({'the': 83, ',': 54, '.': 50, '\"': 42, 'and': 40, 'of': 28, 'is': 26, 'a': 25, 'to': 22, 'that': 17, ...}), FreqDist({'the': 74, ',': 57, '.': 45, 'to': 41, \"'\": 36, 'is': 33, 'and': 31, 'a': 31, 'of': 26, 'it': 18, ...}), FreqDist({',': 51, '.': 43, 'the': 39, 'a': 32, \"'\": 32, 'of': 26, 's': 23, 'and': 21, 'to': 17, '(': 16, ...}), FreqDist({',': 79, 'the': 69, '.': 62, '-': 46, \"'\": 43, 'and': 39, 'to': 28, 'a': 28, 'of': 27, 's': 25, ...}), FreqDist({'the': 66, '.': 38, 'of': 29, 'a': 27, ',': 24, 'is': 21, 'in': 21, 'and': 20, 'as': 17, 'to': 17, ...}), FreqDist({',': 60, '.': 54, 'the': 54, 'a': 46, 'in': 27, 'of': 24, 'to': 21, \"'\": 20, 'i': 19, 'his': 19, ...}), FreqDist({',': 38, '.': 31, 'the': 28, 'and': 22, '\"': 22, \"'\": 17, 'of': 17, '(': 15, ')': 15, 'a': 14, ...}), FreqDist({',': 35, 'the': 30, '.': 20, 'of': 18, 'a': 16, 'and': 16, '\"': 14, 'is': 13, 'to': 12, '-': 11, ...}), FreqDist({',': 38, 'the': 26, '.': 24, 'of': 15, 'is': 12, 'a': 11, 'to': 11, 'she': 9, 'and': 9, '-': 8, ...}), FreqDist({'the': 60, ',': 37, '.': 35, 'is': 26, 'of': 24, 'to': 22, 'and': 22, 'it': 21, 'a': 18, 'that': 16, ...}), FreqDist({'.': 19, 'a': 15, ',': 15, 'i': 10, 'the': 9, 'it': 9, \"'\": 9, '\"': 8, 'to': 8, 'of': 7, ...}), FreqDist({',': 39, 'the': 38, \"'\": 19, 'that': 17, 'is': 15, '.': 14, 's': 13, 'of': 13, 'and': 12, 'a': 12, ...}), FreqDist({',': 54, 'the': 47, '.': 31, 'and': 20, 'a': 18, \"'\": 15, 'it': 15, 'is': 15, 'of': 13, 'to': 13, ...}), FreqDist({'.': 66, 'the': 51, ',': 36, 'and': 33, 'of': 32, 'to': 32, 'is': 32, 'a': 24, '\"': 18, 'her': 17, ...}), FreqDist({'.': 51, ',': 50, 'a': 31, \"'\": 25, 'he': 24, 'to': 23, 'and': 22, 'the': 21, 'will': 20, 's': 19, ...}), FreqDist({'the': 33, ',': 26, '.': 24, 'and': 22, 'of': 19, 'a': 16, \"'\": 14, '-': 13, 's': 11, 'in': 11, ...}), FreqDist({'the': 55, ',': 54, '.': 32, 'and': 30, 'of': 27, 'a': 20, '-': 16, 'you': 15, \"'\": 15, 'to': 13, ...}), FreqDist({',': 55, 'the': 51, '.': 26, 'of': 23, 'and': 21, ')': 18, '(': 17, 'to': 16, 'a': 16, 'his': 14, ...}), FreqDist({'the': 62, ',': 54, '.': 47, \"'\": 26, 'and': 24, 'to': 22, 'of': 20, 'he': 20, 'that': 16, 'is': 16, ...}), FreqDist({'the': 51, '.': 35, ',': 33, 'of': 24, 'to': 18, 'a': 16, 'and': 14, 'i': 14, 'film': 13, 'in': 9, ...}), FreqDist({',': 41, 'the': 40, '.': 28, 'of': 17, 'is': 15, 'that': 14, 'a': 13, 'he': 13, 'to': 12, 'his': 11, ...}), FreqDist({'.': 26, 'the': 23, ',': 22, 'and': 14, 'i': 12, \"'\": 9, 'to': 9, 'is': 8, 'a': 8, 'for': 6, ...}), FreqDist({',': 35, '.': 30, 'the': 29, 'and': 15, 'a': 14, \"'\": 11, '-': 11, 'of': 10, 'is': 9, 's': 7, ...}), FreqDist({',': 41, 'the': 37, 'a': 20, '.': 18, 'and': 18, \"'\": 15, 's': 15, 'in': 15, 'to': 14, 'is': 13, ...}), FreqDist({'the': 20, '\"': 16, '.': 15, 'is': 13, ',': 12, 'of': 11, 'and': 10, 'a': 7, 'to': 7, \"'\": 6, ...}), FreqDist({',': 73, 'the': 64, '.': 43, 'is': 27, 'and': 27, 'of': 26, 'a': 23, 'in': 21, 'it': 11, 'but': 10, ...}), FreqDist({'the': 28, ',': 24, \"'\": 20, '.': 20, 'and': 15, 'to': 15, 's': 14, '\"': 10, 'of': 9, 'in': 9, ...}), FreqDist({',': 48, '.': 38, 'the': 32, 'and': 24, 'to': 21, 'of': 15, 'a': 14, 'is': 14, \"'\": 14, 'in': 12, ...}), FreqDist({',': 41, 'the': 23, 'a': 23, '.': 20, \"'\": 15, '-': 12, 'to': 12, 's': 11, 'of': 10, 'and': 10, ...}), FreqDist({'.': 33, 'the': 7, 'i': 5, 'of': 5, 'was': 5, 'to': 5, 'a': 5, 'had': 4, 'it': 4, 'twister': 3, ...}), FreqDist({',': 25, 'a': 13, 'and': 10, 'the': 9, '.': 9, \"'\": 7, 'of': 7, '(': 6, ')': 6, '-': 6, ...}), FreqDist({'the': 64, ',': 50, 'a': 37, '.': 36, '\"': 32, 'to': 24, 'is': 19, 'and': 18, 'of': 17, \"'\": 15, ...}), FreqDist({'the': 75, ',': 75, '.': 41, 'a': 39, 'of': 34, 'is': 28, 'and': 28, 'to': 27, 'her': 17, 'you': 12, ...}), FreqDist({'the': 64, ',': 57, '.': 29, 'of': 24, 'and': 14, 'to': 14, '-': 12, 'a': 12, \"'\": 9, 'is': 9, ...}), FreqDist({'the': 73, ',': 70, '.': 43, 'a': 33, 'to': 33, '\"': 31, 'and': 30, 'of': 26, \"'\": 24, 'giant': 20, ...}), FreqDist({',': 20, '.': 13, '\"': 10, 'the': 10, 'a': 10, '-': 10, '(': 9, ')': 9, 'his': 8, 'of': 7, ...}), FreqDist({'.': 55, 'the': 29, \"'\": 26, 'a': 25, 'and': 22, 's': 21, ',': 20, 'to': 20, 'of': 20, 'is': 15, ...}), FreqDist({',': 68, '.': 48, 'the': 46, 'is': 31, 'and': 27, 'to': 21, 'a': 20, 'that': 18, '=': 16, 'of': 15, ...}), FreqDist({'.': 27, 'a': 21, ',': 16, 'the': 15, 'to': 13, 'with': 12, 'and': 11, 'of': 10, 'in': 10, 'an': 10, ...}), FreqDist({'the': 44, ',': 38, '.': 23, \"'\": 14, 'a': 13, 'of': 13, 'to': 13, 'is': 11, 'in': 10, '-': 10, ...}), FreqDist({'the': 40, ',': 40, '.': 39, 'to': 24, 'a': 23, 'of': 17, 'is': 17, \"'\": 15, 'that': 15, 'and': 14, ...}), FreqDist({'the': 34, ',': 31, '.': 30, 'and': 25, 'a': 21, \"'\": 18, 's': 17, 'of': 15, 'is': 14, 'as': 11, ...}), FreqDist({',': 44, '\"': 32, 'the': 31, '.': 26, \"'\": 23, 'and': 22, 'of': 18, 's': 18, 'a': 17, 'in': 10, ...}), FreqDist({',': 59, '.': 39, 'the': 37, \"'\": 32, 'a': 29, 'and': 27, 'of': 25, 'to': 23, 'is': 22, 's': 19, ...}), FreqDist({',': 26, 'the': 25, '.': 22, 'a': 14, 'and': 12, 'as': 12, '-': 10, 'her': 8, 'of': 8, 'is': 8, ...}), FreqDist({'the': 44, '.': 42, ',': 32, 'of': 25, 'and': 24, 'a': 20, \"'\": 14, 'is': 11, 's': 11, 'in': 11, ...}), FreqDist({',': 119, '.': 79, '\"': 62, 'the': 52, 'of': 43, 'and': 39, \"'\": 35, 'a': 34, 'in': 33, 'to': 27, ...}), FreqDist({',': 19, 'a': 15, 'the': 15, '.': 12, 'and': 8, 'is': 7, 'of': 6, 'but': 5, 'you': 5, 'in': 4, ...}), FreqDist({'the': 83, ',': 49, '.': 46, 'to': 35, '\"': 34, 'a': 31, 'and': 31, 'of': 29, \"'\": 26, 'in': 19, ...}), FreqDist({'the': 37, '.': 32, 'a': 22, 'of': 17, ',': 17, 'is': 16, 'to': 16, 'blade': 15, 'and': 15, 'that': 14, ...}), FreqDist({'the': 45, ',': 41, '.': 30, 'is': 20, 'and': 17, 'to': 17, \"'\": 15, 's': 13, 'film': 11, 'it': 10, ...}), FreqDist({',': 22, '.': 16, \"'\": 13, 'the': 10, 'is': 9, 'in': 8, 's': 8, 'of': 8, 'it': 8, 'francie': 7, ...}), FreqDist({',': 27, 'the': 22, '.': 22, 'to': 20, 'and': 16, 'a': 14, \"'\": 11, 'is': 9, 'they': 8, 'of': 7, ...}), FreqDist({'the': 44, ',': 32, '.': 27, \"'\": 18, 'a': 17, 'of': 17, 'and': 16, 's': 15, 'to': 11, 'that': 10, ...}), FreqDist({',': 22, '.': 20, 'the': 19, \"'\": 12, 'of': 9, 'a': 8, 'is': 7, 's': 7, 'but': 6, 'no': 6, ...}), FreqDist({'the': 52, ',': 39, '.': 35, 'to': 25, 'of': 22, \"'\": 22, '\"': 20, 'a': 19, '-': 16, 'and': 16, ...}), FreqDist({',': 51, 'the': 44, '.': 35, 'and': 20, 'of': 20, 'to': 19, 'is': 18, 'a': 15, 'it': 13, 'sam': 13, ...}), FreqDist({'.': 53, 'the': 51, '*': 24, 'is': 23, ',': 22, 'alien': 20, 'in': 19, 'to': 19, 'and': 19, 'a': 17, ...}), FreqDist({'the': 67, '.': 52, 'of': 39, ',': 30, 'to': 26, 'a': 25, 'and': 23, 'is': 17, 'in': 14, 'that': 13, ...}), FreqDist({'the': 65, ',': 64, '.': 51, 'is': 36, 'of': 33, 'and': 28, 'to': 26, 'in': 23, 'a': 21, 'i': 18, ...}), FreqDist({'.': 43, ',': 36, 'a': 29, 'the': 25, 'to': 23, 'is': 22, \"'\": 17, 'of': 16, 'and': 14, 'that': 14, ...}), FreqDist({',': 31, '.': 24, 'a': 20, 'the': 14, \"'\": 14, 's': 13, 'of': 12, 'and': 12, 'is': 8, 'to': 8, ...}), FreqDist({',': 23, 'the': 20, '.': 19, 'and': 15, '-': 10, 'a': 8, 'of': 7, 'to': 7, 'as': 7, 'i': 6, ...}), FreqDist({'the': 30, ',': 20, '.': 20, 'of': 16, 'is': 12, 'in': 12, 'to': 10, 'that': 9, 'a': 8, 'and': 7, ...}), FreqDist({'the': 43, 'a': 34, ',': 32, '.': 30, 'he': 25, 'and': 24, 'to': 21, 'his': 19, 'is': 15, '-': 13, ...}), FreqDist({'the': 26, '.': 23, ',': 19, 'and': 13, 'is': 12, 'a': 11, '\"': 10, 'to': 8, 'of': 8, \"'\": 7, ...}), FreqDist({'the': 44, 'of': 35, ',': 31, '.': 29, 'a': 22, 'and': 19, 'is': 14, 'as': 13, 'to': 12, 'be': 9, ...}), FreqDist({'the': 36, ',': 32, '.': 27, '\"': 24, 'and': 18, '-': 17, 'to': 15, 'a': 14, 'of': 11, 'is': 11, ...}), FreqDist({',': 67, 'the': 37, '.': 31, 'and': 28, 'is': 27, 'a': 24, 'giles': 19, \"'\": 19, 'in': 15, 'to': 15, ...}), FreqDist({'.': 54, 'the': 35, ',': 33, \"'\": 31, 'a': 28, 's': 21, 'of': 21, 'and': 16, '-': 15, 'in': 14, ...}), FreqDist({',': 28, '.': 24, 'the': 12, 'to': 11, \"'\": 10, 'that': 9, 'i': 9, 'of': 9, 'a': 9, 'it': 9, ...}), FreqDist({',': 76, 'the': 51, '.': 47, \"'\": 31, 'a': 29, 'of': 26, 's': 23, 'to': 23, 'is': 21, 'and': 21, ...}), FreqDist({',': 52, '.': 35, 'the': 24, 'to': 20, 'is': 20, 'a': 15, 'good': 15, 'as': 15, \"'\": 13, 'and': 11, ...}), FreqDist({',': 60, '.': 39, 'the': 38, 'to': 30, 'of': 25, 'is': 24, 'a': 23, \"'\": 21, 'and': 17, 's': 14, ...}), FreqDist({'the': 37, '.': 37, 'is': 24, 'and': 22, ',': 21, 'to': 19, 'of': 17, \"'\": 16, 'a': 16, 'as': 14, ...}), FreqDist({',': 43, '.': 38, 'the': 34, 'is': 24, 'a': 22, 'and': 21, 'that': 19, 'in': 19, 'to': 16, 'i': 15, ...}), FreqDist({'the': 36, ',': 35, '.': 30, 'a': 17, 'of': 14, 'and': 12, 'it': 11, \"'\": 9, 'with': 8, 'in': 8, ...}), FreqDist({'the': 77, '.': 56, ',': 48, 'a': 33, 'and': 31, \"'\": 28, 'of': 28, 'to': 27, 's': 22, 'in': 19, ...}), FreqDist({'.': 39, 'a': 27, 'is': 25, 'and': 22, 'the': 22, 'to': 20, ',': 17, 'that': 17, 'he': 14, 'of': 13, ...}), FreqDist({',': 26, 'the': 23, '.': 19, \"'\": 17, 'a': 15, 'it': 15, 'is': 13, 'of': 13, 'and': 11, 'to': 10, ...}), FreqDist({'the': 24, ',': 16, '.': 16, 'is': 13, 'of': 11, \"'\": 10, 'too': 9, 's': 8, 'out': 6, 'a': 6, ...}), FreqDist({',': 41, 'a': 24, 'and': 24, '.': 24, 'the': 22, \"'\": 19, '-': 15, 'to': 12, 'it': 12, '(': 11, ...}), FreqDist({',': 69, 'the': 52, \"'\": 46, 'and': 37, '.': 36, 'of': 25, 'a': 24, 'this': 21, 'to': 20, '-': 19, ...}), FreqDist({'the': 15, ',': 14, 'a': 13, '.': 13, 'and': 6, 'from': 5, 'in': 5, 'his': 5, 'of': 5, '-': 4, ...}), FreqDist({'the': 73, ',': 49, 'to': 35, 'of': 30, '.': 29, 'a': 28, 'and': 22, \"'\": 18, 'that': 18, '\"': 18, ...}), FreqDist({'the': 58, '.': 50, ',': 47, 'of': 31, 'and': 24, 'in': 18, \"'\": 16, 'a': 15, 'to': 14, 'it': 13, ...}), FreqDist({'.': 13, 'the': 12, 'a': 12, ',': 10, 'that': 9, 'in': 8, 'of': 6, 'is': 5, 'to': 5, 'one': 5, ...}), FreqDist({',': 76, '\"': 70, 'the': 64, '.': 55, 'a': 39, \"'\": 38, 'and': 37, 'of': 30, 'to': 25, 'that': 19, ...}), FreqDist({'the': 58, '.': 56, 'a': 35, 'to': 31, ',': 23, 'is': 22, 'and': 20, 'they': 16, 'of': 14, 'in': 14, ...}), FreqDist({',': 40, 'the': 34, '.': 31, 'and': 20, 'is': 19, 'a': 14, 'to': 13, 'rob': 13, \"'\": 12, 'at': 11, ...}), FreqDist({'the': 50, ',': 33, '.': 20, 'i': 19, 'of': 19, 'and': 18, '(': 17, ')': 17, '\"': 16, \"'\": 16, ...}), FreqDist({',': 29, '.': 23, \"'\": 20, 'the': 20, 's': 13, 'to': 12, 'it': 11, 'and': 9, 'of': 9, 'a': 8, ...}), FreqDist({'the': 49, '.': 43, ',': 38, 'of': 30, 'and': 30, 'a': 21, \"'\": 20, '-': 19, 'to': 17, 'her': 16, ...}), FreqDist({',': 38, 'the': 30, '.': 23, 'a': 22, 'of': 22, 'and': 21, '-': 18, \"'\": 16, 'to': 11, 'that': 10, ...}), FreqDist({'the': 116, '.': 65, ',': 62, 'of': 52, '\"': 40, 'to': 35, \"'\": 31, 'a': 31, 'and': 30, 'is': 29, ...}), FreqDist({',': 131, 'the': 70, '.': 50, 'a': 44, '\"': 42, 'and': 40, 'is': 33, \"'\": 27, 'of': 27, 'to': 24, ...}), FreqDist({',': 46, 'the': 37, '.': 25, 'of': 24, 'to': 23, \"'\": 21, 'a': 19, 'and': 18, 's': 17, 'with': 14, ...}), FreqDist({'.': 30, 'the': 19, ',': 19, 'a': 18, 'and': 17, 'is': 12, 'of': 11, 'to': 10, 'her': 9, 'with': 9, ...}), FreqDist({'the': 50, '.': 42, ',': 42, 'of': 28, 'to': 19, 'is': 19, 'a': 19, 'as': 19, \"'\": 18, 'and': 17, ...}), FreqDist({'the': 41, '.': 34, ',': 26, 'a': 17, 'of': 16, 'it': 16, 'to': 15, \"'\": 15, 'not': 10, 'i': 10, ...}), FreqDist({'.': 26, 'the': 24, 'a': 18, ',': 18, 'is': 14, 'family': 13, 'and': 9, 'with': 8, 'indian': 7, 'of': 7, ...}), FreqDist({',': 27, 'the': 21, '.': 17, 'is': 13, 'of': 13, 'in': 13, 'a': 13, 'and': 11, 'to': 11, \"'\": 9, ...}), FreqDist({',': 21, 'the': 14, '.': 13, 'a': 13, 'of': 12, 'to': 10, \"'\": 9, 'in': 8, 'as': 8, 'that': 7, ...}), FreqDist({',': 67, '.': 35, 'and': 32, 'the': 26, '\"': 26, 'a': 25, \"'\": 19, 'to': 18, 'in': 18, 'is': 17, ...}), FreqDist({',': 21, 'the': 20, 'a': 16, '.': 16, 'is': 11, 'to': 9, 'he': 7, 'dragon': 7, 'and': 7, 'you': 7, ...}), FreqDist({'the': 46, '.': 35, ',': 29, 'a': 21, 'and': 16, 'of': 15, 'is': 13, 'film': 11, 'that': 11, 'to': 11, ...}), FreqDist({'.': 34, 'the': 33, 'and': 31, 'a': 26, '\"': 20, 'stuart': 17, 'to': 17, ',': 15, 'in': 12, 'little': 11, ...}), FreqDist({',': 35, 'a': 21, '.': 18, 'the': 15, \"'\": 14, 's': 14, 'in': 14, 'and': 12, 'as': 9, 'chan': 9, ...}), FreqDist({'the': 67, ',': 56, '.': 36, 'and': 29, 'a': 28, 'of': 27, \"'\": 22, '-': 22, '\"': 18, 'to': 17, ...}), FreqDist({'.': 26, ',': 23, 'the': 21, 'a': 14, 'is': 13, 'of': 12, \"'\": 11, 'to': 11, 'and': 11, 'this': 8, ...}), FreqDist({'the': 34, ',': 33, 'in': 21, '.': 18, 'and': 17, \"'\": 16, 'to': 15, 'of': 13, 'a': 10, 'jackal': 8, ...}), FreqDist({'the': 30, 'and': 25, ',': 18, 'a': 14, '.': 14, '(': 12, ')': 12, 'of': 10, '-': 9, 'on': 9, ...}), FreqDist({'the': 69, ',': 60, '.': 28, 'a': 27, 'of': 24, 'and': 22, 'is': 21, 'in': 20, '--': 13, 'to': 13, ...}), FreqDist({',': 62, 'the': 41, '.': 27, 'to': 23, 'and': 22, '\"': 20, 'is': 18, 'a': 18, 'that': 14, '-': 14, ...}), FreqDist({',': 38, '.': 38, 'the': 37, 'to': 24, 'of': 23, 'a': 21, 'and': 15, 'in': 14, \"'\": 13, 'as': 12, ...}), FreqDist({',': 91, 'the': 46, 'and': 43, '.': 31, 'a': 31, 'to': 28, '\"': 26, 'is': 24, 'as': 20, 'of': 20, ...}), FreqDist({',': 33, 'and': 27, '.': 19, 'a': 15, 'is': 15, 'the': 11, 'of': 10, 'cousins': 9, \"'\": 9, 'to': 9, ...}), FreqDist({'the': 22, '.': 16, 'of': 8, 'is': 8, 'in': 7, ',': 7, 'a': 6, 'as': 6, 'gay': 5, 'be': 5, ...}), FreqDist({'the': 152, '.': 76, 'of': 69, ',': 63, 'and': 62, \"'\": 62, 'to': 48, 'is': 35, 'in': 35, 'a': 33, ...}), FreqDist({',': 83, 'the': 63, 'of': 32, 'and': 30, 'a': 26, '.': 24, 'is': 17, \"'\": 16, 'story': 14, 'that': 14, ...}), FreqDist({',': 48, 'the': 34, '.': 33, 'and': 20, 'a': 17, \"'\": 15, 'to': 14, 'beatty': 12, 'is': 12, 'in': 10, ...}), FreqDist({'the': 33, ',': 31, '.': 23, \"'\": 20, 'of': 18, 's': 15, 'and': 14, 'patch': 12, 'in': 10, 'it': 10, ...}), FreqDist({',': 47, 'the': 29, 'and': 20, '.': 18, 'a': 15, 'of': 14, 'as': 12, \"'\": 10, 's': 9, 'is': 9, ...}), FreqDist({'the': 60, ',': 45, '.': 26, 'and': 25, 'of': 24, 'a': 16, 'in': 13, \"'\": 13, 'is': 12, 'to': 9, ...}), FreqDist({',': 35, 'a': 22, 'and': 19, '.': 19, 'the': 15, 'of': 10, 'is': 8, 'movie': 8, \"'\": 7, '-': 6, ...}), FreqDist({',': 61, '.': 40, 'the': 40, 'a': 25, 'is': 25, 'of': 21, 'and': 19, 'to': 19, 'with': 14, 'in': 14, ...}), FreqDist({'the': 47, ',': 43, '.': 33, 'of': 26, 'and': 24, 'to': 19, 'a': 17, \"'\": 16, 'is': 14, 'that': 14, ...}), FreqDist({',': 52, 'the': 48, '.': 33, 'of': 20, 'a': 20, 'to': 20, 'and': 18, 'in': 16, 'is': 12, 'by': 11, ...}), FreqDist({'the': 31, '.': 23, ',': 20, 'a': 17, 'of': 16, 'and': 15, 'in': 13, 'is': 10, 'his': 7, 'to': 6, ...}), FreqDist({',': 24, 'the': 21, 'to': 15, '.': 14, 'is': 13, 'his': 10, 'marquis': 8, 'of': 8, 'a': 8, 'and': 8, ...}), FreqDist({',': 77, 'the': 42, 'and': 39, '.': 39, 'a': 30, 'it': 26, 'to': 24, \"'\": 23, 'is': 22, 'of': 15, ...}), FreqDist({',': 44, 'the': 38, \"'\": 27, '.': 24, 'of': 23, 'to': 19, 'and': 18, 'in': 17, 's': 17, '-': 15, ...}), FreqDist({'the': 44, '.': 35, ',': 29, 'and': 25, 'to': 21, 'of': 18, 'a': 17, 'is': 16, 'in': 13, \"'\": 11, ...}), FreqDist({'.': 17, 'a': 14, 'the': 11, \"'\": 10, ',': 9, '(': 8, ')': 8, 'to': 7, 'is': 7, 'fang': 6, ...}), FreqDist({'the': 117, ',': 85, '.': 52, \"'\": 48, 'of': 42, 'a': 39, 'and': 39, 's': 33, 'in': 30, 'film': 30, ...}), FreqDist({'the': 104, ',': 69, 'of': 44, \"'\": 44, 'and': 44, '.': 43, 's': 38, 'to': 31, 'in': 28, 'a': 24, ...}), FreqDist({'.': 36, 'the': 29, ',': 27, 'a': 22, 'of': 19, \"'\": 18, 'in': 15, 'and': 13, 'is': 13, 'that': 10, ...}), FreqDist({'.': 73, 'the': 61, ',': 31, 'to': 29, 'is': 26, 'a': 23, 'and': 23, 'of': 22, 'in': 19, 'stories': 14, ...}), FreqDist({',': 58, 'the': 48, '.': 32, 'a': 29, 'of': 27, \"'\": 23, 'and': 23, 'to': 22, 'is': 17, 'in': 17, ...}), FreqDist({'the': 47, '.': 38, ',': 34, 'a': 26, 'to': 23, 'is': 18, 'of': 15, 'in': 14, 'and': 14, 'guido': 14, ...}), FreqDist({'.': 31, ',': 28, 'the': 21, 'and': 18, 'flynt': 17, 'a': 17, 'is': 13, 'of': 13, \"'\": 13, 's': 13, ...}), FreqDist({',': 60, 'the': 60, '.': 53, 'and': 40, \"'\": 30, 'is': 29, 'a': 27, 'of': 20, 'to': 17, 'in': 17, ...}), FreqDist({',': 26, '.': 18, 'the': 15, \"'\": 11, 'to': 9, 'and': 8, 't': 6, 'movie': 6, '(': 6, ')': 6, ...}), FreqDist({',': 61, '.': 45, 'the': 41, 'and': 19, '+': 16, 'is': 15, 'it': 14, '-': 11, 'i': 10, 'to': 10, ...}), FreqDist({',': 38, 'the': 32, '.': 27, 'a': 19, \"'\": 16, 's': 15, 'and': 15, 'to': 14, 'in': 13, '\"': 10, ...}), FreqDist({'.': 30, 'the': 26, ',': 25, 'a': 14, 'of': 13, 'and': 11, 'to': 10, '(': 9, ')': 9, 'in': 6, ...}), FreqDist({'the': 34, ',': 26, '.': 24, 'is': 17, 'it': 15, 'to': 15, 'and': 14, 'in': 12, '-': 12, 'of': 11, ...}), FreqDist({',': 35, 'the': 29, 'of': 20, 'in': 19, '.': 18, 'and': 17, 'a': 17, \"'\": 12, 'that': 12, 's': 9, ...}), FreqDist({',': 30, '.': 26, 'the': 18, '-': 14, 'a': 13, 'and': 12, 'his': 10, \"'\": 9, 'stuart': 9, 'is': 9, ...}), FreqDist({',': 49, '.': 48, 'the': 38, 'a': 27, '\"': 26, 'of': 22, 'is': 21, '-': 20, 'and': 18, \"'\": 17, ...}), FreqDist({'the': 46, ',': 41, '.': 31, \"'\": 29, 'a': 25, 's': 18, 'and': 18, 'of': 17, 'truman': 15, 'it': 13, ...}), FreqDist({',': 44, 'the': 35, '.': 22, 'a': 20, 'of': 17, 'i': 8, 'in': 8, \"'\": 7, 'that': 7, 'is': 7, ...}), FreqDist({'.': 28, 'the': 26, 'a': 23, ',': 22, 'of': 20, 'and': 18, 'to': 16, 'is': 15, 'in': 14, 'he': 10, ...}), FreqDist({',': 39, '.': 30, 'the': 30, 'is': 21, 'and': 19, 'a': 18, \"'\": 18, 'simon': 13, 'he': 13, 'of': 11, ...}), FreqDist({',': 41, 'the': 34, '.': 32, 'to': 26, 'a': 22, 'of': 15, 'and': 15, 'is': 14, 'his': 13, 'in': 12, ...}), FreqDist({',': 55, 'the': 46, '.': 24, 'and': 20, 'to': 15, 'of': 15, \"'\": 14, 'a': 14, 'that': 14, 'is': 12, ...}), FreqDist({',': 18, '.': 17, 'a': 11, 'the': 9, 'i': 8, 'and': 7, 'is': 6, 'with': 6, 'of': 5, 'this': 4, ...}), FreqDist({'.': 37, ',': 37, 'the': 20, '-': 18, \"'\": 17, 'to': 16, 'a': 14, 'and': 13, '(': 13, ')': 13, ...}), FreqDist({'.': 42, ',': 36, 'to': 30, 'the': 27, 'a': 25, \"'\": 24, 'and': 18, 's': 17, 'of': 15, 'as': 12, ...}), FreqDist({',': 37, 'the': 29, 'and': 18, '-': 17, '.': 17, 'a': 16, 'in': 15, \"'\": 15, 'to': 14, 'truman': 11, ...}), FreqDist({'.': 27, 'the': 20, 'in': 16, 'of': 16, ',': 14, 'is': 13, \"'\": 12, 'a': 12, 'and': 9, 's': 8, ...}), FreqDist({',': 37, 'the': 36, '.': 33, 'a': 26, 'to': 18, 'is': 17, 'of': 16, '\"': 16, 'and': 14, 'in': 13, ...}), FreqDist({'the': 40, ',': 26, '.': 23, 'and': 23, 'of': 21, 'a': 14, \"'\": 12, 's': 11, 'in': 11, 'to': 8, ...}), FreqDist({'the': 28, 'and': 25, ',': 23, '.': 17, 'of': 15, 'a': 14, 'to': 9, 'in': 9, 'john': 7, 'as': 7, ...}), FreqDist({',': 33, 'the': 33, '.': 22, \"'\": 20, 'and': 18, 'a': 17, 's': 14, 'to': 13, 'in': 12, 'is': 11, ...}), FreqDist({'the': 32, ',': 29, '.': 28, 'a': 19, 'of': 17, \"'\": 12, 's': 11, 'and': 11, 'to': 10, 'in': 8, ...}), FreqDist({'the': 24, '.': 23, ',': 16, 'of': 15, 'a': 12, 'to': 10, 'it': 8, \"'\": 8, 'computer': 8, 'is': 7, ...}), FreqDist({'the': 32, ',': 25, '.': 24, 'of': 19, 'a': 17, 'and': 17, 'to': 13, \"'\": 9, 's': 9, '-': 8, ...}), FreqDist({',': 44, 'the': 34, '.': 34, 'and': 24, \"'\": 24, 'to': 20, 'of': 16, 's': 15, 'a': 15, 'in': 14, ...}), FreqDist({',': 26, '.': 21, 'the': 17, \"'\": 15, 'a': 13, 'to': 12, 's': 9, 'it': 8, 'and': 8, 'is': 7, ...}), FreqDist({'the': 22, '.': 19, ',': 17, \"'\": 15, 'a': 12, 's': 10, 'and': 10, 'of': 8, 'with': 6, 'chan': 6, ...}), FreqDist({'.': 58, 'the': 50, ',': 50, 'a': 27, 'and': 22, 'to': 21, 'is': 18, 'of': 15, 'it': 14, 'titanic': 13, ...}), FreqDist({'the': 29, 'of': 20, '.': 16, ',': 15, '\"': 14, 'and': 13, 'a': 10, 'that': 10, \"'\": 8, 'to': 7, ...}), FreqDist({',': 44, 'the': 36, '.': 30, 'of': 22, 'and': 19, '-': 18, 'a': 18, \"'\": 13, 'to': 12, 'is': 11, ...}), FreqDist({'the': 64, ',': 53, 'of': 37, 'and': 27, '.': 27, '\"': 20, 'a': 20, 'to': 19, 'in': 19, 'it': 15, ...}), FreqDist({',': 66, 'the': 48, '.': 38, 'a': 33, 'and': 28, 'of': 26, 'is': 24, 'he': 23, 'his': 20, 'bubby': 18, ...}), FreqDist({'the': 36, ',': 25, 'a': 19, '.': 17, 'and': 16, 'that': 15, 'of': 11, 'is': 10, \"'\": 10, '-': 9, ...}), FreqDist({'the': 52, ',': 33, 'of': 29, '.': 27, 'in': 20, 'a': 18, 'and': 15, 'her': 15, '-': 13, 'is': 13, ...}), FreqDist({',': 83, 'the': 76, '.': 53, 'to': 35, 'a': 32, 'of': 32, 'and': 28, 'as': 26, 'is': 25, \"'\": 24, ...}), FreqDist({',': 43, 'the': 34, 'and': 24, '.': 23, 'a': 18, '\"': 18, 'to': 17, 'of': 17, \"'\": 15, '-': 13, ...}), FreqDist({',': 57, '.': 47, 'the': 42, \"'\": 31, 'i': 26, 'in': 21, 'it': 21, 'and': 19, 'to': 18, 'is': 16, ...}), FreqDist({',': 30, '\"': 20, 'and': 14, 'a': 12, '.': 9, 'the': 9, '(': 7, ')': 7, 'to': 6, '-': 5, ...}), FreqDist({',': 36, 'the': 26, '.': 22, 'a': 18, 'of': 17, 'to': 12, 'is': 11, 'and': 8, 'with': 8, 'that': 7, ...}), FreqDist({',': 88, 'the': 79, '.': 68, 'of': 40, 'a': 40, 'is': 30, 'to': 29, 'film': 24, 'and': 24, 'aliens': 20, ...}), FreqDist({'the': 20, '.': 15, ',': 13, \"'\": 12, 'rudy': 11, 'is': 10, 'of': 10, 'and': 10, 's': 9, 'a': 9, ...}), FreqDist({',': 16, 'the': 14, '.': 13, 'i': 11, 'a': 9, 'as': 7, 'in': 6, 'of': 6, 'and': 6, 'casablanca': 5, ...}), FreqDist({',': 39, '.': 28, 'the': 22, 'a': 20, 'of': 14, \"'\": 9, 'it': 9, 'is': 9, '-': 7, 's': 6, ...}), FreqDist({',': 48, '.': 35, 'of': 23, 'a': 22, 'the': 19, \"'\": 16, 'in': 14, '(': 13, ')': 13, '\"': 12, ...}), FreqDist({',': 30, 'is': 27, '.': 23, 'the': 21, 'and': 19, 'his': 19, 'in': 15, 'a': 15, 'he': 15, 'with': 14, ...}), FreqDist({',': 19, 'the': 18, 'of': 14, \"'\": 12, 'and': 11, '.': 9, 'a': 9, 's': 8, '\"': 8, 'to': 8, ...}), FreqDist({'.': 27, ',': 23, 'the': 15, 'it': 14, 'and': 14, \"'\": 13, 'to': 12, 'a': 11, 'is': 9, 's': 9, ...}), FreqDist({',': 24, '.': 21, 'the': 21, \"'\": 15, 'to': 13, 's': 11, 'a': 10, 'and': 10, '-': 9, 'of': 8, ...}), FreqDist({',': 62, 'the': 58, 'of': 46, 'a': 41, \"'\": 30, 's': 26, '.': 22, 'and': 21, 'in': 18, 'that': 17, ...}), FreqDist({',': 21, '.': 15, 'the': 14, 'and': 13, 'a': 11, 'of': 9, '-': 9, 'baby': 8, \"'\": 7, 's': 6, ...}), FreqDist({'the': 72, 'of': 35, '.': 27, ',': 25, \"'\": 16, 'in': 15, 'to': 15, 's': 13, 'mob': 13, 'a': 12, ...}), FreqDist({'the': 37, ',': 36, 'of': 22, '.': 21, 'a': 19, 'and': 19, 'to': 15, '\"': 10, 'that': 9, '-': 8, ...}), FreqDist({'.': 48, 'the': 48, ',': 45, 'is': 20, 'and': 20, 'of': 17, 'a': 16, 'to': 14, '-': 12, 'are': 11, ...}), FreqDist({',': 31, 'the': 29, 'a': 25, '.': 24, 'and': 19, 'is': 16, \"'\": 11, ';': 11, 'of': 9, '(': 9, ...}), FreqDist({'the': 49, ',': 28, '.': 26, 'to': 20, 'a': 16, 'of': 16, 'in': 13, \"'\": 10, 'with': 9, 'and': 9, ...}), FreqDist({'the': 39, '.': 36, ',': 29, 'of': 17, 'a': 17, \"'\": 14, 'and': 12, 'to': 11, 'that': 11, 's': 11, ...}), FreqDist({'the': 42, '.': 37, 'a': 22, 'of': 20, \"'\": 20, 'is': 19, 'his': 18, ',': 18, 'in': 15, 's': 12, ...}), FreqDist({'the': 13, '.': 11, ',': 6, 'for': 6, 'a': 5, 'as': 5, 'of': 4, 'is': 4, 'in': 4, 'war': 3, ...}), FreqDist({\"'\": 36, 'i': 15, '.': 12, 'and': 9, 'to': 8, 'the': 8, ',': 7, 's': 6, 'that': 6, 'a': 5, ...}), FreqDist({'the': 72, ',': 72, '.': 40, 'of': 37, \"'\": 31, 'a': 25, 'and': 25, 's': 24, 'to': 22, 'in': 18, ...}), FreqDist({'the': 51, ',': 40, '.': 38, 'to': 27, 'of': 21, 'is': 18, \"'\": 17, '\"': 16, 'and': 14, 'that': 12, ...}), FreqDist({',': 79, 'the': 46, '\"': 44, 'a': 38, \"'\": 36, 'and': 36, 'it': 29, '.': 27, 's': 24, '-': 19, ...}), FreqDist({'the': 44, '.': 33, ',': 27, 'a': 26, \"'\": 20, 'to': 19, '\"': 18, 'of': 17, 'cole': 12, 'is': 11, ...}), FreqDist({',': 30, '.': 27, 'a': 17, 'and': 14, 'the': 13, 'of': 12, 'is': 12, \"'\": 8, 'he': 7, 'his': 7, ...}), FreqDist({',': 54, '.': 35, 'the': 32, \"'\": 30, 'a': 26, 's': 21, 'to': 21, 'and': 19, '\"': 16, '-': 16, ...}), FreqDist({',': 30, \"'\": 23, 'a': 21, 's': 17, '.': 17, 'the': 16, 'of': 11, 'his': 10, 'as': 8, 'he': 8, ...}), FreqDist({',': 38, '.': 27, 'a': 21, 'the': 21, '\"': 20, \"'\": 16, 's': 13, 'is': 10, 'to': 10, 'of': 10, ...}), FreqDist({'the': 41, ',': 39, '.': 29, 'and': 21, 'of': 20, 'dolores': 14, 'a': 14, 'is': 14, '-': 12, 'film': 9, ...}), FreqDist({'the': 72, ',': 45, '.': 43, 'and': 28, \"'\": 25, 'to': 24, 'a': 24, 'is': 23, 'of': 22, 's': 18, ...}), FreqDist({',': 97, 'the': 73, '?': 70, '.': 35, '\"': 34, 'of': 30, 'a': 28, 'to': 24, 'and': 24, 'in': 21, ...}), FreqDist({',': 21, 'the': 14, '.': 14, 'and': 14, 'to': 10, 'tom': 7, \"'\": 6, 'is': 5, ':': 4, 'karen': 4, ...}), FreqDist({',': 42, '.': 28, 'the': 24, 'a': 23, 'is': 22, \"'\": 20, 'and': 18, 'to': 12, 'it': 11, 'as': 11, ...}), FreqDist({'.': 33, ',': 32, 'to': 17, 'the': 16, \"'\": 16, 'a': 15, 'it': 12, 's': 11, 'that': 10, 'he': 10, ...}), FreqDist({'a': 26, '.': 20, 'the': 20, ',': 18, 'of': 16, 'to': 14, 'in': 12, 'dance': 11, \"'\": 10, '-': 9, ...}), FreqDist({'the': 55, ',': 47, '.': 39, 'of': 26, 'a': 23, 'his': 20, 'to': 20, 'is': 12, 'in': 12, 'and': 11, ...}), FreqDist({',': 68, '.': 41, 'the': 39, \"'\": 32, 'a': 26, 'i': 25, 'of': 25, 'and': 23, 'is': 22, 'to': 20, ...}), FreqDist({',': 65, 'the': 41, '.': 37, \"'\": 30, 'a': 30, 'of': 28, 'in': 25, 's': 23, 'and': 20, 'to': 19, ...}), FreqDist({'the': 39, '\"': 20, '.': 20, 'of': 16, ',': 15, 'i': 14, 'to': 12, 'film': 8, 'and': 7, 'that': 7, ...}), FreqDist({'the': 81, ',': 58, '.': 42, 'is': 38, 'a': 36, 'and': 32, 'of': 29, 'to': 28, 'in': 24, \"'\": 20, ...}), FreqDist({'the': 37, '.': 35, 'to': 20, 'is': 20, 'of': 18, 'a': 17, 'and': 17, '\"': 14, 'in': 14, 'film': 11, ...}), FreqDist({'.': 80, 'the': 69, ',': 59, 'and': 46, 'a': 35, 'to': 34, 'of': 29, '\"': 26, \"'\": 26, 'that': 23, ...}), FreqDist({',': 22, '\"': 20, 'the': 18, 'of': 12, '.': 10, 'a': 9, \"'\": 7, 'will': 6, 'hunting': 6, 'good': 5, ...}), FreqDist({',': 35, '.': 33, 'the': 25, 'is': 21, \"'\": 21, 'a': 19, 'to': 19, 'and': 17, 's': 16, '-': 13, ...}), FreqDist({',': 23, '.': 22, 'the': 21, 'and': 17, \"'\": 14, '\"': 14, '-': 13, 'a': 13, 'is': 12, 's': 11, ...}), FreqDist({'.': 113, ',': 110, 'the': 93, 'a': 50, \"'\": 49, 'of': 40, 'to': 40, 'and': 35, 'in': 32, 'is': 30, ...}), FreqDist({'the': 33, ',': 26, '.': 26, '\"': 22, \"'\": 21, 'to': 17, 'and': 15, '-': 13, 'a': 13, 'of': 13, ...}), FreqDist({',': 53, 'the': 35, '.': 35, 'a': 33, \"'\": 29, 'of': 20, 's': 20, 'to': 20, 'and': 17, 'that': 15, ...}), FreqDist({',': 38, 'the': 37, 'a': 29, 'of': 22, '.': 22, 'and': 21, '\"': 16, 'to': 12, 'are': 9, 'that': 9, ...}), FreqDist({',': 24, '.': 23, 'a': 21, 'the': 16, \"'\": 14, 'and': 10, 'his': 9, '\"': 8, 'that': 8, 's': 8, ...}), FreqDist({',': 68, 'the': 62, '.': 41, 'of': 29, 'a': 28, 'and': 27, 'is': 24, \"'\": 19, 'to': 18, '(': 17, ...}), FreqDist({'.': 57, ',': 53, 'the': 52, 'he': 36, 'and': 31, 'to': 30, \"'\": 25, 'a': 24, 'his': 22, 'of': 22, ...}), FreqDist({',': 32, '.': 26, 'the': 23, \"'\": 22, 'a': 19, 's': 13, 'to': 12, '(': 12, ')': 12, 'of': 12, ...}), FreqDist({'the': 27, '.': 25, ',': 21, 'of': 15, 'to': 13, 'is': 12, 'in': 12, 'a': 12, 'truman': 11, 'and': 10, ...}), FreqDist({',': 57, '.': 34, 'the': 33, 'and': 20, 'is': 18, 'a': 15, '(': 15, ')': 15, 'film': 14, \"'\": 9, ...}), FreqDist({'the': 42, ',': 28, 'of': 24, '.': 23, 'to': 15, 'and': 14, \"'\": 13, 's': 12, 'a': 12, 'in': 11, ...}), FreqDist({',': 52, 'the': 33, 'of': 31, '.': 30, 'and': 22, 'in': 15, \"'\": 14, 'with': 10, 'is': 10, 'to': 9, ...}), FreqDist({',': 32, 'a': 26, 'the': 19, '.': 19, \"'\": 17, 's': 14, 'of': 14, 'to': 12, 'and': 11, '(': 8, ...}), FreqDist({'the': 118, ',': 87, 'to': 64, 'and': 47, 'that': 42, 'of': 42, 'is': 40, '.': 33, 'in': 33, 'a': 30, ...}), FreqDist({'the': 18, '.': 14, ',': 11, '(': 9, ')': 9, 'is': 8, 'and': 8, 'of': 6, 'a': 5, 'film': 5, ...}), FreqDist({',': 50, '.': 49, 'the': 36, 'to': 27, 'and': 25, 'is': 23, 'a': 22, \"'\": 18, 'he': 18, 'lucas': 17, ...}), FreqDist({'the': 30, ',': 16, 'a': 16, '.': 16, 'of': 15, 'to': 13, 'in': 10, 'and': 10, 'is': 7, 'be': 7, ...}), FreqDist({',': 52, 'the': 50, '.': 31, '\"': 30, 'a': 30, 'he': 28, 'of': 26, 'and': 23, 'his': 20, 'to': 20, ...}), FreqDist({',': 76, '\"': 70, 'the': 64, '.': 55, \"'\": 39, 'a': 39, 'and': 37, 'of': 30, 'to': 25, 'that': 19, ...}), FreqDist({'\"': 60, ',': 58, 'the': 55, '.': 41, 'of': 32, 'a': 30, 'and': 26, 'to': 18, \"'\": 18, '-': 15, ...}), FreqDist({',': 71, 'the': 26, '.': 26, 'is': 24, 'a': 24, 'to': 22, 'and': 20, 'of': 15, 'in': 13, '\"': 12, ...}), FreqDist({'.': 20, ',': 13, 'and': 12, 'that': 11, 'the': 10, 'between': 7, 'love': 6, 'redefines': 5, 'a': 4, 'scene': 4, ...}), FreqDist({'the': 64, ',': 62, '.': 58, 'a': 39, 'of': 38, \"'\": 27, 'to': 25, 'in': 25, 'and': 21, 'that': 18, ...}), FreqDist({'the': 34, ',': 34, '.': 24, 'of': 21, 'and': 16, 'to': 16, 'a': 15, 'is': 10, 'october': 8, 'in': 8, ...}), FreqDist({',': 8, '.': 7, 'the': 6, 'with': 4, 'of': 4, \"'\": 4, '/': 3, 'and': 3, 'clay': 3, 'this': 2, ...}), FreqDist({'the': 37, '.': 33, 'to': 27, ',': 24, 'a': 21, 'is': 18, 'of': 17, 'and': 15, 'as': 13, 'in': 9, ...}), FreqDist({',': 79, '.': 42, 'the': 40, 'of': 26, \"'\": 25, 'in': 25, 'a': 24, 'and': 23, 'to': 18, 's': 15, ...}), FreqDist({'the': 44, 'of': 25, '.': 24, 'a': 20, 'to': 20, ',': 19, 'in': 18, '-': 18, 'for': 14, 'and': 12, ...}), FreqDist({',': 70, 'the': 64, '.': 53, 'a': 46, 'of': 38, 'and': 36, \"'\": 34, 'to': 26, '\"': 20, 'in': 19, ...}), FreqDist({',': 31, '.': 23, 'the': 23, 'and': 15, \"'\": 10, 'is': 9, 'a': 9, 'of': 9, '-': 8, 'their': 7, ...}), FreqDist({',': 48, 'of': 35, 'the': 33, '.': 32, 'and': 29, 'in': 21, \"'\": 16, 'to': 15, 'fellini': 15, 'film': 12, ...}), FreqDist({'.': 32, ',': 21, 'the': 19, 'a': 18, \"'\": 14, 'to': 10, 'of': 10, 'and': 9, 'i': 8, 'is': 8, ...}), FreqDist({',': 36, 'the': 30, \"'\": 26, '.': 23, 's': 19, 'a': 19, 'and': 18, '-': 13, 'is': 12, 'of': 12, ...}), FreqDist({'the': 61, '.': 39, ',': 34, '-': 18, 'and': 18, 'trek': 16, '(': 16, ')': 16, 'to': 15, 'of': 15, ...}), FreqDist({'the': 69, '.': 46, 'of': 24, 'to': 21, 'is': 19, '\"': 18, ',': 17, 'a': 16, 'and': 13, 'are': 13, ...}), FreqDist({',': 36, '.': 32, 'the': 26, 'to': 22, 'that': 17, \"'\": 17, 'he': 16, '\"': 14, 'his': 13, 'of': 12, ...}), FreqDist({'the': 29, ',': 28, '.': 22, 'to': 16, 'a': 16, 'and': 15, 'kermit': 15, 'movie': 14, 'is': 10, 'of': 9, ...}), FreqDist({',': 34, 'the': 30, '.': 20, 'and': 12, '-': 11, 'of': 9, 'in': 8, 'a': 7, 'to': 6, 'com': 6, ...}), FreqDist({'the': 58, ',': 52, 'of': 29, '\"': 28, 'and': 28, '.': 22, 'a': 20, 'in': 18, 'to': 12, 'their': 11, ...}), FreqDist({'the': 37, ',': 26, '.': 19, 'of': 19, 'a': 15, 'and': 15, \"'\": 13, 'in': 12, 's': 11, 'is': 9, ...}), FreqDist({'the': 49, '.': 35, ',': 31, 'and': 15, 'is': 14, 'in': 14, 'that': 13, 'of': 12, '\"': 12, 'this': 11, ...}), FreqDist({',': 45, 'the': 44, 'and': 22, '.': 22, 'is': 21, 'a': 17, 'alien': 14, 'of': 13, 'to': 12, \"'\": 11, ...}), FreqDist({',': 72, 'the': 53, '.': 47, 'and': 43, '\"': 38, 'to': 33, \"'\": 31, 'a': 28, 'is': 26, 's': 24, ...}), FreqDist({'the': 43, '.': 36, 'a': 25, ',': 25, 'and': 14, 'is': 14, 'of': 14, 'to': 11, \"'\": 10, 'it': 9, ...}), FreqDist({'the': 65, '.': 38, ',': 36, 'and': 27, 'of': 20, 'to': 19, 'is': 18, 'as': 17, 'a': 15, '\"': 14, ...}), FreqDist({'the': 28, '.': 25, 'and': 22, ',': 13, 'of': 11, 'is': 10, 'a': 10, \"'\": 9, 'in': 6, 'are': 5, ...}), FreqDist({'the': 43, '.': 31, ',': 26, 'to': 23, 'and': 20, 'of': 19, 'a': 18, 'is': 17, 'film': 16, \"'\": 13, ...}), FreqDist({',': 62, 'the': 54, '.': 32, 'a': 29, 'and': 26, 'is': 26, '\"': 22, 'of': 22, \"'\": 18, 'her': 17, ...}), FreqDist({'the': 49, ',': 37, '.': 37, 'and': 32, 'a': 30, '\"': 22, 'to': 21, 'of': 14, 'is': 12, 'in': 12, ...}), FreqDist({',': 55, 'the': 27, '.': 23, \"'\": 20, 'and': 20, 'a': 18, 'of': 14, 'it': 13, 'i': 10, 'as': 10, ...}), FreqDist({',': 54, 'the': 44, '.': 39, 'a': 39, 'and': 29, 'will': 20, \"'\": 19, 'of': 19, 'is': 18, 'to': 17, ...}), FreqDist({'the': 58, '.': 43, ',': 37, 'to': 19, 'and': 19, \"'\": 17, 'it': 15, 'of': 14, 'a': 12, 'you': 12, ...}), FreqDist({',': 25, 'the': 22, '.': 22, 'and': 17, 'a': 10, 'to': 9, \"'\": 8, 's': 8, 'in': 7, 'he': 7, ...}), FreqDist({',': 66, 'the': 62, '.': 59, 'of': 44, 'and': 42, 'to': 36, 'in': 36, 'as': 21, '-': 19, 'film': 18, ...}), FreqDist({'the': 67, ',': 52, '.': 39, 'and': 29, 'to': 27, 'a': 26, 'of': 23, \"'\": 22, 'i': 20, 'that': 19, ...}), FreqDist({',': 85, 'the': 64, 'to': 34, 'and': 33, '.': 32, 'of': 27, 'a': 27, 'is': 22, 'it': 22, 'that': 19, ...}), FreqDist({'the': 20, ',': 18, '\"': 12, '.': 11, 'of': 9, 'a': 8, 'shrek': 7, 'in': 7, 'and': 7, \"'\": 6, ...}), FreqDist({',': 56, '.': 52, 'the': 40, 'is': 37, 'and': 21, 'a': 19, 'in': 18, 'of': 18, 'to': 17, 'that': 16, ...}), FreqDist({'the': 25, '.': 22, 'a': 16, \"'\": 13, 'of': 12, ',': 12, '-': 10, 'to': 9, 'is': 8, 'it': 6, ...}), FreqDist({'the': 81, ',': 67, '.': 59, \"'\": 34, 'and': 31, 'a': 28, 'in': 25, 's': 23, 'to': 19, 'of': 17, ...}), FreqDist({'.': 30, 'the': 27, '=': 22, ',': 20, 'to': 17, 'of': 15, 'a': 11, 'his': 10, 'is': 9, 'as': 9, ...}), FreqDist({',': 84, 'the': 70, 'a': 52, '.': 47, 'of': 43, \"'\": 39, 'to': 37, 'and': 32, 'that': 26, 'i': 26, ...}), FreqDist({'the': 48, '\"': 36, ',': 36, 'and': 26, '.': 25, 'in': 22, 'of': 21, 'a': 19, 'to': 16, 'as': 13, ...}), FreqDist({'the': 19, ',': 19, '.': 12, 'a': 11, 'and': 10, 'is': 7, 'of': 7, 'to': 6, 'full': 5, 'monty': 5, ...}), FreqDist({'.': 86, ',': 76, 'the': 73, 'a': 35, 'of': 33, 'and': 30, 'is': 27, 'to': 20, 'gattaca': 17, 'film': 15, ...}), FreqDist({'the': 43, ',': 37, '.': 33, 'of': 18, 'a': 17, 'is': 17, 'and': 15, 'it': 13, 'to': 13, 'truman': 11, ...}), FreqDist({'the': 28, ',': 20, '.': 18, 'of': 13, 'and': 9, 'in': 8, 'a': 7, '-': 7, 'to': 6, 'with': 6, ...}), FreqDist({'.': 26, 'the': 22, 'is': 18, 'a': 14, 'he': 13, 'of': 13, 'and': 10, 'in': 8, 'this': 5, 'film': 5, ...}), FreqDist({',': 47, 'the': 40, '.': 37, '\"': 32, 'to': 19, \"'\": 18, 'of': 15, 'and': 14, 'in': 14, 'a': 13, ...}), FreqDist({'the': 42, ',': 36, '.': 25, 'of': 20, 'is': 17, 'it': 16, \"'\": 16, 'a': 13, '\"': 12, 'i': 11, ...}), FreqDist({'.': 24, 'the': 18, 'rocky': 17, \"'\": 12, 'to': 10, 'a': 7, 'of': 7, ',': 6, '\"': 6, 'fight': 6, ...}), FreqDist({',': 97, 'the': 82, '.': 65, 'of': 50, 'a': 46, 'and': 42, 'is': 35, \"'\": 34, 'to': 30, 'in': 26, ...}), FreqDist({',': 85, \"'\": 57, 'the': 54, '.': 49, 'a': 47, 'to': 46, 'is': 37, 'and': 34, 's': 30, 'in': 29, ...}), FreqDist({',': 27, 'the': 15, '.': 13, 'of': 11, 'a': 10, 'and': 8, 'jerry': 7, 'his': 7, 'in': 6, 'he': 6, ...}), FreqDist({'.': 34, 'the': 32, 'is': 26, 'a': 16, 'it': 13, 'that': 12, ',': 12, 'and': 12, 'to': 10, 'mamet': 10, ...}), FreqDist({'the': 46, '.': 42, ',': 42, 'in': 26, 'is': 22, 'of': 21, 'and': 19, 'to': 18, '-': 17, 'a': 15, ...}), FreqDist({',': 78, 'the': 58, '\"': 39, 'to': 33, '.': 31, 'and': 30, 'a': 30, 'is': 28, 'of': 20, 'in': 17, ...}), FreqDist({',': 62, 'the': 54, '.': 46, 'of': 39, 'a': 31, 'in': 28, 'and': 24, 'to': 23, 'chad': 20, 'it': 17, ...}), FreqDist({',': 88, '.': 50, 'the': 38, \"'\": 29, 'a': 27, 'and': 25, 's': 17, 'is': 16, 'of': 14, '(': 11, ...}), FreqDist({'the': 68, ',': 52, '.': 42, 'of': 31, \"'\": 26, 'is': 23, 's': 22, 'a': 22, 'in': 18, 'to': 18, ...}), FreqDist({',': 64, 'the': 45, '.': 37, 'of': 33, 'a': 32, \"'\": 20, 'and': 20, '\"': 18, '(': 17, ')': 17, ...}), FreqDist({',': 37, 'the': 35, '.': 28, '\"': 20, 'and': 19, \"'\": 19, 'a': 17, 'to': 17, 'of': 17, 'his': 13, ...}), FreqDist({',': 22, 'the': 21, '.': 16, \"'\": 12, 's': 12, '-': 11, 'was': 11, 'in': 10, 'of': 9, '(': 8, ...}), FreqDist({',': 47, '.': 28, 'and': 19, 'the': 17, 'a': 13, 'to': 12, 'movie': 10, 'but': 7, '\"': 6, 'south': 6, ...}), FreqDist({',': 42, '.': 35, '?': 31, 'the': 30, '\"': 18, 'spice': 14, 'and': 13, \"'\": 12, 'to': 12, 'of': 12, ...}), FreqDist({'\"': 56, 'the': 54, '.': 54, ',': 38, 'a': 31, 'of': 28, 'and': 24, 'to': 22, 'his': 22, 'in': 18, ...}), FreqDist({'the': 40, '.': 26, ',': 25, 'a': 20, 'to': 15, 'is': 14, 'in': 13, 'and': 13, 'of': 12, 'that': 10, ...}), FreqDist({',': 30, 'the': 28, '.': 23, 'and': 16, 'of': 15, 'a': 13, 'to': 12, 'is': 11, \"'\": 10, 'with': 10, ...}), FreqDist({'.': 27, 'the': 24, ',': 24, 'and': 18, \"'\": 18, 'to': 15, 'a': 13, 's': 11, 'in': 10, 'her': 9, ...}), FreqDist({'the': 124, '.': 116, ',': 114, 'of': 62, 'a': 50, 'and': 49, 'is': 40, 'to': 37, 'alien': 36, 'in': 32, ...}), FreqDist({'the': 45, '.': 28, ',': 20, \"'\": 20, 'and': 18, 'film': 17, 'a': 15, 'of': 15, 'to': 15, 's': 15, ...}), FreqDist({'.': 31, ',': 27, 'the': 20, 'and': 16, 'a': 16, 'of': 14, 'as': 9, 'in': 8, \"'\": 7, 's': 7, ...}), FreqDist({'the': 16, ',': 13, 'a': 11, '.': 11, \"'\": 8, 'is': 7, 'that': 7, 'of': 7, 's': 6, 'as': 5, ...}), FreqDist({'the': 13, ',': 8, 'and': 6, 'to': 6, 'of': 5, '.': 5, 'it': 4, 'scorsese': 3, 'dalai': 3, 'lama': 3, ...}), FreqDist({'the': 16, ',': 15, '.': 15, 'is': 13, 'and': 13, 'to': 12, 'a': 11, '-': 11, 'it': 6, ':': 5, ...}), FreqDist({'the': 28, '.': 23, ',': 21, 'of': 19, 'a': 16, 'and': 15, 'is': 10, 'as': 10, 'elizabeth': 9, 'in': 9, ...}), FreqDist({'the': 24, '.': 21, 'and': 19, 'a': 13, ',': 12, 'is': 10, 'to': 9, 'of': 8, '(': 7, ')': 7, ...}), FreqDist({',': 26, '.': 15, 'a': 14, 'the': 12, 'is': 10, 'it': 9, 'with': 8, 'run': 8, 'movie': 7, 'that': 6, ...}), FreqDist({',': 51, 'the': 22, '.': 21, 'and': 20, 'a': 19, \"'\": 18, 'that': 14, 'is': 13, 'to': 12, 'it': 12, ...}), FreqDist({',': 32, 'the': 30, '.': 21, 'a': 18, 'mulan': 16, 'and': 14, 'to': 12, 'is': 11, 'of': 11, '-': 11, ...}), FreqDist({'the': 51, ',': 39, '.': 33, 'and': 20, 'his': 16, 'is': 16, 'a': 14, 'to': 14, 'of': 14, 'as': 10, ...}), FreqDist({',': 71, 'the': 65, '.': 39, 'of': 33, 'and': 32, 'a': 24, \"'\": 23, 'is': 18, 'in': 17, 's': 14, ...}), FreqDist({',': 61, 'the': 46, '.': 39, 'and': 29, \"'\": 26, '-': 21, 'of': 20, 'is': 18, 'a': 17, 'it': 16, ...}), FreqDist({',': 33, '.': 26, 'to': 21, 'the': 19, \"'\": 15, 'and': 14, 's': 11, 'of': 11, 'mike': 10, 'a': 10, ...}), FreqDist({'.': 40, 'the': 38, 'a': 22, ',': 17, \"'\": 16, 'to': 15, 'in': 15, 'is': 12, '\"': 12, 's': 10, ...}), FreqDist({',': 23, '.': 13, 'of': 10, '\"': 10, 'the': 10, '-': 10, \"'\": 9, 'a': 9, 's': 8, 'and': 6, ...}), FreqDist({'.': 27, 'the': 24, ',': 23, 'a': 19, 'elizabeth': 15, 'her': 14, 'and': 13, 'of': 11, 'is': 10, 'with': 10, ...}), FreqDist({',': 30, '.': 28, 'and': 17, '-': 15, 'to': 15, 'a': 14, 'is': 14, 'the': 13, 'his': 10, 'bobby': 10, ...}), FreqDist({'the': 36, ',': 24, '.': 23, 'and': 18, 'is': 15, 'of': 12, 'in': 10, 'rumpo': 8, 'his': 8, 'he': 8, ...}), FreqDist({'.': 52, ',': 49, 'the': 39, 'a': 28, \"'\": 26, 'to': 25, 'and': 21, 'is': 19, 'it': 14, 's': 14, ...}), FreqDist({'the': 43, ',': 39, '.': 33, \"'\": 23, 'to': 20, 'is': 17, 'of': 13, 'and': 13, 'in': 12, 's': 11, ...}), FreqDist({',': 32, '.': 30, 'the': 21, 'it': 20, 'a': 18, \"'\": 17, 'and': 15, 'to': 15, 'of': 14, 's': 13, ...}), FreqDist({',': 72, 'the': 59, '.': 43, 'to': 33, 'and': 31, 'of': 30, 'a': 22, \"'\": 21, 'is': 20, 'it': 15, ...}), FreqDist({'the': 54, ',': 49, '.': 37, 'to': 31, 'of': 31, 'truman': 19, \"'\": 19, 'a': 17, 'is': 16, 'and': 15, ...}), FreqDist({'the': 44, ',': 44, '.': 43, '\"': 32, 'i': 24, \"'\": 20, 'of': 19, 'a': 19, 'to': 18, 'that': 17, ...}), FreqDist({',': 81, 'the': 78, '.': 50, 'of': 35, 'to': 31, 'is': 23, 'a': 21, 'in': 20, 'and': 19, \"'\": 17, ...}), FreqDist({'.': 15, 'the': 15, ',': 11, 'and': 9, 'to': 9, 'a': 7, 'movie': 7, 'they': 7, 'this': 6, 'you': 6, ...}), FreqDist({'the': 39, ',': 33, '.': 28, 'and': 23, 'a': 18, 'is': 13, 'to': 13, 'of': 11, \"'\": 10, 'in': 9, ...}), FreqDist({'the': 28, '.': 28, ',': 25, 'a': 18, 'of': 18, 'and': 16, 'to': 14, 'is': 11, 'for': 11, 'that': 11, ...}), FreqDist({',': 41, '.': 29, 'the': 26, 'a': 24, 'and': 17, 'is': 11, 'of': 10, 'it': 10, 'to': 9, '--': 8, ...}), FreqDist({'.': 31, 'the': 26, ',': 25, 'to': 22, 'and': 19, 'that': 19, 'is': 17, 'a': 16, \"'\": 12, 'of': 11, ...}), FreqDist({',': 42, 'the': 41, '.': 33, 'in': 17, 'is': 16, 'to': 14, 'a': 12, 'and': 11, 'of': 9, 'he': 9, ...}), FreqDist({'the': 25, '.': 25, 'and': 21, ',': 16, 'a': 15, \"'\": 14, 'is': 14, 'of': 13, 's': 11, 'nixon': 8, ...}), FreqDist({'the': 47, ',': 30, '.': 29, \"'\": 25, 'and': 22, 'is': 18, 'a': 18, 'of': 18, 's': 12, 'to': 12, ...}), FreqDist({',': 34, '.': 24, 'a': 17, '*': 15, 'the': 13, 'it': 12, 'is': 12, 'in': 10, 'of': 9, 'and': 8, ...}), FreqDist({',': 44, 'the': 41, '.': 33, 'a': 21, '-': 18, \"'\": 17, 'in': 16, 'to': 16, 'is': 15, 'and': 14, ...}), FreqDist({',': 66, 'the': 43, '.': 33, 'and': 29, 'to': 21, 'a': 21, 'of': 16, '(': 14, ')': 14, 'is': 11, ...}), FreqDist({'the': 77, '.': 56, ',': 53, 'is': 34, 'to': 32, 'a': 29, 'you': 25, 'and': 25, 'of': 24, 'movie': 23, ...}), FreqDist({',': 21, 'the': 19, 'and': 16, '.': 15, 'it': 10, \"'\": 10, 'of': 9, 'to': 7, 'i': 6, 'in': 6, ...}), FreqDist({'.': 34, 'the': 32, 'is': 22, 'and': 19, 'a': 18, 'to': 17, ',': 15, 'of': 12, 'that': 11, 'in': 10, ...}), FreqDist({',': 35, 'the': 34, 'a': 28, '.': 27, 'and': 24, 'of': 20, '-': 18, \"'\": 17, 'is': 16, '\"': 14, ...}), FreqDist({'the': 17, '.': 17, ',': 13, '\"': 10, '(': 8, ')': 8, 'a': 7, 'with': 6, 'of': 5, 'nephew': 5, ...}), FreqDist({',': 45, 'the': 38, '.': 32, 'a': 24, '\"': 22, \"'\": 20, 'and': 18, 'of': 17, 's': 16, 'in': 14, ...}), FreqDist({',': 63, 'the': 46, 'and': 31, 'a': 27, '.': 27, 'of': 27, '\"': 26, 'to': 23, \"'\": 21, 'in': 21, ...}), FreqDist({',': 24, '.': 18, 'and': 11, 'a': 9, 'to': 8, 'the': 7, 'melvin': 6, 'his': 6, \"'\": 6, 's': 6, ...}), FreqDist({',': 98, 'the': 59, '.': 56, 'a': 55, 'and': 38, \"'\": 32, 'is': 28, 'it': 24, 'of': 24, '(': 20, ...}), FreqDist({'the': 20, '.': 16, ',': 11, 'of': 10, 'in': 9, 'you': 5, 'is': 4, 'that': 4, 'scenes': 4, 'with': 4, ...}), FreqDist({',': 44, '.': 35, 'the': 31, \"'\": 26, 'a': 20, 's': 19, 'of': 18, 'and': 17, 'to': 12, 'i': 12, ...}), FreqDist({',': 15, '.': 12, 'the': 11, 'of': 9, 'in': 8, 'and': 7, 'brooks': 6, \"'\": 5, 'a': 4, 'on': 4, ...}), FreqDist({',': 48, '.': 46, 'the': 38, 'to': 21, \"'\": 20, 'zero': 19, 'is': 19, 'of': 17, 's': 17, 'and': 16, ...}), FreqDist({'the': 35, '.': 30, ',': 21, 'and': 21, 'of': 19, 'is': 18, 'a': 15, '-': 13, 'in': 13, 'to': 9, ...}), FreqDist({'the': 72, ',': 51, '.': 38, 'and': 30, '\"': 26, 'to': 25, 'a': 25, 'of': 23, 'in': 20, 'is': 14, ...}), FreqDist({'the': 71, ',': 65, '.': 56, 'of': 46, 'and': 33, 'to': 27, 'is': 22, 'as': 22, \"'\": 21, 'a': 19, ...}), FreqDist({'the': 59, '.': 47, 'and': 30, 'is': 26, 'to': 23, 'of': 17, \"'\": 17, ',': 15, 'he': 14, 'a': 14, ...}), FreqDist({',': 19, \"'\": 15, 'the': 14, '.': 10, 'you': 9, 's': 7, 'of': 6, 'and': 6, 'with': 5, 'a': 5, ...}), FreqDist({',': 92, 'the': 72, \"'\": 61, '.': 56, 'it': 48, 'i': 42, 'and': 41, 'a': 33, 'of': 32, 'to': 29, ...}), FreqDist({',': 38, 'the': 36, '.': 29, 'is': 17, \"'\": 17, 'of': 16, 'in': 14, 'and': 14, 'chan': 12, 'to': 11, ...}), FreqDist({'a': 12, 'and': 12, '.': 11, 'that': 10, '(': 9, ')': 9, 'the': 6, 'is': 5, 'movie': 5, ',': 5, ...}), FreqDist({'and': 23, '.': 22, ',': 20, 'the': 20, \"'\": 20, '\"': 18, 'a': 18, 'to': 15, 's': 14, 'he': 12, ...}), FreqDist({'the': 35, ',': 34, '.': 22, 'a': 19, 'in': 16, \"'\": 14, 'of': 11, 'and': 11, 's': 10, 'this': 10, ...}), FreqDist({'.': 28, ',': 22, 'the': 20, 'and': 19, \"'\": 19, 'in': 17, 'a': 14, 'film': 13, 'is': 13, 'i': 13, ...}), FreqDist({'the': 49, ',': 41, '.': 35, 'of': 25, 'and': 23, 'it': 20, \"'\": 20, 'to': 19, '-': 19, 'is': 14, ...}), FreqDist({'the': 42, ',': 33, 'of': 26, 'to': 24, '.': 18, 'and': 18, 'a': 12, 'it': 11, \"'\": 11, 'in': 8, ...}), FreqDist({'the': 37, ',': 36, 'of': 34, '.': 30, 'in': 18, 'and': 18, 'a': 18, \"'\": 15, 'his': 14, 'to': 13, ...}), FreqDist({'.': 63, 'the': 58, ',': 36, 'a': 35, 'and': 30, 'of': 23, 'to': 19, '(': 18, ')': 18, \"'\": 18, ...}), FreqDist({',': 98, 'the': 91, 'of': 59, '.': 57, 'to': 33, 'and': 32, 'in': 30, '\"': 28, '-': 21, 'that': 18, ...}), FreqDist({'the': 36, '.': 27, ',': 24, 'a': 18, 'to': 13, \"'\": 11, 'is': 11, 'in': 11, 'that': 11, 'and': 11, ...}), FreqDist({',': 38, 'the': 36, '.': 32, 'a': 24, 'and': 19, 'of': 19, \"'\": 17, 's': 14, '-': 12, 'in': 12, ...}), FreqDist({',': 72, 'the': 54, '.': 53, 'a': 38, 'of': 34, 'to': 33, 'and': 32, \"'\": 29, 'is': 26, 'in': 24, ...}), FreqDist({',': 51, 'the': 49, '.': 27, 'of': 18, 'to': 18, 'and': 16, 'is': 15, 'in': 14, 'a': 14, 'by': 11, ...}), FreqDist({',': 26, 'the': 15, 'and': 14, '.': 14, 'of': 10, 'a': 7, 'little': 6, 'his': 6, 'tree': 5, 'boy': 4, ...}), FreqDist({'the': 44, ',': 39, '.': 37, 'of': 17, 'a': 14, \"'\": 14, 'and': 13, '(': 13, ')': 13, 'to': 12, ...}), FreqDist({'.': 32, 'the': 23, '-': 16, ',': 11, 'of': 10, 'is': 9, 'it': 8, 'to': 7, 'and': 7, 'with': 6, ...}), FreqDist({',': 31, '.': 27, 'the': 24, \"'\": 20, 'and': 16, 'to': 14, 's': 12, 'of': 11, 'it': 11, 'you': 10, ...}), FreqDist({'the': 42, ',': 35, '.': 25, 'and': 20, 'to': 14, \"'\": 13, 'a': 12, '\"': 12, 'of': 10, 'with': 9, ...}), FreqDist({',': 111, 'the': 99, '.': 93, 'is': 43, 'a': 43, 'and': 38, 'to': 36, 'of': 35, 'film': 27, 'in': 22, ...}), FreqDist({',': 41, 'the': 34, '.': 29, 'and': 27, '-': 22, 'a': 21, 'of': 16, 'to': 15, 'film': 14, 'her': 13, ...}), FreqDist({',': 66, '.': 53, 'the': 51, 'and': 28, 'a': 23, 'of': 22, 'to': 20, 'in': 18, 'is': 15, 'that': 15, ...}), FreqDist({'the': 21, ',': 17, '.': 16, 'he': 8, 'and': 8, '-': 8, 'in': 7, 'as': 6, 'to': 6, 'is': 6, ...}), FreqDist({',': 17, '.': 15, 'the': 13, 'of': 11, 'she': 9, 'a': 8, 'in': 8, \"'\": 8, 'and': 7, 'that': 6, ...}), FreqDist({'.': 46, 'the': 46, ',': 39, \"'\": 17, 'and': 17, 'is': 15, 'her': 14, 's': 12, 'of': 11, 'a': 10, ...}), FreqDist({',': 57, 'the': 49, '.': 44, 'and': 28, 'a': 25, \"'\": 22, 'is': 22, 'of': 20, 'in': 19, 's': 18, ...}), FreqDist({',': 32, '.': 23, 'the': 22, 'and': 15, 'a': 10, 'is': 9, 'of': 8, 'in': 6, 'film': 5, 'this': 5, ...}), FreqDist({',': 36, 'the': 34, '.': 19, 'and': 17, 'to': 16, 'a': 14, 'is': 12, 'band': 8, 'they': 8, '\"': 8, ...}), FreqDist({',': 17, 'the': 17, '.': 13, 'of': 9, 'a': 9, 'mute': 6, 'film': 6, 'and': 6, \"'\": 6, 'to': 5, ...}), FreqDist({'the': 29, ',': 19, '.': 18, 'of': 12, 'is': 11, 'and': 10, 'to': 10, 'a': 9, '-': 9, 'with': 9, ...}), FreqDist({'the': 63, ',': 50, '.': 42, 'of': 27, '(': 23, ')': 23, 'and': 23, 'a': 21, 'to': 20, 'is': 16, ...}), FreqDist({',': 82, '.': 80, 'the': 53, 'and': 37, 'a': 34, 'is': 33, 'to': 31, 'of': 28, 'in': 21, \"'\": 20, ...}), FreqDist({'.': 55, 'the': 38, ',': 31, 'of': 27, '-': 27, 'to': 21, 'and': 20, 'a': 19, 'is': 17, '*': 15, ...}), FreqDist({'the': 80, ',': 74, '.': 56, 'a': 39, '\"': 38, 'of': 37, 'to': 33, 'and': 32, \"'\": 25, 'is': 25, ...}), FreqDist({'the': 84, '.': 65, ',': 58, 'of': 49, 'a': 36, 'is': 32, 'to': 32, 'in': 26, 'and': 19, '\"': 17, ...}), FreqDist({'the': 62, ',': 56, '.': 38, '\"': 38, 'a': 35, 'and': 30, 'of': 23, 'is': 18, 'to': 15, 'in': 14, ...}), FreqDist({'the': 48, '.': 31, 'is': 22, ',': 21, 'of': 19, 'a': 19, '\"': 16, \"'\": 13, 'and': 13, 'as': 13, ...}), FreqDist({',': 112, 'the': 62, '.': 58, 'and': 48, 'a': 48, \"'\": 45, 'of': 38, '\"': 36, 'to': 35, 's': 30, ...}), FreqDist({',': 67, '=': 62, 'the': 59, '.': 44, 'is': 32, 'to': 26, 'of': 25, 'his': 22, 'a': 21, 'and': 19, ...}), FreqDist({'the': 55, ',': 40, '.': 40, \"'\": 39, 'and': 25, 'of': 23, 's': 22, 'a': 21, 'to': 19, 'ryan': 15, ...}), FreqDist({',': 83, 'the': 79, '.': 57, 'to': 41, 'of': 38, 'and': 37, 'a': 37, \"'\": 30, 'is': 28, 's': 18, ...}), FreqDist({',': 30, '.': 25, 'and': 22, 'is': 20, \"'\": 19, 'a': 14, 'the': 14, 'movie': 11, 'but': 9, 'to': 9, ...}), FreqDist({'.': 26, 'the': 25, ',': 23, 'of': 13, \"'\": 13, 'to': 13, 'a': 12, 'and': 12, 'is': 12, 'that': 11, ...}), FreqDist({'.': 73, 'the': 66, ',': 35, 'is': 32, 'and': 27, 'of': 26, 'a': 22, 'it': 19, 'to': 18, 'in': 15, ...}), FreqDist({',': 24, '.': 23, 'the': 23, \"'\": 20, 'to': 16, 's': 16, 'it': 12, 'a': 12, '\"': 10, 'that': 9, ...}), FreqDist({',': 41, 'the': 31, 'to': 24, 'a': 23, 'is': 19, 'and': 19, '.': 17, 'in': 15, '\"': 14, 'of': 11, ...}), FreqDist({'.': 29, 'a': 19, 'and': 17, 'is': 15, 'the': 15, '\"': 12, ',': 10, 'in': 9, 'graham': 9, 'his': 8, ...}), FreqDist({',': 38, 'the': 35, '.': 31, 'a': 15, 'is': 14, 'and': 12, 'it': 11, 'this': 10, 'to': 10, 'of': 8, ...}), FreqDist({',': 30, 'the': 28, '.': 20, 'a': 16, 'of': 15, 'and': 14, 'in': 12, 'is': 11, 'to': 9, 'as': 8, ...}), FreqDist({'the': 64, '.': 52, ',': 40, 'of': 20, 'a': 15, 'and': 14, 'to': 14, 'that': 12, 'his': 12, 'with': 11, ...}), FreqDist({'the': 34, ',': 29, '.': 24, 'and': 13, \"'\": 11, 'to': 10, 'red': 9, 'october': 9, 'you': 8, 'for': 7, ...}), FreqDist({'the': 78, ',': 72, '.': 46, 'a': 34, 'and': 31, 'to': 29, 'of': 27, 'in': 25, \"'\": 21, 'is': 21, ...}), FreqDist({'.': 48, ',': 46, 'the': 41, 'a': 28, 'to': 25, \"'\": 22, 'and': 18, 'is': 18, 's': 16, 'of': 16, ...}), FreqDist({',': 52, 'the': 27, 'and': 22, '.': 22, 'of': 22, 'a': 22, \"'\": 20, 'pollock': 16, 'to': 15, '\"': 14, ...}), FreqDist({'the': 40, '.': 33, ',': 32, 'a': 20, \"'\": 19, 'of': 19, 's': 15, 'is': 15, 'to': 14, 'and': 13, ...}), FreqDist({'the': 53, ',': 51, '.': 27, 'a': 21, 'to': 19, 'and': 16, 'of': 15, 'is': 14, 'film': 13, 'it': 11, ...}), FreqDist({'the': 40, '.': 29, ',': 29, 'and': 27, '-': 19, 'of': 14, 'a': 10, 'it': 8, 'to': 8, 'is': 8, ...}), FreqDist({'the': 27, ',': 19, '.': 17, 'of': 11, 'a': 10, 'i': 9, 'and': 8, 'to': 8, \"'\": 7, 'in': 6, ...}), FreqDist({'.': 47, ',': 32, 'a': 26, 'the': 23, 'and': 20, 'to': 16, \"'\": 15, 'is': 12, 'of': 12, 'that': 12, ...}), FreqDist({',': 67, '.': 63, 'the': 38, 'and': 32, 'is': 25, 'to': 22, 'a': 22, '\"': 22, 'of': 17, '-': 10, ...}), FreqDist({',': 64, '.': 58, 'the': 57, 'a': 32, 'and': 30, 'to': 27, 'film': 20, 'is': 19, 'he': 19, 'of': 18, ...}), FreqDist({'the': 51, ',': 43, '.': 36, 'and': 25, 'of': 21, 'a': 19, 'in': 12, 'for': 11, 'is': 10, 'robin': 10, ...}), FreqDist({',': 42, 'the': 41, '.': 32, 'and': 21, 'a': 16, \"'\": 14, 'to': 12, 'is': 9, 'of': 9, 's': 8, ...}), FreqDist({'.': 24, ',': 19, 'a': 15, 'in': 15, 'the': 14, 'is': 12, 'that': 12, 'and': 10, 'of': 9, '\"': 8, ...}), FreqDist({',': 33, '.': 28, 'the': 28, 'a': 21, 'to': 20, 'is': 20, 'his': 16, 'of': 15, \"'\": 14, 'and': 13, ...}), FreqDist({'the': 56, ',': 37, 'of': 34, '.': 34, 'a': 31, 'in': 22, 'to': 20, 'and': 20, \"'\": 17, 'his': 15, ...}), FreqDist({'the': 51, '.': 34, 'of': 32, ',': 28, 'to': 24, 'a': 19, 'and': 13, \"'\": 12, 'that': 12, 'is': 12, ...}), FreqDist({'.': 105, 'the': 87, ',': 81, 'and': 47, 'his': 44, 'is': 33, 'of': 31, 'to': 26, '\"': 22, 'a': 22, ...}), FreqDist({',': 71, 'the': 57, '.': 48, 'and': 35, \"'\": 33, 'it': 32, 'to': 25, 'a': 24, 'i': 24, 'of': 24, ...}), FreqDist({',': 30, 'the': 18, 'a': 10, 'elizabeth': 10, '.': 9, 'and': 9, 'in': 7, 'of': 7, 'i': 6, 'queen': 4, ...}), FreqDist({'the': 32, '.': 29, ',': 27, 'and': 25, \"'\": 15, 'a': 14, 's': 13, 'jay': 11, 'is': 11, 'bob': 10, ...}), FreqDist({',': 18, 'the': 18, '.': 17, 'a': 12, 'and': 10, 'is': 7, 'this': 6, 'film': 6, 'i': 5, 'to': 5, ...}), FreqDist({',': 44, '\"': 30, 'the': 28, '.': 25, 'a': 17, 'and': 14, 'of': 13, \"'\": 11, 'in': 10, 'is': 10, ...}), FreqDist({'and': 42, '.': 40, ',': 34, 'the': 34, 'a': 32, \"'\": 30, 'to': 27, 'it': 21, 'that': 18, 'is': 18, ...}), FreqDist({',': 61, 'the': 55, '.': 32, 'of': 26, 'and': 13, 'to': 13, 'in': 12, 'time': 10, '-': 10, 'is': 9, ...}), FreqDist({'the': 39, '.': 39, ',': 32, 'and': 21, 'to': 19, 'is': 19, 'of': 15, 'a': 15, 'her': 13, '(': 11, ...}), FreqDist({',': 39, 'the': 36, '.': 28, 'and': 18, \"'\": 18, 'of': 14, 'is': 13, 'it': 10, 's': 10, 'a': 10, ...}), FreqDist({'the': 44, ',': 31, '.': 25, 'of': 22, 'a': 17, 'to': 11, 'and': 11, 'movie': 10, '-': 10, 'id4': 9, ...}), FreqDist({'the': 30, '.': 22, 'of': 15, ',': 14, 'i': 14, 'a': 11, 'this': 10, 'to': 10, 'is': 9, 'that': 9, ...}), FreqDist({'.': 31, ',': 24, 'the': 21, 'is': 18, 'a': 15, 'of': 13, 'to': 12, '\"': 10, 'and': 10, 'willard': 9, ...}), FreqDist({'.': 43, 'the': 39, ',': 38, \"'\": 21, 'a': 20, 'to': 20, 'of': 19, 's': 17, 'and': 17, 'kate': 16, ...}), FreqDist({'the': 36, ',': 31, '.': 21, 'a': 19, 'and': 17, 'of': 16, 'is': 12, \"'\": 11, 's': 9, 'ned': 8, ...}), FreqDist({',': 22, '.': 19, 'a': 17, 'the': 15, \"'\": 10, 's': 10, 'of': 10, '\"': 10, '(': 10, ')': 10, ...}), FreqDist({'the': 46, ',': 36, 'of': 24, 'and': 17, '.': 17, 'in': 13, 'to': 13, 'his': 10, 'a': 10, \"'\": 9, ...}), FreqDist({',': 65, '.': 38, 'the': 37, 'a': 21, 'and': 19, 'to': 14, 'that': 13, 'film': 13, \"'\": 12, 'it': 11, ...}), FreqDist({',': 60, 'the': 43, '.': 38, 'is': 27, 'a': 22, 'and': 15, 'to': 12, 'of': 11, 'in': 10, 'it': 9, ...}), FreqDist({'.': 52, ',': 37, 'the': 36, 'to': 25, 'a': 24, 'of': 18, 'is': 17, 'and': 14, 'as': 14, 'that': 13, ...}), FreqDist({',': 26, 'the': 25, 'a': 24, '.': 23, 'to': 16, 'in': 14, \"'\": 13, 'is': 13, 'of': 10, 'it': 10, ...}), FreqDist({',': 89, 'the': 58, 'to': 37, '.': 33, 'leila': 31, 'and': 27, 'is': 26, 'of': 25, 'a': 25, 'her': 23, ...}), FreqDist({'a': 23, '.': 22, ',': 16, 'is': 16, 'the': 13, 'and': 10, \"'\": 9, 'of': 8, '\"': 8, 'with': 8, ...}), FreqDist({'the': 62, ',': 57, '.': 44, 'of': 39, 'a': 38, 'is': 26, 'to': 24, 'and': 21, \"'\": 19, 'in': 18, ...}), FreqDist({',': 25, 'the': 20, '.': 14, \"'\": 11, 'of': 10, 'and': 10, '(': 9, ')': 9, 'this': 8, '\"': 8, ...}), FreqDist({'the': 50, '.': 42, 'of': 16, 'in': 15, \"'\": 15, 'and': 14, '\"': 14, ',': 14, 'to': 11, 'a': 11, ...}), FreqDist({',': 38, '.': 31, 'the': 30, 'a': 22, 'to': 21, 'vampire': 13, 'you': 13, \"'\": 12, 'of': 11, 'in': 11, ...}), FreqDist({'the': 53, '\"': 52, ',': 50, '.': 50, 'a': 36, 'of': 25, \"'\": 20, 'in': 19, 'to': 18, '(': 18, ...}), FreqDist({'the': 38, '.': 29, \"'\": 28, 'and': 23, 'a': 22, ',': 19, 's': 16, '\"': 16, 'to': 15, 'is': 13, ...}), FreqDist({',': 27, \"'\": 21, 'the': 19, '.': 18, 'to': 15, 's': 13, 'of': 12, 'in': 7, '-': 7, 'as': 7, ...}), FreqDist({'the': 35, ',': 27, '.': 21, 'a': 17, 'and': 17, 'of': 16, '\"': 14, \"'\": 13, 'to': 13, 'in': 12, ...}), FreqDist({',': 46, 'the': 36, '.': 33, 'a': 29, \"'\": 24, 'to': 23, 'and': 21, '-': 17, 'of': 16, 's': 12, ...}), FreqDist({',': 120, 'the': 105, '.': 102, 'to': 48, \"'\": 45, 'it': 43, 'and': 43, 'a': 35, 'is': 33, 'of': 32, ...}), FreqDist({'the': 73, '.': 36, 'of': 30, ',': 29, 'a': 26, 'is': 22, 'to': 21, '\"': 20, \"'\": 19, 'and': 18, ...}), FreqDist({',': 90, '.': 52, 'the': 48, 'and': 38, 'a': 37, 'of': 30, 'it': 25, 'to': 24, \"'\": 22, 'will': 17, ...}), FreqDist({'the': 33, ',': 27, '.': 21, 'to': 19, \"'\": 16, 'and': 16, 'of': 16, 'a': 15, 'it': 14, 'that': 13, ...}), FreqDist({',': 99, 'the': 77, '.': 63, 'a': 45, 'of': 44, 'and': 42, \"'\": 37, 'is': 34, 'to': 32, 'in': 26, ...}), FreqDist({',': 140, 'the': 102, 'and': 66, '.': 65, 'a': 62, 'of': 43, \"'\": 36, 'is': 35, 'to': 34, 'it': 33, ...}), FreqDist({'.': 33, 'the': 32, ',': 32, 'a': 23, \"'\": 20, 'to': 18, 'of': 16, 'and': 13, 'he': 13, 'is': 11, ...}), FreqDist({',': 107, 'the': 65, 'and': 43, '.': 41, \"'\": 38, 'a': 36, 'it': 31, 'of': 28, 'to': 27, 'her': 27, ...}), FreqDist({',': 94, '.': 59, 'the': 54, \"'\": 37, 'and': 35, 'a': 29, 'i': 28, 'is': 25, 's': 24, 'to': 23, ...}), FreqDist({',': 43, 'the': 35, '.': 28, 'a': 23, 'to': 20, \"'\": 17, 's': 15, 'in': 13, 'and': 13, 'erin': 13, ...}), FreqDist({',': 81, 'the': 71, '.': 51, '\"': 42, \"'\": 33, 'a': 32, 'of': 26, 'and': 26, 'it': 23, 'is': 22, ...}), FreqDist({',': 140, 'the': 116, 'and': 64, 'a': 55, 'of': 48, '.': 45, 'to': 39, 'that': 38, 'it': 35, \"'\": 35, ...}), FreqDist({'the': 22, '.': 17, ',': 17, 'and': 8, 'of': 7, 'is': 7, 'i': 6, '\"': 6, \"'\": 6, 's': 6, ...}), FreqDist({',': 29, 'the': 26, '.': 25, 'of': 15, 'his': 13, 'a': 12, 'to': 11, 'is': 9, 'in': 9, 'tribe': 8, ...}), FreqDist({'and': 19, 'the': 18, ',': 16, '.': 15, 'a': 11, 'of': 11, 'to': 11, 'as': 7, 'is': 7, 'in': 6, ...}), FreqDist({',': 50, '.': 40, 'the': 39, \"'\": 26, 'a': 22, 'it': 20, 'to': 20, 'of': 20, 's': 17, 'and': 16, ...}), FreqDist({',': 17, 'a': 15, 'the': 11, '.': 8, 'of': 7, 'in': 6, '\"': 6, 'as': 5, \"'\": 4, 's': 4, ...}), FreqDist({'the': 75, '.': 48, ',': 47, 'of': 23, 'to': 23, 'and': 23, 'in': 20, 'a': 19, 'is': 16, 'it': 13, ...}), FreqDist({'.': 104, ',': 87, 'the': 67, 'to': 36, 'is': 34, 'and': 31, \"'\": 31, 'a': 30, 'of': 30, 'it': 27, ...}), FreqDist({',': 43, 'the': 43, '.': 26, 'to': 22, 'of': 21, 'and': 20, 'in': 14, '-': 13, 'a': 12, 'lee': 11, ...}), FreqDist({',': 79, '.': 58, 'the': 48, 'is': 38, 'and': 29, 'a': 27, 'of': 22, 'to': 22, \"'\": 20, 'it': 17, ...}), FreqDist({',': 51, 'the': 39, 'and': 24, 'a': 21, '.': 20, 'of': 19, \"'\": 18, '-': 18, 'to': 13, 's': 11, ...}), FreqDist({'.': 44, 'the': 36, ',': 25, 'a': 24, \"'\": 22, 'is': 22, 'of': 20, 's': 20, 'and': 19, 'to': 17, ...}), FreqDist({'the': 34, ',': 32, '.': 24, 'a': 19, 'and': 16, 'to': 14, 'is': 14, 'of': 11, 'in': 10, 'this': 9, ...}), FreqDist({',': 69, 'the': 51, '.': 38, 'and': 36, 'a': 30, 'is': 27, 'to': 22, 'of': 22, 'it': 19, 'in': 16, ...}), FreqDist({',': 45, '.': 32, \"'\": 28, 'the': 28, 'a': 24, 'in': 19, 'and': 15, 's': 13, ')': 12, 'her': 11, ...}), FreqDist({',': 35, 'of': 21, '.': 21, 'the': 18, 'a': 17, 'and': 16, 'flanagan': 10, '\"': 10, 'his': 9, 'by': 6, ...}), FreqDist({',': 42, 'the': 33, \"'\": 33, 'a': 27, 's': 26, '.': 26, '\"': 20, 'to': 18, '-': 14, '(': 13, ...}), FreqDist({',': 42, 'the': 42, '.': 26, 'and': 23, 'to': 16, 'a': 16, 'of': 15, 'it': 14, 'is': 14, 'in': 12, ...}), FreqDist({'the': 41, ',': 34, '.': 25, 'of': 19, 'a': 15, 'to': 15, '-': 12, 'and': 9, 'but': 7, \"'\": 7, ...}), FreqDist({'the': 52, '.': 43, ',': 39, 'and': 34, 'of': 24, \"'\": 21, 'is': 19, 'a': 18, 'in': 14, 'her': 12, ...}), FreqDist({'the': 75, ',': 58, '.': 38, 'of': 35, \"'\": 32, 'to': 25, 'a': 25, 's': 25, 'and': 25, 'is': 20, ...}), FreqDist({',': 30, '.': 18, 'and': 17, 'a': 17, \"'\": 13, 's': 11, 'to': 11, 'of': 10, 'the': 8, '-': 8, ...}), FreqDist({'the': 31, '.': 23, ',': 23, 'he': 13, 'is': 13, '\"': 12, 'of': 11, 'as': 11, 'to': 10, 'and': 10, ...}), FreqDist({',': 21, 'the': 20, '.': 12, \"'\": 10, 'a': 10, 'in': 10, 'movie': 8, 'to': 6, 'i': 5, 'is': 5, ...}), FreqDist({'the': 32, ',': 30, '.': 26, 'and': 23, \"'\": 15, 'a': 14, 'is': 13, 's': 12, 'to': 10, '-': 9, ...}), FreqDist({'the': 48, ',': 38, '.': 27, 'of': 20, 'a': 19, 'is': 17, 'and': 17, 'to': 14, \"'\": 14, '\"': 14, ...}), FreqDist({',': 50, 'the': 41, '.': 32, 'a': 30, 'of': 26, 'and': 26, '\"': 26, \"'\": 18, 'to': 17, 'in': 16, ...}), FreqDist({',': 20, 'the': 19, '.': 15, 'in': 13, 'a': 11, 'film': 8, 'to': 8, 'it': 8, 'of': 8, '-': 7, ...}), FreqDist({'the': 42, '.': 38, ',': 33, 'a': 22, \"'\": 21, 'of': 20, 'to': 17, 'and': 17, 's': 16, 'is': 14, ...}), FreqDist({'.': 49, 'the': 47, 'a': 33, 'to': 26, 'is': 22, ',': 20, 'in': 15, 'of': 15, 'and': 15, '-': 10, ...}), FreqDist({',': 11, \"'\": 10, 'the': 9, 'beautiful': 9, 'a': 9, 'that': 8, '.': 8, 'life': 8, 'of': 7, 'i': 7, ...}), FreqDist({',': 45, '.': 28, 'the': 27, 'and': 24, '-': 20, \"'\": 17, 'gavin': 17, 'a': 16, 's': 16, 'is': 15, ...}), FreqDist({'the': 32, ',': 25, '.': 20, 'and': 19, 'a': 18, \"'\": 12, 'of': 12, 'in': 12, '-': 10, '\"': 10, ...}), FreqDist({',': 82, 'the': 80, '.': 44, 'and': 40, 'of': 38, '\"': 34, 'a': 34, 'in': 24, 'is': 23, 'to': 20, ...}), FreqDist({',': 64, 'the': 44, '.': 37, 'a': 26, 'of': 25, 'is': 20, 'and': 19, 'in': 18, \"'\": 15, 'it': 14, ...}), FreqDist({',': 58, 'the': 26, '.': 20, 'and': 17, 'is': 16, '\"': 14, 'to': 14, \"'\": 12, 's': 11, 'of': 10, ...}), FreqDist({',': 66, 'the': 50, '.': 39, 'a': 30, 'and': 21, 'of': 20, 'is': 18, 'to': 14, 'in': 12, 'film': 11, ...}), FreqDist({'the': 40, '.': 37, ',': 34, \"'\": 30, 'a': 23, 'of': 19, 'and': 18, '`': 15, 'to': 14, '-': 14, ...}), FreqDist({'the': 45, '.': 40, ',': 37, 'to': 23, 'of': 22, 'a': 20, \"'\": 15, 'is': 13, 'as': 11, 'that': 10, ...}), FreqDist({',': 54, 'the': 47, '.': 42, 'and': 29, 'a': 27, \"'\": 24, 'to': 20, 'of': 19, '\"': 18, 'his': 17, ...}), FreqDist({'the': 140, ',': 135, 'a': 91, 'of': 89, '.': 78, \"'\": 77, 'in': 67, 'and': 63, 's': 63, 'to': 49, ...}), FreqDist({'the': 62, '.': 44, ',': 38, 'to': 26, 'a': 25, 'that': 23, \"'\": 22, 'of': 19, 'and': 18, 'film': 16, ...}), FreqDist({'.': 57, 'the': 49, ',': 37, 'a': 30, 'and': 23, \"'\": 21, 'to': 20, 'of': 19, '\"': 18, 'in': 15, ...}), FreqDist({'the': 28, '.': 21, ',': 14, 'and': 14, 'of': 13, 'to': 11, 'a': 10, ')': 9, 'is': 8, '(': 7, ...}), FreqDist({'the': 86, ',': 71, '.': 49, 'of': 44, 'and': 30, 'to': 28, 'in': 26, '-': 22, 'by': 14, 'spielberg': 13, ...}), FreqDist({'the': 95, ',': 68, '\"': 32, 'to': 31, 'and': 29, \"'\": 28, '.': 27, 'a': 26, 'of': 25, '(': 18, ...}), FreqDist({'the': 91, ',': 54, 'of': 37, '.': 32, 'to': 26, 'and': 23, '\"': 18, 'on': 14, 'shackleton': 11, 'his': 11, ...}), FreqDist({',': 61, 'the': 46, 'and': 29, '.': 26, 'a': 24, 'of': 22, 'to': 19, 'it': 18, 'i': 15, 'this': 15, ...}), FreqDist({',': 133, 'the': 110, 'a': 61, '.': 61, 'and': 56, 'of': 54, \"'\": 52, 'it': 49, 'is': 41, 's': 37, ...}), FreqDist({'the': 38, '.': 34, ',': 33, 'and': 23, 'of': 22, 'to': 19, 'a': 16, '\"': 11, '-': 10, \"'\": 9, ...}), FreqDist({'the': 41, '.': 33, 'to': 20, 'and': 18, 'movie': 16, ',': 15, 'a': 13, 'is': 12, 'of': 11, 'that': 9, ...}), FreqDist({'the': 96, '.': 60, 'of': 57, ',': 56, 'joe': 41, 'a': 38, 'to': 32, 'and': 30, 'his': 28, \"'\": 27, ...}), FreqDist({',': 26, '.': 24, 'the': 17, 'and': 14, 'a': 11, 'to': 10, 'is': 9, \"'\": 8, 'that': 7, 'i': 6, ...}), FreqDist({',': 22, 'the': 20, 'of': 10, '.': 9, 'a': 9, 'to': 9, '\"': 8, 'and': 8, \"'\": 6, 'in': 6, ...}), FreqDist({',': 44, 'the': 36, 'and': 30, 'of': 26, 'to': 23, '.': 22, 'a': 20, 'is': 12, 'life': 11, 'in': 11, ...}), FreqDist({',': 52, 'the': 42, 'of': 28, 'and': 23, \"'\": 22, 'a': 21, 'to': 19, '.': 18, '-': 16, 'it': 15, ...}), FreqDist({',': 26, 'the': 16, 'is': 14, 'a': 13, '\"': 10, '.': 9, 'and': 9, 'at': 7, '(': 7, ')': 7, ...}), FreqDist({'.': 48, ',': 42, 'the': 35, 'and': 29, 'a': 24, 'it': 24, \"'\": 23, 'is': 18, 'of': 18, 's': 16, ...}), FreqDist({'.': 37, 'the': 36, ',': 25, 'of': 19, 'and': 19, 'a': 17, '-': 15, '(': 15, ')': 15, 'it': 15, ...}), FreqDist({',': 55, '.': 48, 'the': 45, 'a': 36, 'and': 30, '\"': 28, 'of': 21, '-': 19, 'hedwig': 13, 'is': 13, ...}), FreqDist({',': 50, 'the': 44, '.': 29, 'and': 25, 'a': 19, '-': 16, 'of': 16, 'to': 13, 'in': 12, 'is': 12, ...}), FreqDist({'the': 61, ',': 60, '.': 36, '\"': 24, 'of': 23, 'a': 21, 'and': 18, 'is': 16, \"'\": 16, 'her': 14, ...}), FreqDist({'.': 31, 'a': 26, 'and': 25, ',': 23, 'the': 23, '\"': 22, 'is': 19, 'to': 18, 'it': 14, 'he': 13, ...}), FreqDist({'.': 32, 'and': 31, 'a': 27, 'the': 22, 'it': 21, \"'\": 18, 'of': 17, ',': 17, 'to': 16, 'she': 16, ...}), FreqDist({'the': 47, '.': 27, ',': 23, 'is': 21, 'to': 18, 'of': 18, 'a': 17, 'it': 14, 'and': 14, 'that': 12, ...}), FreqDist({',': 56, 'the': 50, '.': 36, 'of': 31, 'to': 28, 'a': 27, 'and': 26, 'shrek': 21, 'as': 18, 'that': 14, ...}), FreqDist({',': 55, 'the': 42, '-': 33, 'a': 32, '\"': 32, 'and': 27, \"'\": 27, '.': 26, 'of': 21, 'to': 20, ...}), FreqDist({',': 39, 'the': 35, '.': 29, 'a': 16, 'to': 16, 'is': 14, \"'\": 12, 'of': 11, 'in': 10, '(': 10, ...}), FreqDist({'.': 45, 'the': 27, 'a': 19, 'robocop': 13, 'is': 12, 'in': 11, 'of': 10, ',': 10, 'this': 9, \"'\": 9, ...}), FreqDist({'the': 49, ',': 45, '.': 39, 'a': 33, 'to': 27, 'and': 26, 'of': 17, \"'\": 15, 's': 14, 'is': 14, ...}), FreqDist({'the': 65, ',': 53, 'and': 41, '.': 38, 'of': 36, 'flynt': 31, 'a': 27, '-': 24, 'in': 22, 'his': 21, ...}), FreqDist({'the': 49, '.': 40, ',': 32, 'and': 28, 'a': 23, \"'\": 22, 'of': 16, 'to': 14, '(': 12, ')': 12, ...}), FreqDist({'the': 37, '.': 24, ',': 19, 'of': 18, 'and': 11, 'is': 10, 'to': 10, 'a': 9, 'jamaica': 6, \"'\": 6, ...}), FreqDist({'the': 46, '.': 45, ',': 35, 'to': 31, 'in': 24, 'a': 23, 'is': 22, '\"': 22, 'carter': 22, 'and': 18, ...}), FreqDist({'the': 45, ',': 32, '.': 27, 'of': 24, 'and': 18, 'to': 16, 'is': 16, 'a': 15, \"'\": 14, 'in': 13, ...}), FreqDist({'the': 24, ',': 23, '.': 21, 'a': 20, \"'\": 18, 's': 14, '-': 11, 'and': 10, 'tarzan': 8, 'of': 8, ...}), FreqDist({'the': 26, '.': 25, 'and': 21, ',': 16, 'of': 12, \"'\": 12, 'a': 10, 'is': 10, 'to': 10, 'on': 9, ...}), FreqDist({',': 77, 'the': 43, '.': 41, '\"': 30, 'a': 29, 'and': 25, \"'\": 23, 'of': 22, 'he': 19, 'in': 18, ...}), FreqDist({'the': 46, ',': 34, '.': 30, 'and': 21, '\"': 20, 'a': 17, \"'\": 16, 'to': 16, 'of': 15, '-': 13, ...}), FreqDist({',': 59, 'the': 48, '\"': 36, '.': 31, 'and': 24, 'of': 18, 'a': 17, \"'\": 17, 'is': 16, 'to': 16, ...}), FreqDist({',': 23, 'the': 23, 'of': 18, '.': 18, 'and': 16, 'to': 11, 'a': 11, \"'\": 10, 'leuchter': 8, 'morris': 6, ...}), FreqDist({'.': 34, 'the': 33, 'a': 24, ',': 24, 'to': 18, 'and': 14, 'of': 12, 'they': 11, '(': 10, ')': 10, ...}), FreqDist({',': 47, '.': 34, 'the': 29, 'to': 21, 'it': 19, \"'\": 19, 'and': 17, 'a': 15, 'is': 14, 'i': 13, ...}), FreqDist({',': 59, 'the': 29, 'and': 25, '.': 23, 'of': 20, 'a': 19, 'to': 12, \"'\": 12, 's': 11, 'film': 10, ...}), FreqDist({'the': 46, ',': 45, '.': 38, 'and': 25, '\"': 20, 'a': 19, 'in': 17, 'of': 17, 'is': 17, 'he': 16, ...}), FreqDist({'the': 179, '.': 91, ',': 89, 'of': 76, 'a': 65, 'to': 60, 'and': 58, 'in': 41, '\"': 40, 'film': 40, ...}), FreqDist({',': 17, '.': 15, 'the': 11, \"'\": 10, 'a': 9, '\"': 8, 'to': 8, 'that': 8, 's': 8, 'in': 6, ...}), FreqDist({',': 45, '.': 37, 'the': 36, 'and': 25, 'smith': 19, 'is': 19, \"'\": 18, 'a': 17, 'of': 17, 's': 16, ...}), FreqDist({',': 93, 'the': 80, '.': 60, 'of': 49, 'a': 49, 'ghost': 26, 'dog': 26, 'is': 26, \"'\": 23, 'to': 23, ...}), FreqDist({'the': 110, ',': 107, '.': 74, 'and': 57, '\"': 54, 'to': 51, 'of': 50, 'a': 46, 'in': 36, \"'\": 36, ...}), FreqDist({',': 37, 'the': 36, '.': 36, 'a': 22, 'and': 18, \"'\": 16, 'to': 15, 'in': 13, 's': 12, 'it': 12, ...}), FreqDist({'the': 55, '.': 53, ',': 47, 'and': 22, 'is': 19, 'to': 18, 'as': 18, 'of': 17, 'a': 17, 'he': 15, ...}), FreqDist({'the': 37, ',': 36, '.': 33, 'a': 29, 'of': 23, 'and': 21, \"'\": 19, 'to': 15, 'carlito': 14, 'with': 13, ...}), FreqDist({',': 43, 'the': 36, '.': 31, 'and': 18, 'a': 15, 'is': 15, 'of': 11, 'they': 10, \"'\": 9, 'in': 9, ...}), FreqDist({'the': 83, ',': 82, '.': 51, \"'\": 41, 'trek': 36, 'a': 33, 'and': 32, 'of': 31, 'star': 27, ':': 25, ...}), FreqDist({'the': 35, 'to': 18, '.': 18, ',': 17, 'of': 15, 'and': 10, \"'\": 10, 'that': 9, 'it': 9, 'back': 7, ...}), FreqDist({'.': 42, 'a': 40, ',': 38, 'the': 30, 'is': 21, 'and': 20, 'to': 18, 'of': 15, 'it': 12, \"'\": 12, ...}), FreqDist({'.': 40, ',': 39, 'the': 31, 'and': 25, 'a': 24, 'to': 21, 'of': 17, \"'\": 16, 'is': 16, '-': 15, ...}), FreqDist({',': 37, 'and': 22, 'the': 21, '.': 20, 'of': 19, 'a': 17, \"'\": 12, 'this': 10, 'are': 9, 'is': 9, ...}), FreqDist({\"'\": 27, '.': 26, 'the': 19, ',': 16, 'and': 14, 'to': 14, 'of': 10, 'vampires': 10, 'a': 10, 's': 9, ...}), FreqDist({',': 85, 'the': 84, '.': 61, 'of': 38, \"'\": 35, 'and': 33, 'a': 33, 'to': 32, 'is': 31, 'in': 28, ...}), FreqDist({'the': 34, '.': 20, ',': 16, 'of': 15, 'to': 14, '-': 9, 'in': 8, '\\x12': 8, 'and': 8, 'war': 7, ...}), FreqDist({'the': 33, 'a': 29, '\"': 28, ',': 26, '.': 21, \"'\": 20, 'and': 19, 'of': 18, '-': 16, 's': 14, ...}), FreqDist({',': 39, '.': 28, 'the': 20, 'a': 15, 'is': 15, 'to': 15, 'and': 13, \"'\": 12, 'of': 11, 'as': 11, ...}), FreqDist({'the': 48, ',': 38, 'of': 34, '.': 31, \"'\": 17, 's': 17, 'is': 15, '-': 15, 'a': 14, 'and': 14, ...}), FreqDist({'.': 39, 'the': 37, ',': 31, 'is': 23, 'and': 19, 'of': 19, 'to': 17, 'a': 16, 'in': 9, \"'\": 9, ...}), FreqDist({'the': 63, '.': 60, ',': 57, 'and': 41, 'is': 37, 'to': 31, 'of': 20, 'a': 20, '\"': 20, \"'\": 19, ...}), FreqDist({'the': 30, ',': 25, '.': 21, 'of': 17, 'and': 17, '-': 13, 'in': 11, 'a': 11, \"'\": 11, 'this': 10, ...}), FreqDist({'the': 70, '.': 41, 'a': 37, 'and': 35, 'to': 35, ',': 34, 'of': 25, \"'\": 24, 'it': 24, 'i': 23, ...}), FreqDist({',': 76, 'the': 67, '.': 52, 'a': 37, 'to': 34, \"'\": 34, 'and': 32, 'of': 26, 's': 22, 'in': 21, ...}), FreqDist({'the': 41, ',': 39, '.': 37, '-': 24, 'and': 21, 'of': 18, \"'\": 17, 'to': 14, 'this': 12, 'in': 12, ...}), FreqDist({'the': 48, ',': 44, '.': 38, '\"': 24, \"'\": 19, 'a': 19, 'that': 18, 'is': 18, 'and': 18, 'to': 17, ...}), FreqDist({',': 53, 'the': 45, '.': 43, 'a': 30, 'and': 27, 'to': 25, 'his': 23, \"'\": 21, 'of': 17, 'with': 15, ...}), FreqDist({'.': 34, \"'\": 18, 'the': 17, 'i': 15, ',': 13, 'a': 13, 'of': 12, 'and': 11, 'this': 9, 'movie': 9, ...}), FreqDist({'the': 50, '.': 30, 'of': 26, ',': 26, 'and': 18, '-': 16, 'is': 12, 'a': 12, \"'\": 10, 's': 9, ...}), FreqDist({',': 51, '.': 44, 'i': 29, 'the': 27, \"'\": 22, 'to': 18, 'a': 17, 'in': 16, 'that': 16, 'of': 16, ...}), FreqDist({',': 34, '.': 29, 'the': 22, 'and': 21, \"'\": 19, 'a': 19, ')': 18, 'of': 16, '(': 16, 'to': 16, ...}), FreqDist({'.': 29, ',': 26, 'and': 25, 'to': 21, 'the': 17, 'that': 12, 'a': 11, 'is': 10, 'of': 8, 'it': 8, ...}), FreqDist({'the': 52, ',': 37, '.': 35, 'of': 21, 'a': 18, 'with': 13, 'beaumarchais': 12, 'in': 11, 'and': 11, 'his': 10, ...}), FreqDist({'the': 52, ',': 38, '.': 35, 'and': 33, 'is': 21, 'to': 18, 'batman': 15, 'of': 15, 'as': 14, \"'\": 14, ...}), FreqDist({'the': 43, ',': 43, '\"': 40, '.': 28, 'and': 25, 'a': 24, '-': 21, 'of': 21, \"'\": 19, 'to': 18, ...}), FreqDist({',': 65, 'the': 47, 'of': 44, '.': 41, 'and': 38, 'to': 34, 'in': 32, 'is': 25, 'as': 19, '-': 19, ...}), FreqDist({',': 75, 'a': 54, 'the': 52, '.': 41, 'of': 31, \"'\": 27, 'and': 25, 'is': 23, '\"': 22, 'in': 18, ...}), FreqDist({',': 61, '.': 38, 'the': 37, 'a': 26, 'flynt': 24, 'in': 16, '\"': 16, 'and': 16, \"'\": 16, 's': 15, ...}), FreqDist({',': 60, 'the': 42, 'a': 36, \"'\": 32, '.': 25, 'and': 25, 'it': 24, 'to': 23, 's': 21, 'that': 20, ...}), FreqDist({',': 39, '.': 31, 'the': 29, 'a': 14, ':': 13, '\"': 12, \"'\": 12, 'in': 12, '(': 11, ')': 11, ...}), FreqDist({',': 123, 'the': 115, '.': 109, 'and': 61, 'of': 54, '\"': 44, 'in': 40, 'a': 37, 'is': 35, 'to': 33, ...}), FreqDist({',': 109, 'the': 49, '.': 47, 'and': 36, 'of': 28, 'a': 25, \"'\": 25, 'is': 22, '\"': 20, '(': 20, ...}), FreqDist({'and': 10, 'the': 10, ',': 9, '.': 9, 'of': 6, 'anne': 5, 'frank': 4, 'family': 4, \"'\": 4, 's': 4, ...}), FreqDist({',': 61, 'the': 57, '.': 42, 'of': 27, 'a': 26, 'and': 24, 'is': 21, '\"': 16, 'to': 16, 'in': 16, ...}), FreqDist({',': 60, 'the': 53, '.': 33, 'and': 29, \"'\": 23, 'of': 20, 'i': 19, '-': 18, 'to': 16, 's': 16, ...}), FreqDist({'the': 32, ',': 28, '.': 24, \"'\": 15, 'and': 14, 'a': 11, 'of': 11, 's': 10, 'in': 8, 'is': 7, ...}), FreqDist({',': 118, 'the': 87, 'and': 60, '.': 50, \"'\": 45, 'a': 44, 'of': 40, 'to': 39, 'it': 29, 'that': 28, ...}), FreqDist({',': 58, 'the': 55, '.': 37, 'to': 29, 'in': 24, 'that': 24, 'and': 23, 'of': 22, 'is': 21, '-': 13, ...}), FreqDist({',': 43, 'the': 34, 'and': 23, '.': 23, 'a': 17, 'of': 17, 'to': 13, \"'\": 12, 's': 11, 'for': 9, ...}), FreqDist({'the': 49, ',': 39, '.': 34, 'of': 31, 'and': 19, 'in': 18, 'to': 16, 'that': 14, 'a': 13, 'his': 13, ...}), FreqDist({'the': 59, '.': 37, 'of': 22, ',': 21, 'is': 20, 'a': 19, 'to': 17, 'in': 15, 'that': 15, 'star': 14, ...}), FreqDist({',': 59, 'the': 45, 'and': 33, 'of': 32, '.': 30, \"'\": 24, 'a': 23, 'to': 22, 'in': 19, 'it': 15, ...}), FreqDist({'the': 55, '.': 35, ',': 29, 'of': 21, \"'\": 18, 'is': 18, 's': 15, 'in': 15, 'and': 13, 'a': 13, ...}), FreqDist({'the': 42, ',': 33, '\"': 25, '-': 25, 'to': 23, 'and': 21, 'a': 20, '.': 19, 'of': 16, 'that': 14, ...}), FreqDist({'.': 22, 'the': 22, 'a': 18, 'of': 17, ',': 15, 'douglas': 9, 'is': 9, 'with': 9, 'he': 9, 'to': 9, ...}), FreqDist({',': 69, 'the': 51, 'and': 39, '.': 38, 'a': 32, 'is': 30, 'of': 30, 'in': 24, 'to': 24, 'he': 18, ...}), FreqDist({'the': 75, ',': 56, '.': 40, 'of': 25, 'and': 22, 'to': 18, 'in': 16, 'is': 15, 'a': 13, 'that': 12, ...}), FreqDist({'the': 52, ',': 36, '.': 31, 'in': 19, 'to': 19, 'and': 17, 'a': 15, '\"': 14, 'hulot': 13, 'of': 13, ...}), FreqDist({'the': 32, ',': 21, 'to': 21, '.': 20, '-': 12, 'of': 11, 'and': 10, 'as': 9, 'a': 9, 'u': 8, ...}), FreqDist({',': 61, 'the': 42, '.': 38, 'a': 22, 'is': 19, 'in': 19, 'and': 16, 'of': 14, '_the': 9, 'its': 9, ...}), FreqDist({'.': 52, 'a': 37, \"'\": 33, ',': 31, 'to': 30, 'he': 29, 'the': 25, 'is': 24, 'his': 23, 's': 22, ...}), FreqDist({'the': 27, ',': 22, '.': 20, 'to': 16, 'his': 14, 'a': 14, 'of': 10, \"'\": 10, 'and': 9, 'in': 9, ...}), FreqDist({',': 86, 'the': 71, 'of': 48, 'a': 41, 'and': 41, '.': 38, 'that': 33, \"'\": 29, 'to': 26, '-': 23, ...}), FreqDist({',': 38, '.': 30, 'the': 30, 'a': 22, 'and': 18, 'of': 17, \"'\": 16, 'in': 15, 'his': 15, 'to': 14, ...}), FreqDist({',': 30, '.': 26, 'a': 23, 'and': 23, 'the': 22, \"'\": 18, 'of': 16, 'in': 16, 's': 15, 'to': 15, ...}), FreqDist({'the': 55, ',': 54, 'and': 36, '.': 35, 'a': 33, 'of': 26, 'to': 23, 'mulan': 19, \"'\": 17, 'in': 16, ...}), FreqDist({'the': 34, '.': 33, ',': 30, 'a': 21, 'of': 18, 'i': 17, 'and': 15, \"'\": 14, 'to': 14, 'in': 12, ...}), FreqDist({'.': 44, 'the': 33, 'to': 28, 'and': 21, ',': 20, 'a': 18, 'of': 17, 'is': 16, 'his': 16, 'computer': 11, ...}), FreqDist({',': 89, '.': 65, 'the': 60, 'i': 36, \"'\": 31, 'to': 29, 'a': 28, 'of': 24, 'it': 21, 'was': 20, ...}), FreqDist({'the': 100, ',': 75, '.': 56, 'of': 48, 'to': 44, 'and': 40, 'a': 34, \"'\": 28, 'in': 27, '-': 18, ...}), FreqDist({',': 124, 'the': 72, '\"': 64, 'and': 40, 'of': 38, '.': 35, \"'\": 29, 'to': 28, '-': 26, 'a': 24, ...}), FreqDist({'the': 29, ',': 23, '.': 21, 'a': 19, 'to': 17, 'is': 15, 'in': 11, 'his': 10, 'movie': 9, 'that': 9, ...}), FreqDist({'the': 32, ',': 29, 'a': 23, 'and': 18, 'of': 17, '.': 17, '\"': 14, 'to': 8, 'by': 8, 'is': 7, ...}), FreqDist({',': 38, 'the': 32, 'of': 26, '.': 24, 'and': 11, 'a': 11, 'to': 10, \"'\": 10, 'mel': 9, 'that': 9, ...}), FreqDist({'the': 44, ',': 36, '.': 31, 'and': 29, 'a': 28, 'to': 24, 'is': 18, 'in': 18, \"'\": 16, 'of': 14, ...}), FreqDist({'the': 74, '.': 74, ',': 60, 'a': 44, 'in': 39, \"'\": 39, 'of': 35, 'to': 34, 'and': 33, 'is': 29, ...}), FreqDist({',': 86, 'the': 61, '.': 44, 'a': 34, 'of': 33, 'and': 24, 'in': 19, \"'\": 17, 'is': 16, 'to': 13, ...}), FreqDist({',': 71, 'the': 47, '.': 42, 'of': 30, '\"': 26, 'a': 24, \"'\": 19, 'in': 19, 'to': 18, 'and': 17, ...}), FreqDist({',': 45, 'the': 40, '.': 36, 'and': 24, 'of': 21, \"'\": 16, 'to': 14, 'it': 14, 'a': 14, 'his': 14, ...}), FreqDist({',': 49, 'the': 41, '.': 34, 'and': 34, 'to': 25, 'that': 20, 'is': 20, 'of': 19, 'a': 16, \"'\": 15, ...}), FreqDist({',': 68, 'the': 50, 'of': 44, 'and': 32, '.': 27, 'in': 27, 'a': 26, \"'\": 21, 's': 17, 'to': 15, ...}), FreqDist({',': 52, '.': 39, \"'\": 32, 'the': 32, 'and': 29, 'to': 22, 's': 18, 'that': 17, 'in': 15, 'this': 14, ...}), FreqDist({'.': 52, ',': 38, 'the': 31, \"'\": 30, 'a': 24, 'it': 23, 's': 22, 'you': 22, 'and': 17, 'of': 16, ...}), FreqDist({',': 26, 'the': 23, '.': 23, 'and': 18, 'henry': 14, 'a': 13, 'to': 13, 'of': 10, \"'\": 10, 'it': 8, ...}), FreqDist({',': 41, 'the': 35, '\"': 30, \"'\": 23, '.': 23, 'a': 22, 'to': 18, 'of': 17, 'and': 16, 'that': 12, ...}), FreqDist({'the': 87, ',': 81, '.': 58, '\"': 52, 'of': 35, 'a': 34, 'to': 34, 'and': 33, 'that': 29, 'in': 28, ...}), FreqDist({'the': 53, '.': 41, ',': 35, 'a': 21, 'is': 19, 'of': 14, 'and': 13, 'to': 10, 'look': 9, 'in': 9, ...}), FreqDist({',': 52, 'the': 42, '.': 37, 'a': 30, \"'\": 26, 'and': 26, 'of': 24, 's': 21, 'for': 16, 'to': 15, ...}), FreqDist({'the': 19, ',': 17, '.': 13, 'a': 9, 'and': 9, 'i': 6, 'of': 6, 'this': 6, 'it': 6, 'that': 5, ...}), FreqDist({'.': 49, ',': 48, 'the': 39, 'a': 28, 'in': 23, 'is': 20, 'to': 14, 'of': 13, 'but': 12, 'he': 12, ...}), FreqDist({',': 39, 'the': 31, '.': 20, 'of': 15, 'is': 13, 'to': 13, 'a': 11, 'time': 10, 'that': 9, 'and': 8, ...}), FreqDist({',': 45, 'the': 32, '\"': 26, '.': 23, 'and': 20, \"'\": 19, 'of': 15, 's': 14, 'to': 13, 'it': 11, ...}), FreqDist({',': 17, 'the': 15, '.': 14, 'is': 14, 'and': 10, 'a': 9, 'to': 8, 'in': 6, 'sheen': 4, 'zane': 4, ...}), FreqDist({',': 37, '.': 29, 'and': 24, 'the': 19, 'a': 17, 'of': 16, 'it': 13, 'in': 13, \"'\": 12, 'ray': 11, ...}), FreqDist({'the': 97, ',': 80, '.': 76, '\"': 52, 'of': 46, 'to': 44, 'a': 39, 'in': 37, \"'\": 33, 'and': 31, ...}), FreqDist({'the': 68, '.': 49, 'to': 29, 'of': 28, 'a': 27, ',': 24, 'that': 21, 'was': 19, 'in': 19, \"'\": 17, ...}), FreqDist({',': 46, 'the': 32, '.': 26, \"'\": 26, 'of': 23, 's': 18, 'to': 15, 'a': 15, 'is': 12, '\"': 12, ...}), FreqDist({'.': 48, 'the': 45, ',': 27, 'a': 25, 'is': 22, 'and': 21, 'truman': 18, 'of': 18, 'he': 16, 'it': 15, ...}), FreqDist({'the': 65, '.': 44, 'of': 28, 'to': 28, 'a': 24, 'and': 18, ',': 15, 'in': 15, 'is': 12, 'it': 12, ...}), FreqDist({',': 45, 'the': 33, '.': 30, \"'\": 16, 'is': 15, 'a': 15, 'and': 14, 'to': 14, 'film': 11, 'as': 10, ...}), FreqDist({'the': 100, ',': 55, '.': 53, 'a': 48, 'of': 44, 'and': 28, 'in': 25, 'to': 24, \"'\": 21, 'is': 17, ...}), FreqDist({'.': 40, ',': 38, 'the': 37, 'they': 29, 'to': 22, 'their': 18, 'is': 16, 'are': 15, 'that': 14, 'of': 13, ...}), FreqDist({'the': 93, '.': 75, ',': 55, 'to': 39, 'of': 37, 'that': 35, 'a': 31, 'in': 28, 'is': 26, 'bond': 24, ...}), FreqDist({',': 78, 'the': 67, '.': 50, 'is': 40, 'and': 37, \"'\": 33, 'a': 33, 'to': 32, 'it': 21, 'of': 21, ...}), FreqDist({',': 30, '\"': 28, '.': 24, 'the': 23, \"'\": 23, 'a': 21, 's': 16, 'to': 15, 'of': 15, 'is': 11, ...}), FreqDist({',': 27, '.': 24, '\"': 16, \"'\": 12, 'the': 12, 'and': 11, 'i': 10, 'it': 8, 'to': 8, 'of': 7, ...}), FreqDist({',': 75, 'the': 47, \"'\": 41, 'and': 35, '.': 33, 'a': 29, 's': 25, '\"': 22, 'of': 21, 'it': 20, ...}), FreqDist({'the': 43, ',': 22, '.': 20, 'of': 17, 'and': 11, 'a': 10, 'borrowers': 7, '-': 7, 'as': 7, '(': 7, ...}), FreqDist({'.': 71, 'the': 61, ',': 60, 'and': 41, 'a': 37, 'to': 32, 'is': 32, 'of': 29, '\"': 27, \"'\": 19, ...}), FreqDist({',': 85, '.': 64, 'the': 51, \"'\": 33, 'and': 32, 'of': 32, 'to': 28, 'a': 21, '\"': 20, 's': 19, ...}), FreqDist({\"'\": 47, '\"': 34, 'the': 31, ',': 29, '.': 27, 'a': 25, 's': 24, 'and': 17, '(': 15, ')': 15, ...}), FreqDist({',': 33, '.': 31, 'the': 26, 'a': 23, 'of': 17, 'to': 17, '\"': 16, 'and': 15, 'is': 13, 'it': 12, ...}), FreqDist({'the': 35, ',': 29, '.': 28, 'of': 24, 'a': 19, \"'\": 18, 'and': 17, 'lola': 14, 'run': 13, 'is': 13, ...}), FreqDist({'the': 86, ',': 82, '.': 45, 'and': 38, 'of': 28, 'a': 26, 'in': 25, 'is': 24, 'to': 21, '\"': 20, ...}), FreqDist({'the': 39, '.': 32, ',': 29, 'of': 23, 'a': 18, 'and': 17, 'to': 13, \"'\": 12, 'is': 12, 'i': 11, ...}), FreqDist({',': 21, 'the': 21, \"'\": 18, '.': 16, 's': 15, '\"': 12, 'of': 12, 'a': 12, 'in': 9, 'and': 8, ...}), FreqDist({'the': 47, ',': 36, '.': 31, 'and': 17, '-': 15, 'to': 15, 'of': 15, 'is': 13, 'a': 10, \"'\": 8, ...}), FreqDist({',': 21, 'the': 20, 'a': 12, '.': 11, \"'\": 9, 'and': 9, 's': 8, 'to': 8, 'of': 8, '(': 7, ...}), FreqDist({',': 50, 'the': 49, 'and': 29, '.': 26, 'of': 21, '\"': 20, 'a': 20, 'to': 17, 'in': 16, 'i': 12, ...}), FreqDist({',': 115, 'the': 76, '.': 62, 'and': 49, \"'\": 38, 'a': 35, 'to': 32, 'it': 31, 'of': 29, 'that': 29, ...}), FreqDist({'the': 17, '.': 15, ',': 13, 'a': 10, 'to': 8, 'is': 6, \"'\": 6, 's': 6, 'lebowski': 5, 'and': 5, ...}), FreqDist({',': 57, 'the': 56, '.': 45, 'of': 39, \"'\": 36, 'a': 31, 'and': 29, 'in': 22, 'is': 18, 's': 16, ...}), FreqDist({',': 41, 'the': 36, '.': 35, \"'\": 22, 's': 21, 'a': 19, 'and': 18, 'is': 17, '-': 15, 'to': 12, ...}), FreqDist({'the': 35, ',': 35, '.': 22, 'to': 16, 'and': 15, 'a': 14, 'of': 14, '\"': 12, 'is': 9, 'that': 9, ...}), FreqDist({'the': 18, '.': 16, ',': 15, 'and': 11, 'her': 11, 'is': 10, 'to': 8, 'a': 7, '\"': 6, 'sherri': 6, ...}), FreqDist({',': 28, 'the': 20, '.': 18, 'and': 14, 'is': 12, 'to': 11, 'of': 9, \"'\": 9, 'a': 8, 'action': 6, ...}), FreqDist({',': 35, 'the': 31, '.': 26, 'and': 21, 'a': 17, 'of': 14, '-': 13, 'to': 12, \"'\": 12, 'is': 9, ...}), FreqDist({'.': 43, 'the': 26, 'to': 18, 'a': 16, ',': 16, \"'\": 15, '\"': 14, 'is': 13, 'and': 12, 't': 10, ...}), FreqDist({'the': 28, ',': 20, 'is': 17, 'to': 17, 'and': 16, '.': 15, 'of': 14, 'henry': 7, 'he': 7, 'there': 7, ...}), FreqDist({'.': 28, ',': 21, 'the': 21, 'he': 20, 'is': 16, \"'\": 15, 'to': 15, 'a': 14, 'in': 13, '\"': 12, ...}), FreqDist({',': 64, 'the': 45, '.': 43, 'a': 39, 'in': 34, 'and': 28, 'of': 28, 'is': 27, \"'\": 25, 'shakespeare': 24, ...}), FreqDist({'the': 102, ',': 61, '.': 61, 'and': 32, 'of': 32, 'to': 31, 'a': 30, 'in': 23, \"'\": 20, 'it': 18, ...}), FreqDist({'the': 66, ',': 49, '.': 46, 'a': 33, 'of': 26, 'is': 21, 'in': 21, 'and': 19, 'to': 13, 'with': 12, ...}), FreqDist({',': 39, '.': 37, 'the': 32, 'is': 22, 'a': 21, 'and': 21, 'of': 20, 'to': 18, 'that': 14, 'in': 14, ...}), FreqDist({',': 35, '.': 31, 'the': 24, 'to': 15, 'and': 13, 'a': 11, 'of': 11, 'is': 10, 'his': 8, 'an': 7, ...}), FreqDist({'.': 57, 'the': 56, ',': 43, 'of': 33, 'to': 31, 'a': 21, 'is': 18, 'and': 16, 'in': 15, \"'\": 11, ...}), FreqDist({'the': 44, ',': 38, \"'\": 37, '.': 36, 'of': 30, 'and': 19, 's': 18, 'a': 15, '`': 15, 'it': 15, ...}), FreqDist({'.': 84, ',': 57, 'the': 52, 'a': 25, \"'\": 23, 'and': 23, 'of': 21, 'is': 19, 'to': 17, 'in': 17, ...}), FreqDist({'the': 69, '.': 60, ',': 59, \"'\": 38, 'and': 36, 'a': 29, 'of': 27, '`': 25, '-': 23, 'is': 19, ...}), FreqDist({'.': 54, ',': 40, 'the': 39, 'a': 33, 'is': 26, 'to': 22, 'of': 20, 'and': 18, \"'\": 14, 'for': 12, ...}), FreqDist({',': 95, 'the': 80, '.': 56, 'of': 44, 'a': 33, 'is': 32, 'to': 28, 'and': 25, \"'\": 23, '-': 23, ...}), FreqDist({',': 42, 'the': 39, '\"': 34, 'a': 31, '.': 28, \"'\": 26, 'and': 24, 's': 19, 'to': 15, 'lebowski': 13, ...}), FreqDist({'.': 86, \"'\": 35, ',': 33, 'the': 27, 's': 20, 'i': 15, 'a': 13, 'movie': 12, 'that': 12, 'of': 10, ...}), FreqDist({'\"': 38, 'the': 28, ',': 27, '-': 23, \"'\": 20, 'and': 19, '.': 18, 'a': 16, 'to': 15, 's': 15, ...}), FreqDist({',': 26, 'the': 23, '.': 21, 'of': 14, 'hrundi': 12, 'in': 11, 'to': 10, 'is': 9, 'a': 9, \"'\": 9, ...}), FreqDist({',': 57, 'the': 50, 'a': 42, '.': 30, \"'\": 30, 'of': 22, 'and': 22, 'is': 20, 'to': 18, 's': 18, ...}), FreqDist({',': 41, 'the': 35, '.': 34, 'a': 29, 'to': 20, \"'\": 19, 'and': 17, 'of': 17, 'she': 11, 's': 10, ...}), FreqDist({'the': 51, ',': 45, '.': 38, 'to': 27, 'a': 19, 'in': 16, 'of': 16, 'and': 16, 'is': 15, 'with': 11, ...}), FreqDist({',': 52, '\"': 40, 'the': 40, '.': 37, \"'\": 30, 'a': 30, 's': 23, 'of': 23, 'and': 22, '-': 21, ...}), FreqDist({'the': 19, '\"': 14, ',': 14, '.': 13, 'and': 8, 'as': 8, 'of': 7, 'in': 7, 'a': 7, 'is': 6, ...}), FreqDist({'the': 33, ',': 28, '.': 24, '\"': 18, 'and': 17, 'to': 13, 'a': 12, 'you': 12, \"'\": 11, 'that': 10, ...}), FreqDist({',': 31, '.': 25, 'the': 24, '-': 18, \"'\": 14, '(': 14, ')': 14, 'of': 14, 'go': 13, 'is': 12, ...}), FreqDist({',': 92, '.': 47, 'a': 47, 'and': 37, \"'\": 36, 'the': 31, 's': 28, '\"': 28, 'is': 26, 'of': 24, ...}), FreqDist({',': 30, 'the': 21, '.': 20, 'a': 18, 'is': 14, 'to': 13, 'of': 12, 'it': 8, 'and': 8, \"'\": 8, ...}), FreqDist({'the': 43, ',': 41, '.': 35, \"'\": 23, 'and': 20, 'a': 18, 'is': 17, 'to': 16, '`': 12, 'in': 10, ...}), FreqDist({'the': 52, ',': 48, '.': 34, 'of': 30, '\"': 23, 'is': 18, 'to': 16, 'a': 14, 'and': 14, 'that': 14, ...}), FreqDist({',': 12, \"'\": 5, '.': 5, 'and': 5, 'the': 4, 'i': 4, 'a': 4, '--': 4, 'as': 3, '-': 3, ...}), FreqDist({'the': 30, 'of': 24, '.': 24, ',': 21, 'a': 20, \"'\": 13, 's': 13, 'and': 12, 'it': 11, 'is': 10, ...}), FreqDist({'the': 32, ',': 24, '.': 17, '\"': 16, \"'\": 14, 's': 12, 'a': 12, 'of': 11, 'as': 11, 'and': 11, ...}), FreqDist({',': 56, 'the': 45, '.': 35, \"'\": 26, 'a': 25, 'of': 20, 'it': 19, 'scream': 18, 'to': 16, 'in': 16, ...}), FreqDist({',': 38, 'the': 32, '.': 29, 'of': 26, 'a': 22, '-': 20, \"'\": 17, 'it': 17, 's': 15, 'that': 10, ...}), FreqDist({'=': 46, 'the': 34, ',': 26, '.': 24, 'is': 17, 'it': 15, 'to': 15, 'and': 14, 'in': 12, '-': 12, ...}), FreqDist({'the': 16, 'a': 12, '.': 12, 'of': 10, ',': 9, 'and': 8, 'with': 5, \"'\": 5, 's': 5, 'argento': 4, ...}), FreqDist({',': 60, 'the': 47, '.': 41, 'of': 40, 'and': 24, 'a': 21, 'to': 17, '(': 15, ')': 15, 'this': 15, ...}), FreqDist({',': 49, 'the': 47, '.': 30, 'is': 20, 'to': 15, 'of': 13, 'and': 12, 'a': 11, 'in': 9, 'spielberg': 8, ...}), FreqDist({',': 17, '.': 15, 'and': 13, 'the': 13, \"'\": 8, 'a': 6, 'film': 6, 's': 6, '\"': 6, 'are': 6, ...}), FreqDist({'.': 25, 'the': 23, ',': 17, 'a': 17, 'to': 13, 'in': 11, 'is': 8, 'and': 7, \"'\": 7, 'this': 6, ...}), FreqDist({'the': 177, ',': 176, '.': 93, 'a': 65, 'and': 59, 'to': 56, \"'\": 48, 'of': 40, 'cauldron': 37, 'it': 31, ...}), FreqDist({',': 32, 'the': 30, '.': 25, 'to': 23, '\"': 14, 'and': 13, 'of': 12, 'a': 12, 'on': 11, '-': 9, ...}), FreqDist({'.': 19, ',': 16, 'the': 15, 'a': 13, 'he': 11, \"'\": 10, 'is': 9, 's': 8, '\"': 8, 'of': 6, ...}), FreqDist({',': 39, '.': 38, '?': 33, 'a': 31, 'the': 31, 'is': 22, 'and': 18, 'to': 17, 'in': 13, 'it': 11, ...}), FreqDist({'the': 58, ',': 54, '.': 36, 'to': 25, 'is': 24, 'a': 24, 'and': 20, 'of': 16, 'edwards': 14, 'in': 13, ...}), FreqDist({',': 61, 'the': 40, '.': 40, 'is': 28, 'a': 26, 'and': 25, 'of': 20, 'to': 19, 'in': 17, 'oscar': 16, ...}), FreqDist({'the': 129, '.': 48, 'of': 47, ',': 43, 'to': 33, 'and': 31, 'a': 28, 'as': 25, '\"': 20, 'in': 19, ...}), FreqDist({',': 69, '.': 47, 'the': 45, 'and': 36, 'to': 35, 'he': 28, 'of': 26, 'a': 24, 'in': 21, 'his': 21, ...}), FreqDist({'the': 36, '.': 30, ',': 28, 'of': 21, 'a': 19, 'is': 16, 'to': 15, \"'\": 15, 'i': 13, 'that': 10, ...}), FreqDist({'\"': 16, ',': 15, 'the': 15, 'and': 11, '.': 11, 'in': 10, 'to': 10, \"'\": 7, 'as': 7, 's': 6, ...}), FreqDist({'.': 20, ',': 19, 'the': 17, 'of': 10, 'it': 9, 'and': 9, 'in': 8, \"'\": 8, 'is': 7, 'a': 7, ...}), FreqDist({',': 43, 'the': 40, '?': 33, '.': 27, 'a': 24, 'it': 19, 'of': 19, 'and': 19, 'is': 17, 'to': 14, ...}), FreqDist({',': 62, 'the': 57, '.': 42, 'and': 32, 'of': 31, 'a': 25, 'is': 21, 'to': 19, 'in': 14, \"'\": 13, ...}), FreqDist({'the': 50, '.': 42, 'of': 17, '\"': 16, 'and': 14, ',': 14, 'in': 13, \"'\": 12, 'to': 11, 'is': 11, ...}), FreqDist({'.': 42, ',': 41, 'the': 37, '\"': 20, 'to': 19, 'and': 17, 'it': 14, \"'\": 13, 'of': 12, 'a': 12, ...}), FreqDist({',': 67, 'the': 48, 'a': 42, '.': 40, \"'\": 39, 'and': 38, 's': 28, 'to': 26, '-': 23, 'in': 21, ...}), FreqDist({'.': 46, ',': 45, 'the': 41, 'and': 24, 'a': 22, 'robocop': 19, 'in': 16, 'of': 16, 'to': 15, 'as': 13, ...}), FreqDist({'the': 53, ',': 52, '.': 49, 'and': 31, 'a': 26, 'is': 23, 'of': 19, '-': 16, 'to': 10, 'he': 10, ...}), FreqDist({',': 78, '.': 68, 'the': 58, \"'\": 41, 'and': 40, 'a': 36, 'to': 31, 'is': 29, 'of': 24, 'that': 23, ...}), FreqDist({'the': 34, ',': 25, 'a': 24, '.': 22, 'to': 16, 'and': 13, 'of': 13, \"'\": 12, '-': 10, 's': 9, ...}), FreqDist({'the': 63, '.': 46, ',': 43, \"'\": 33, 'a': 32, 'and': 27, 'to': 26, '\"': 24, 'in': 20, 'woody': 19, ...}), FreqDist({'.': 33, 'a': 24, 'to': 23, ',': 21, 'the': 21, 'and': 19, '\"': 16, 'is': 16, 'of': 13, 'this': 12, ...}), FreqDist({',': 27, '\"': 26, '.': 24, 'and': 19, \"'\": 18, 'the': 16, 'of': 15, 'a': 15, 'to': 12, 's': 11, ...}), FreqDist({'.': 22, ',': 19, \"'\": 17, 'the': 16, 'of': 10, 'and': 9, '(': 8, ')': 8, 'his': 8, 'is': 8, ...}), FreqDist({',': 44, '.': 33, 'a': 26, 'the': 22, 'paulie': 20, 'and': 19, 'to': 13, '\"': 12, 'is': 11, '(': 10, ...}), FreqDist({'the': 54, ',': 43, '.': 31, '-': 27, 'and': 25, 'a': 20, 'to': 19, 'of': 19, \"'\": 16, 'in': 13, ...}), FreqDist({',': 45, '.': 43, 'the': 40, 'derek': 21, 'of': 19, 'in': 18, 'his': 18, 'a': 16, 'and': 16, 'he': 12, ...}), FreqDist({',': 78, 'the': 55, '.': 42, 'and': 36, 'a': 36, 'of': 33, 'to': 24, 'is': 17, 'by': 16, '-': 14, ...}), FreqDist({'the': 53, ',': 42, '.': 38, 'to': 21, 'of': 20, 'is': 19, 'and': 18, 'a': 17, 'in': 12, '\"': 12, ...}), FreqDist({'the': 74, ',': 72, '\"': 38, 'and': 28, 'of': 25, '.': 25, 'a': 22, 'to': 16, 'is': 15, 'as': 15, ...}), FreqDist({'the': 41, ',': 40, '.': 29, '\"': 20, 'of': 18, 'and': 16, 'a': 16, \"'\": 14, 'as': 12, 'with': 12, ...}), FreqDist({'the': 46, ',': 43, 'and': 36, '.': 32, \"'\": 17, 'to': 16, 'is': 12, 'a': 11, 'of': 10, '(': 10, ...}), FreqDist({'.': 24, 'i': 15, ',': 12, 'and': 10, 'to': 8, \"'\": 7, '*': 7, 'be': 6, 'but': 5, 'the': 5, ...}), FreqDist({'the': 67, ',': 51, '.': 38, 'to': 29, 'a': 25, 'of': 23, 'and': 19, 'in': 18, 'that': 18, 'he': 16, ...}), FreqDist({'.': 49, ',': 26, 'the': 20, 'his': 14, 'a': 14, 'he': 10, '-': 10, 'and': 9, \"'\": 9, 'is': 9, ...}), FreqDist({',': 38, '.': 32, 'and': 30, 'a': 28, 'the': 27, 'is': 22, 'to': 18, \"'\": 18, 'i': 16, 'of': 14, ...}), FreqDist({'the': 56, ',': 53, '.': 45, 'to': 41, 'and': 39, 'is': 35, 'a': 30, 'he': 24, 'in': 21, 'their': 20, ...}), FreqDist({'the': 78, ',': 57, '.': 42, 'and': 39, 'of': 36, 'a': 32, '\"': 28, 'is': 22, 'in': 20, 'as': 17, ...}), FreqDist({',': 74, 'the': 37, '.': 34, 'a': 26, 'in': 19, 'of': 19, 'is': 19, 'to': 18, 'and': 18, '-': 16, ...}), FreqDist({'the': 62, ',': 43, '.': 34, 'and': 29, 'to': 25, 'a': 24, \"'\": 22, 'of': 17, 's': 17, 'in': 16, ...}), FreqDist({'the': 55, '.': 46, ',': 43, 'and': 33, 'is': 24, 'of': 18, 'to': 14, 'a': 14, 'his': 13, 'in': 13, ...}), FreqDist({'the': 54, ',': 52, '.': 27, 'a': 24, 'and': 19, 'of': 17, 'to': 16, 'is': 14, '\"': 14, '-': 13, ...}), FreqDist({',': 83, 'the': 78, 'to': 52, 'is': 42, '.': 41, 'and': 36, 'a': 32, 'her': 28, 'of': 24, 'she': 24, ...}), FreqDist({',': 57, '.': 40, 'the': 38, 'is': 26, 'of': 22, 'a': 18, 'and': 18, 'to': 16, 'in': 14, 'he': 14, ...}), FreqDist({',': 79, 'the': 60, '.': 42, 'and': 27, 'a': 25, 'in': 21, 'of': 20, 'to': 19, 'is': 16, \"'\": 15, ...}), FreqDist({'the': 54, 'of': 53, ',': 49, '.': 35, 'in': 29, 'and': 24, 'to': 20, 'that': 16, '-': 16, 'his': 16, ...}), FreqDist({'the': 56, '.': 46, 'of': 23, 'to': 23, 'a': 22, 'and': 20, ',': 19, 'is': 15, 'that': 14, '\"': 14, ...}), FreqDist({',': 61, 'the': 55, \"'\": 45, '.': 44, 'to': 41, 'and': 37, 'a': 30, 'of': 24, 'it': 17, '-': 16, ...}), FreqDist({',': 34, '.': 27, 'the': 27, \"'\": 12, 'in': 10, 'to': 9, 'are': 9, 'and': 9, 'i': 8, 'is': 7, ...}), FreqDist({'.': 14, ',': 12, 'in': 11, 'and': 9, 'it': 8, 'to': 7, 'this': 7, 'a': 7, 'the': 7, 'with': 6, ...}), FreqDist({',': 45, 'the': 36, '.': 30, 'is': 19, 'of': 19, \"'\": 18, 'to': 18, '\"': 18, 'a': 16, 'and': 15, ...}), FreqDist({',': 39, 'the': 35, '.': 31, 'of': 26, 'i': 23, \"'\": 18, 'that': 17, 'a': 16, 'to': 15, 'and': 14, ...}), FreqDist({',': 88, 'the': 73, 'a': 59, '.': 54, 'and': 48, \"'\": 43, 'of': 37, 'in': 36, 'to': 32, 's': 28, ...}), FreqDist({',': 75, 'the': 41, '.': 39, 'a': 31, \"'\": 28, '-': 26, 'and': 23, 'of': 23, 's': 19, 'is': 18, ...}), FreqDist({'the': 123, ',': 98, '.': 73, 'of': 54, 'is': 40, 'and': 33, 'a': 31, 'to': 26, 'one': 18, 'film': 17, ...}), FreqDist({'the': 32, ',': 25, '.': 24, 'and': 19, 'a': 16, 'is': 15, \"'\": 8, 'film': 8, 'of': 8, 'who': 8, ...}), FreqDist({',': 40, '.': 28, 'a': 21, 'the': 21, 'and': 18, 'to': 18, \"'\": 14, 'in': 12, 'of': 9, 'her': 9, ...}), FreqDist({'.': 35, ',': 34, 'the': 33, 'a': 27, 'and': 21, 'of': 21, '-': 19, \"'\": 16, 'to': 13, 'is': 13, ...}), FreqDist({'the': 41, ',': 32, '.': 23, 'of': 22, 'and': 15, 'a': 14, 'is': 11, 'to': 8, 'that': 7, 'in': 7, ...}), FreqDist({'the': 28, ',': 23, '.': 15, 'of': 13, 'in': 10, 'and': 10, 'a': 9, 'to': 9, \"'\": 8, '-': 7, ...}), FreqDist({',': 13, '.': 9, 'the': 6, 'and': 6, 'film': 5, 'for': 4, '-': 4, 'that': 4, '(': 3, ')': 3, ...}), FreqDist({'the': 37, 'and': 25, ',': 21, '.': 19, 'is': 16, 'a': 15, 'to': 14, 'of': 13, \"'\": 10, '-': 9, ...}), FreqDist({',': 42, '.': 37, 'the': 29, 'of': 19, 'a': 16, 'to': 15, 'is': 13, 'and': 11, 'in': 11, '-': 9, ...}), FreqDist({'.': 33, ',': 31, 'the': 29, 'in': 22, 'a': 22, 'is': 16, '-': 15, \"'\": 14, 'of': 14, 'to': 14, ...}), FreqDist({',': 36, '.': 33, 'the': 31, 'a': 28, \"'\": 16, 'it': 13, 'in': 12, 'brooks': 11, 'of': 11, 'to': 10, ...}), FreqDist({',': 51, 'the': 29, 'of': 25, '.': 24, 'a': 21, 'and': 20, \"'\": 17, 's': 15, 'in': 14, 'her': 13, ...}), FreqDist({',': 36, 'the': 32, '.': 32, 'a': 20, 'to': 17, \"'\": 14, 'of': 13, 'film': 13, 'and': 13, 'you': 10, ...}), FreqDist({'the': 53, '.': 36, 'of': 28, ',': 28, 'a': 22, 'to': 17, 'is': 13, 'in': 13, 'and': 13, \"'\": 10, ...}), FreqDist({'the': 51, ',': 39, '.': 31, 'and': 25, 'to': 24, 'of': 23, \"'\": 20, 'a': 19, 'is': 18, 'it': 17, ...}), FreqDist({'the': 48, '.': 29, ',': 27, 'of': 22, 'a': 19, 'is': 17, '\"': 16, 'to': 15, 'in': 12, 'and': 11, ...}), FreqDist({',': 16, '.': 12, 'who': 9, 'the': 8, 'to': 7, 'are': 6, 'been': 6, 'a': 6, 'those': 5, 'never': 5, ...}), FreqDist({'the': 83, ',': 56, '.': 46, 'of': 36, 'a': 32, 'to': 28, 'and': 26, 'in': 26, \"'\": 25, 'is': 20, ...}), FreqDist({',': 69, 'the': 61, 'a': 31, 'of': 28, '.': 24, 'to': 23, 'and': 22, 'is': 18, \"'\": 15, 'her': 14, ...}), FreqDist({'the': 27, ',': 23, '.': 22, 'and': 18, 'a': 14, '\"': 14, 'to': 12, 'of': 11, 'in': 10, 'alex': 8, ...}), FreqDist({',': 77, '.': 43, 'the': 40, 'is': 28, 'to': 27, 'and': 25, 'of': 19, 'a': 19, \"'\": 18, 'as': 15, ...}), FreqDist({'the': 39, ',': 38, '.': 30, 'a': 17, 'of': 16, 'to': 14, 'and': 14, \"'\": 13, 'in': 13, 'is': 12, ...}), FreqDist({'.': 19, ',': 12, 'the': 10, \"'\": 7, 'and': 6, 'to': 5, 'of': 5, 's': 4, '-': 4, 'for': 4, ...}), FreqDist({'the': 38, ',': 28, 'and': 26, 'a': 21, '.': 21, 'to': 15, \"'\": 13, 'movie': 11, 'tarantino': 11, 'of': 11, ...}), FreqDist({'the': 29, '.': 22, 'a': 18, ',': 15, 'of': 13, 'and': 10, 'is': 9, \"'\": 9, '-': 8, 'to': 8, ...}), FreqDist({',': 52, 'the': 50, '.': 43, 'of': 33, 'a': 27, '\"': 26, \"'\": 23, 'is': 22, 'and': 20, 's': 19, ...}), FreqDist({'the': 62, ',': 59, '.': 47, \"'\": 34, 'of': 28, 'to': 24, 'a': 24, 'and': 24, 'in': 21, 's': 20, ...}), FreqDist({',': 71, 'the': 70, '.': 51, \"'\": 34, 'and': 31, 'of': 26, 's': 24, 'in': 21, '-': 21, ')': 19, ...}), FreqDist({'.': 17, 'the': 14, ',': 12, 'and': 11, 'bruce': 9, 'lee': 6, 'was': 6, 'of': 6, 'like': 6, 'a': 5, ...}), FreqDist({',': 38, 'the': 30, '.': 22, 'of': 20, 'a': 19, \"'\": 17, 'and': 16, 'in': 15, 's': 13, '-': 10, ...}), FreqDist({',': 41, '.': 41, 'the': 29, '-': 22, 'a': 21, 'to': 19, 'of': 16, 'is': 14, 'and': 13, \"'\": 12, ...}), FreqDist({'.': 29, ',': 20, 'the': 20, \"'\": 15, 'and': 14, 'to': 13, 'a': 12, 'very': 12, 'is': 11, 'gallo': 9, ...}), FreqDist({',': 28, 'the': 27, '.': 25, 'of': 20, 'a': 17, 'and': 13, 'to': 13, 'is': 9, 'in': 7, 'his': 6, ...}), FreqDist({'the': 37, ',': 28, '.': 21, 'to': 19, 'of': 18, 'and': 14, 'a': 14, 'i': 12, '-': 9, 'film': 8, ...}), FreqDist({',': 37, '.': 32, 'a': 25, 'the': 25, \"'\": 21, 'to': 18, 's': 14, 'of': 14, 'and': 12, 'briggs': 11, ...}), FreqDist({'.': 50, 'the': 38, ',': 33, 'and': 18, 'is': 17, 'in': 16, 'to': 14, 'a': 14, 'of': 12, 'it': 10, ...}), FreqDist({',': 34, '.': 27, 'the': 24, 'a': 19, 'is': 16, 'and': 16, 'to': 15, 'of': 13, \"'\": 13, 's': 10, ...}), FreqDist({',': 42, 'the': 32, '.': 31, \"'\": 23, 'a': 21, 'to': 20, 's': 17, '-': 17, '\"': 14, 'of': 13, ...}), FreqDist({'the': 28, '.': 26, ',': 23, 'is': 18, 'and': 15, 'in': 13, 'a': 12, 'that': 8, 'it': 8, 'war': 8, ...}), FreqDist({',': 74, '.': 52, 'the': 40, 'evil': 24, 'in': 21, 'to': 21, 'austin': 20, 'a': 19, \"'\": 17, 'is': 17, ...}), FreqDist({'the': 74, ',': 60, '.': 45, 'is': 35, 'of': 34, 'a': 26, 'and': 20, 'film': 14, 'to': 13, 'it': 11, ...}), FreqDist({',': 47, '-': 44, '.': 44, 'the': 41, 'and': 29, \"'\": 28, 'a': 24, 'of': 20, '!': 19, 's': 17, ...}), FreqDist({'.': 25, 'the': 25, ',': 24, 'a': 16, 'and': 11, 'is': 10, 'to': 7, 'that': 7, 'it': 7, 'in': 7, ...}), FreqDist({'the': 81, ',': 75, '.': 62, 'and': 50, 'to': 42, 'a': 37, \"'\": 30, 'of': 29, 'her': 26, 'it': 22, ...}), FreqDist({'.': 28, ',': 28, 'is': 26, 'the': 25, 'of': 18, 'to': 18, 'a': 15, 'that': 14, 'in': 13, 'it': 13, ...}), FreqDist({',': 27, '.': 21, 'the': 17, 'and': 16, \"'\": 16, 'a': 14, 'muriel': 13, 's': 13, 'is': 11, 'of': 9, ...}), FreqDist({',': 35, '.': 35, 'the': 34, 'a': 27, 'is': 25, 'and': 23, 'in': 17, 'to': 17, 'princess': 15, 'of': 14, ...}), FreqDist({'the': 56, ',': 52, '.': 37, 'of': 35, 'a': 23, 'and': 22, \"'\": 21, 's': 17, 'in': 15, 'her': 13, ...}), FreqDist({',': 22, '.': 20, '\"': 18, 'the': 17, 'to': 17, \"'\": 16, 'a': 12, 'in': 10, 'is': 8, 'of': 8, ...}), FreqDist({'the': 53, ',': 53, 'of': 40, '.': 40, 'is': 32, 'and': 30, 'to': 27, 'a': 22, 'that': 18, 'he': 17, ...}), FreqDist({',': 72, 'the': 52, '.': 28, '\"': 26, 'a': 23, 'in': 22, 'to': 21, 'is': 19, 'and': 19, 'of': 15, ...}), FreqDist({',': 57, '.': 52, 'and': 33, 'the': 30, 'of': 29, 'a': 22, 'this': 20, 'to': 18, 'in': 17, \"'\": 14, ...}), FreqDist({'the': 44, ',': 25, '.': 25, 'of': 23, 'a': 21, 'and': 18, 'to': 17, '(': 13, ')': 13, 'in': 12, ...}), FreqDist({',': 79, 'the': 67, 'and': 43, '.': 42, '\"': 40, 'a': 36, 'to': 29, 'of': 29, '-': 23, 'in': 23, ...}), FreqDist({',': 51, 'the': 47, \"'\": 38, '.': 35, 'of': 34, 'a': 27, 'to': 27, 's': 26, 'in': 25, 'and': 22, ...}), FreqDist({'the': 52, ',': 51, '.': 29, 'and': 22, 'a': 18, \"'\": 18, 'of': 17, 'to': 16, 'city': 14, 'in': 14, ...}), FreqDist({',': 40, '.': 33, 'a': 29, 'the': 27, 'and': 26, 'to': 24, 'is': 20, 'matilda': 20, 'in': 19, 'of': 19, ...}), FreqDist({'the': 22, '.': 18, ',': 16, 'is': 9, 'in': 9, 'of': 8, \"'\": 8, 'and': 8, 'a': 8, 's': 7, ...}), FreqDist({',': 21, '-': 14, 'a': 13, 'and': 12, 'her': 10, '.': 10, \"'\": 8, 's': 8, 'the': 8, 'with': 6, ...}), FreqDist({',': 59, 'the': 39, '\"': 28, '.': 27, 'a': 25, 'of': 21, 'to': 18, 'and': 18, 'is': 16, 'in': 13, ...}), FreqDist({',': 55, 'the': 55, '.': 33, 'of': 27, 'and': 21, 'in': 19, 'to': 14, 'by': 12, 'is': 11, 'warriors': 9, ...}), FreqDist({'the': 37, ',': 35, '.': 26, 'of': 21, 'to': 15, 'a': 15, 'and': 13, 'is': 10, \"'\": 7, 'it': 7, ...}), FreqDist({'the': 17, '.': 17, \"'\": 11, 'in': 11, ',': 11, 'a': 9, 'and': 9, 'is': 8, 'that': 7, 'nick': 7, ...}), FreqDist({',': 46, 'the': 41, '.': 37, 'a': 21, 'to': 15, 'of': 15, '-': 14, \"'\": 14, 'and': 14, 'is': 12, ...}), FreqDist({'the': 28, ',': 24, 'and': 17, '.': 16, 'to': 13, 'his': 12, 'a': 11, 'in': 11, 'he': 9, 'is': 8, ...}), FreqDist({',': 56, 'the': 47, '.': 38, 'and': 28, 'a': 24, 'of': 19, \"'\": 16, 'that': 14, 'in': 12, 'to': 12, ...}), FreqDist({',': 40, 'the': 37, '.': 23, '-': 17, 'and': 15, 'of': 14, 'a': 12, 'to': 11, \"'\": 8, 'in': 7, ...}), FreqDist({',': 24, 'the': 21, '.': 20, \"'\": 14, 'and': 14, 'a': 13, 's': 8, 'to': 8, 'from': 8, 'it': 7, ...}), FreqDist({',': 54, 'the': 47, '.': 42, 'a': 29, 'is': 26, \"'\": 20, 'in': 19, 's': 18, 'of': 15, '-': 15, ...}), FreqDist({',': 53, '.': 44, 'the': 44, 'to': 30, 'a': 24, 'and': 24, 'of': 21, 'you': 20, \"'\": 19, '-': 18, ...}), FreqDist({'.': 48, 'the': 41, 'and': 30, ',': 26, 'a': 23, 'is': 14, \"'\": 14, 'of': 12, 'to': 11, 'i': 11, ...}), FreqDist({'the': 37, ',': 26, '.': 22, 'of': 17, 'and': 15, '(': 13, ')': 13, 'in': 10, 'to': 8, 'film': 7, ...}), FreqDist({',': 48, '.': 38, 'the': 34, 'and': 18, 'to': 13, 'a': 13, 'in': 12, 'i': 10, ';': 10, 'it': 8, ...}), FreqDist({'the': 58, ',': 32, '.': 26, 'of': 22, 'and': 18, 'to': 17, 'a': 17, 'in': 15, 'is': 13, 'matrix': 11, ...}), FreqDist({'the': 70, ',': 62, '.': 49, 'to': 39, 'a': 38, 'and': 35, 'of': 31, \"'\": 30, 'that': 29, 'in': 20, ...}), FreqDist({',': 31, 'the': 31, '.': 30, 'she': 14, 'is': 14, 'to': 12, 'a': 12, 'that': 11, 'and': 10, 'are': 10, ...}), FreqDist({',': 67, 'the': 54, '.': 51, 'a': 33, '-': 27, \"'\": 26, 's': 23, 'to': 22, 'and': 19, '(': 18, ...}), FreqDist({',': 79, 'the': 42, 'and': 36, 'a': 29, '.': 29, 'to': 26, 'is': 23, 'whale': 23, 'of': 21, '\"': 20, ...}), FreqDist({',': 49, 'the': 41, 'and': 27, 'to': 27, 'will': 23, '.': 21, 'of': 18, '\"': 18, 'a': 17, 'in': 17, ...}), FreqDist({',': 50, 'the': 36, \"'\": 24, '\"': 24, '.': 24, 's': 21, 'and': 18, 'of': 15, 'is': 15, 'simon': 14, ...}), FreqDist({',': 33, 'the': 32, '.': 19, \"'\": 16, 'and': 16, 'a': 15, 'of': 15, 's': 13, 'is': 10, 'in': 10, ...}), FreqDist({'the': 76, '.': 46, 'is': 38, ',': 31, 'and': 27, 'to': 26, 'a': 25, 'of': 24, 'that': 24, 'movie': 22, ...}), FreqDist({'the': 25, '.': 18, 'movie': 10, 'a': 9, 'of': 8, 'in': 8, 'is': 7, 'this': 5, 'to': 5, '-': 5, ...}), FreqDist({',': 75, 'the': 61, '.': 55, 'and': 43, 'to': 36, \"'\": 30, 'a': 29, 'of': 28, '-': 26, 's': 23, ...}), FreqDist({',': 40, 'the': 33, '.': 29, 'and': 25, 'a': 23, 'is': 20, 'of': 18, \"'\": 14, 'that': 14, 'to': 14, ...}), FreqDist({'.': 36, 'the': 27, ',': 15, 'to': 11, 'and': 11, \"'\": 10, 'is': 10, 'a': 9, 'it': 6, 'for': 6, ...}), FreqDist({',': 67, 'the': 49, '.': 40, 'and': 40, 'a': 32, '\"': 32, 'to': 24, 'of': 23, 'is': 18, 'hedwig': 15, ...}), FreqDist({'.': 17, ',': 17, 'a': 15, 'the': 14, \"'\": 10, 'to': 9, 'niagara': 8, 'of': 8, '-': 8, 's': 7, ...}), FreqDist({'the': 71, ',': 49, '.': 37, 'of': 18, 'to': 17, 'a': 16, 'and': 15, 'is': 14, 'exotica': 14, 'in': 13, ...}), FreqDist({',': 125, 'the': 99, 'and': 59, '.': 57, 'a': 43, \"'\": 38, 'in': 36, 'it': 34, 'of': 33, '-': 29, ...}), FreqDist({'the': 49, '.': 29, ',': 21, \"'\": 16, 'is': 15, 'a': 13, 'to': 13, 's': 11, 'it': 11, 'in': 10, ...}), FreqDist({',': 86, '\"': 46, 'the': 36, 'and': 34, 'of': 33, 'a': 32, 'to': 32, 'is': 30, '.': 29, \"'\": 18, ...}), FreqDist({',': 53, '.': 39, 'the': 34, 'and': 22, 'a': 14, '\"': 13, 'of': 11, \"'\": 10, 'is': 10, 'to': 10, ...}), FreqDist({'.': 30, 'the': 25, ',': 21, 'a': 19, 'and': 17, 'to': 12, 'is': 12, 'as': 12, 'of': 11, \"'\": 10, ...}), FreqDist({',': 54, 'the': 41, '.': 31, 'and': 25, 'a': 23, '-': 21, \"'\": 19, 'of': 19, 'i': 18, 'in': 15, ...}), FreqDist({',': 20, 'a': 18, '-': 18, '.': 14, 'of': 10, '\"': 10, 'to': 10, \"'\": 8, '(': 8, ')': 8, ...}), FreqDist({'the': 37, '.': 26, ',': 22, 'and': 15, 'they': 13, \"'\": 12, '\"': 10, 's': 9, 'romy': 9, 'to': 8, ...}), FreqDist({',': 40, 'the': 35, '.': 31, 'is': 28, 'a': 27, 'and': 20, 'to': 20, 'of': 17, \"'\": 13, 'in': 12, ...}), FreqDist({',': 41, 'the': 28, '.': 23, 'and': 22, \"'\": 20, 'of': 16, 'a': 15, '(': 14, ')': 14, 'you': 14, ...}), FreqDist({',': 32, '.': 25, 'and': 22, 'the': 19, 'to': 14, 'a': 11, \"'\": 9, 'his': 9, '(': 9, ')': 9, ...}), FreqDist({',': 37, 'the': 35, '.': 26, '\"': 24, 'of': 20, 'a': 18, 'and': 15, \"'\": 14, '-': 13, 'is': 12, ...}), FreqDist({',': 28, 'the': 23, '.': 21, \"'\": 17, 'of': 15, 's': 14, 'to': 13, 'a': 13, 'in': 11, 'and': 11, ...}), FreqDist({'the': 34, ',': 24, 'and': 22, 'to': 17, '.': 15, \"'\": 12, 'of': 11, '(': 11, ')': 11, 'a': 10, ...}), FreqDist({',': 92, '.': 85, 'the': 85, 'is': 46, 'and': 42, 'a': 40, 'to': 33, \"'\": 27, 'of': 27, 'i': 27, ...}), FreqDist({',': 24, 'the': 24, '.': 20, 'a': 18, '-': 14, 'and': 13, 'is': 11, 'of': 11, 'apostle': 11, 'in': 10, ...}), FreqDist({',': 40, '.': 32, 'the': 27, \"'\": 25, 'a': 21, 'and': 18, 's': 14, 'of': 12, 'claire': 12, 'to': 11, ...}), FreqDist({'the': 52, ',': 44, '.': 27, 'of': 24, 'and': 24, 'a': 19, 'to': 19, '-': 16, 'in': 15, 'is': 12, ...}), FreqDist({',': 32, 'the': 23, 'a': 21, '.': 21, 'and': 15, 'of': 15, \"'\": 13, 's': 10, 'to': 9, '-': 7, ...}), FreqDist({'the': 63, '.': 40, '\"': 30, 'a': 27, 'of': 26, 'and': 22, 'is': 21, ',': 20, 'to': 18, 'in': 13, ...}), FreqDist({'the': 93, ',': 80, '.': 63, 'and': 40, 'a': 40, 'of': 35, 'to': 35, 'is': 27, \"'\": 17, 'in': 16, ...}), FreqDist({'the': 60, ',': 57, '.': 51, 'and': 30, '\"': 26, 'to': 25, 'of': 23, \"'\": 23, 'is': 20, 'it': 17, ...}), FreqDist({',': 56, 'of': 48, 'the': 46, '.': 39, 'in': 25, 'and': 25, 'to': 22, 'a': 16, 'that': 15, 'is': 15, ...}), FreqDist({',': 22, '.': 21, 'and': 12, 'the': 10, 'is': 10, 'his': 10, 'a': 9, 'of': 8, 'as': 8, 'mozart': 7, ...}), FreqDist({'the': 35, ',': 31, '.': 29, \"'\": 25, 'of': 23, 's': 14, 'as': 13, 'in': 12, 'and': 11, 'i': 11, ...}), FreqDist({'the': 52, ',': 49, '.': 37, 'of': 30, 'and': 30, 'a': 30, '\"': 26, 'is': 21, 'to': 17, '(': 15, ...}), FreqDist({',': 26, '.': 21, 'the': 20, 'to': 18, 'is': 15, 'of': 14, 'and': 14, 'a': 13, \"'\": 11, 'whale': 10, ...}), FreqDist({'the': 127, '.': 72, 'to': 58, ',': 57, 'of': 50, 'a': 42, 'and': 41, '\"': 32, 'in': 32, 'is': 29, ...}), FreqDist({',': 124, 'the': 64, 'and': 53, 'to': 51, 'a': 50, \"'\": 48, '.': 48, 'he': 41, 's': 37, 'of': 31, ...}), FreqDist({'.': 36, 'to': 23, 'the': 22, ',': 22, 'a': 20, \"'\": 16, 'and': 15, 'is': 13, 'in': 12, 'that': 11, ...}), FreqDist({',': 29, 'the': 19, '.': 18, 'is': 12, 'of': 10, '--': 9, \"'\": 8, '\"': 8, 'a': 6, 'in': 6, ...}), FreqDist({'the': 37, '.': 33, ',': 20, 'is': 16, 'a': 16, 'and': 15, 'to': 14, 'scream': 12, 'it': 9, 'that': 9, ...}), FreqDist({'the': 36, ',': 30, '.': 29, \"'\": 23, 'a': 21, '\"': 18, 'and': 18, 's': 16, 'is': 14, 'of': 14, ...}), FreqDist({'.': 33, ',': 30, 'a': 23, 'in': 20, 'the': 18, 'and': 13, 'she': 12, 'to': 11, 'is': 10, 'her': 10, ...}), FreqDist({'the': 33, ',': 30, 'a': 24, 'of': 22, '.': 19, 'to': 18, \"'\": 18, 'is': 16, '-': 13, 'in': 13, ...}), FreqDist({',': 21, 'the': 18, 'and': 15, \"'\": 13, '.': 12, 'a': 11, 'to': 9, 'as': 8, 'is': 7, 's': 6, ...}), FreqDist({'the': 66, '=': 63, ',': 36, 'of': 32, 'to': 26, '.': 26, 'and': 17, 'a': 12, 'impact': 11, '-': 11, ...}), FreqDist({',': 61, 'the': 49, '.': 45, 'and': 35, '\"': 32, 'is': 25, 'of': 25, 'to': 23, 'a': 20, 'in': 20, ...}), FreqDist({'the': 160, ',': 135, '.': 81, 'and': 71, 'of': 52, 'a': 45, 'is': 41, '-': 38, 'to': 35, \"'\": 32, ...}), FreqDist({',': 44, 'the': 35, '.': 29, 'to': 20, 'a': 19, '-': 15, 'it': 15, \"'\": 15, 'is': 12, 'as': 12, ...}), FreqDist({'the': 33, ',': 32, 'of': 19, '.': 18, 'and': 12, 'to': 11, 'is': 10, 'a': 7, 'that': 5, '(': 5, ...}), FreqDist({',': 58, 'the': 38, '.': 35, 'of': 33, 'to': 26, 'a': 25, \"'\": 20, 'in': 18, 's': 15, '\"': 14, ...}), FreqDist({'the': 28, ',': 28, '.': 27, 'of': 18, 'a': 16, 'and': 15, 'to': 15, '(': 13, ')': 13, 'as': 11, ...}), FreqDist({',': 41, 'the': 27, '.': 25, 'of': 19, 'a': 19, 'it': 16, \"'\": 15, 'to': 12, '-': 12, 'and': 11, ...}), FreqDist({'.': 46, 'the': 36, ',': 23, \"'\": 22, 'to': 19, 'and': 16, 'in': 14, 'a': 13, 'of': 11, 's': 11, ...}), FreqDist({'.': 57, ',': 52, 'the': 51, 'and': 37, 'of': 27, 'it': 20, \"'\": 20, 'to': 19, 'a': 15, 'in': 15, ...}), FreqDist({'the': 32, ',': 27, '.': 22, 'a': 22, \"'\": 13, 'to': 12, 'of': 11, 'and': 11, 's': 9, 'on': 8, ...}), FreqDist({',': 54, 'the': 49, '.': 34, \"'\": 29, 'and': 27, 'a': 25, 'is': 24, 'to': 19, 's': 19, 'that': 18, ...}), FreqDist({'the': 71, ',': 55, 'of': 43, '.': 33, 'and': 23, 'a': 21, 'in': 19, 'is': 18, \"'\": 14, '\"': 14, ...}), FreqDist({',': 33, 'a': 25, '.': 25, 'the': 22, 'to': 18, 'of': 16, \"'\": 12, 'and': 10, 's': 10, 'is': 9, ...}), FreqDist({',': 44, 'the': 41, '.': 22, 'a': 20, 'of': 17, 'and': 17, '-': 16, 'is': 15, \"'\": 11, 's': 9, ...}), FreqDist({'the': 35, ',': 35, '.': 25, 'and': 16, 'is': 14, 'a': 11, \"'\": 10, 'in': 8, 's': 8, 'of': 8, ...}), FreqDist({',': 62, 'the': 62, '.': 40, '\"': 34, 'and': 32, 'a': 25, 'of': 22, 'is': 20, 'to': 20, 'in': 17, ...}), FreqDist({'the': 43, ',': 27, '.': 25, 'in': 17, 'to': 15, 'her': 14, 'is': 13, 'and': 13, 'a': 10, 'of': 10, ...}), FreqDist({'the': 39, '.': 34, ',': 32, 'to': 16, 'of': 14, 'and': 14, 'is': 13, \"'\": 11, 'that': 10, '(': 9, ...}), FreqDist({',': 49, '.': 37, 'the': 33, 'to': 22, 'a': 21, 'i': 18, 'of': 17, 'in': 16, '\"': 16, 'and': 15, ...}), FreqDist({',': 50, \"'\": 43, '.': 40, 'the': 37, 's': 33, 'a': 29, 'and': 20, 'to': 17, 'of': 17, 'is': 16, ...}), FreqDist({'the': 30, '.': 29, ',': 27, 'and': 26, 'of': 19, 'to': 16, 'a': 14, 'in': 9, 'that': 9, 'are': 8, ...}), FreqDist({',': 43, '\"': 28, '.': 28, 'the': 25, \"'\": 21, 'her': 18, 'a': 17, 'to': 15, 'of': 15, 'marie': 14, ...}), FreqDist({'the': 81, ',': 76, '.': 48, 'a': 45, 'of': 44, \"'\": 37, 'and': 33, 'is': 30, 'to': 29, 'her': 25, ...}), FreqDist({'the': 54, ',': 40, '.': 29, 'of': 27, \"'\": 24, 'and': 17, 'a': 17, '(': 12, ')': 12, 'as': 12, ...}), FreqDist({',': 34, '\"': 30, 'of': 23, '.': 23, 'the': 21, 'a': 18, \"'\": 16, 'as': 14, 'in': 13, 's': 13, ...}), FreqDist({'the': 37, ',': 32, '.': 25, 'and': 22, 'of': 20, 'a': 18, 'to': 15, '-': 13, 'in': 11, 'is': 11, ...}), FreqDist({',': 35, '.': 27, 'the': 24, 'a': 22, \"'\": 21, 'and': 19, 'to': 14, 's': 13, 'is': 13, 'as': 11, ...}), FreqDist({',': 42, '.': 37, 'the': 28, \"'\": 18, 'a': 17, 'to': 16, 'that': 14, 's': 14, 'of': 13, 'and': 13, ...}), FreqDist({',': 74, '.': 57, 'the': 55, 'and': 32, \"'\": 32, 'to': 30, 'his': 27, 'is': 27, 'a': 27, 'of': 25, ...}), FreqDist({',': 55, 'the': 25, \"'\": 22, '.': 20, 'and': 18, 's': 15, 'to': 14, 'a': 13, 'of': 12, '\"': 10, ...}), FreqDist({'the': 74, '.': 60, ',': 56, 'of': 29, 'a': 29, 'is': 26, 'to': 24, 'and': 22, 'he': 16, \"'\": 15, ...}), FreqDist({'.': 16, 'it': 11, 'is': 9, ',': 9, 'of': 8, 'the': 8, 'a': 7, 'and': 7, '--': 6, 'to': 6, ...}), FreqDist({',': 35, 'the': 27, '.': 26, 'a': 14, 'and': 12, \"'\": 12, 'is': 10, 'of': 10, 'i': 9, 'in': 9, ...}), FreqDist({',': 55, 'the': 45, '.': 44, 'a': 28, 'is': 23, 'of': 22, 'and': 20, \"'\": 19, 'she': 17, 'that': 16, ...}), FreqDist({'the': 55, ',': 55, '.': 34, \"'\": 27, 'of': 25, 'and': 25, 'to': 23, 'a': 23, 's': 19, 'in': 14, ...}), FreqDist({',': 55, 'and': 25, '.': 24, 'the': 23, 'is': 15, 'a': 14, 'over': 11, 'day': 9, 'groundhog': 8, 'film': 8, ...}), FreqDist({'the': 38, ',': 32, '.': 27, '-': 24, \"'\": 23, 'of': 23, 'and': 20, 's': 19, 'a': 19, 'his': 18, ...}), FreqDist({'.': 43, 'the': 30, ',': 26, 'and': 24, 'is': 16, 'of': 15, 'a': 15, 'this': 12, 'as': 11, 'to': 10, ...}), FreqDist({'the': 50, ',': 49, '.': 37, \"'\": 31, 'of': 24, 'a': 24, 's': 20, 'in': 18, 'to': 17, 'and': 15, ...}), FreqDist({',': 34, 'the': 28, '\"': 26, '.': 23, 'of': 21, 'and': 20, 'is': 16, 'a': 13, 'in': 12, '(': 11, ...}), FreqDist({'the': 53, '.': 44, ',': 33, '\"': 28, 'and': 21, 'a': 19, 'is': 18, 'to': 16, 'of': 14, 'in': 13, ...}), FreqDist({'the': 77, '.': 56, ',': 53, 'is': 34, 'to': 32, 'a': 29, 'and': 25, 'of': 24, 'you': 24, 'movie': 23, ...}), FreqDist({'.': 15, ',': 12, 'a': 10, 'and': 8, 'the': 7, 'he': 5, 'in': 5, 'his': 5, 'i': 5, '\"': 4, ...}), FreqDist({'the': 73, ',': 55, '.': 43, 'is': 26, '-': 25, 'of': 24, \"'\": 22, 'and': 22, 'to': 18, 's': 13, ...}), FreqDist({',': 79, 'the': 29, '.': 26, 'a': 20, 'and': 20, 'her': 19, 'to': 18, 'of': 17, '\"': 16, 'is': 16, ...}), FreqDist({'the': 77, '.': 61, '\"': 38, \"'\": 38, ',': 32, 'a': 29, 's': 29, 'he': 25, 'and': 18, 'is': 18, ...}), FreqDist({'the': 41, ',': 39, '.': 28, 'of': 23, 'a': 22, 'i': 17, 'and': 15, 'that': 14, 'to': 13, \"'\": 12, ...}), FreqDist({',': 107, '.': 82, 'the': 78, 'it': 40, 'is': 39, 'and': 39, 'of': 32, 'a': 30, 'to': 30, 'film': 20, ...}), FreqDist({'the': 46, ',': 40, '.': 33, 'a': 21, 'and': 20, 'to': 19, \"'\": 17, '\"': 16, '-': 15, 'of': 14, ...}), FreqDist({'.': 34, ',': 32, 'the': 31, 'and': 17, 'of': 15, 'is': 13, '\"': 11, 'in': 10, '(': 10, ')': 9, ...}), FreqDist({'.': 45, 'the': 43, 'and': 31, ',': 26, 'a': 25, 'of': 20, 'is': 18, \"'\": 16, 'to': 16, 'movie': 14, ...}), FreqDist({'.': 24, 'the': 22, 'is': 14, \"'\": 12, 'and': 12, 'he': 10, ',': 9, 's': 9, 'a': 8, 'of': 8, ...}), FreqDist({'the': 83, ',': 72, '.': 52, 'and': 37, 'to': 33, 'a': 31, 'of': 30, 'is': 26, 'in': 20, 'black': 15, ...}), FreqDist({'the': 51, ',': 45, '.': 38, 'of': 31, 'to': 20, 'is': 19, 'film': 15, 'and': 12, 'are': 10, 'that': 9, ...}), FreqDist({'the': 78, '.': 60, ',': 52, 'of': 37, \"'\": 29, 'to': 26, 'and': 23, 'truman': 20, 'is': 20, 's': 20, ...})]\n"
     ]
    },
    {
     "name": "stdout",
     "output_type": "stream",
     "text": [
      "Confusion matrix:\n",
      "427\t473\n",
      "132\t768\n"
     ]
    }
   ],
   "source": [
    "import numpy as np\n",
    "from nltk.probability import FreqDist\n",
    "from nltk.classify import SklearnClassifier\n",
    "from sklearn.feature_extraction.text import TfidfTransformer\n",
    "from sklearn.feature_selection import SelectKBest, chi2\n",
    "from sklearn.naive_bayes import MultinomialNB\n",
    "from sklearn.pipeline import Pipeline\n",
    "\n",
    "pipeline = Pipeline([('tfidf', TfidfTransformer()),\n",
    "                     ('chi2', SelectKBest(chi2, k=1000)),\n",
    "                     ('nb', MultinomialNB())])\n",
    "classif = SklearnClassifier(pipeline)\n",
    "\n",
    "from nltk.corpus import movie_reviews\n",
    "pos = [FreqDist(movie_reviews.words(i)) for i in movie_reviews.fileids('pos')]\n",
    "neg = [FreqDist(movie_reviews.words(i)) for i in movie_reviews.fileids('neg')]\n",
    "print(pos)\n",
    "add_label = lambda lst, lab: [(x, lab) for x in lst]\n",
    "classif.train(add_label(pos[:100], 'pos') + add_label(neg[:100], 'neg'))\n",
    "\n",
    "l_pos = np.array(classif.classify_many(pos[100:]))\n",
    "l_neg = np.array(classif.classify_many(neg[100:]))\n",
    "print(\"Confusion matrix:\\n%d\\t%d\\n%d\\t%d\" % (\n",
    "          (l_pos == 'pos').sum(), (l_pos == 'neg').sum(),\n",
    "          (l_neg == 'pos').sum(), (l_neg == 'neg').sum()))"
   ]
  },
  {
   "cell_type": "code",
   "execution_count": 267,
   "metadata": {},
   "outputs": [
    {
     "name": "stdout",
     "output_type": "stream",
     "text": [
      "   calm  cool  hot  humid  mild  normal  overcast  rainy  sunny  windy\n",
      "0     1     0    0      0     1       1         1      0      0      0\n",
      "1     0     1    0      0     0       1         0      0      1      1\n",
      "2     0     0    1      0     0       1         0      0      1      1\n",
      "3     0     1    0      1     0       0         1      0      0      1\n",
      "4     1     0    0      1     1       0         0      0      1      0\n",
      "5     1     0    0      0     1       1         1      0      0      0\n",
      "6     0     1    0      1     0       0         0      1      0      1\n",
      "7     0     0    1      0     0       1         0      1      0      1\n",
      "K best features\n",
      "['Y' 'N' 'N' 'N' 'Y' 'Y' 'N' 'N']\n",
      "[[4 0]\n",
      " [1 3]]\n",
      "              precision    recall  f1-score   support\n",
      "\n",
      "           N       0.80      1.00      0.89         4\n",
      "           Y       1.00      0.75      0.86         4\n",
      "\n",
      "    accuracy                           0.88         8\n",
      "   macro avg       0.90      0.88      0.87         8\n",
      "weighted avg       0.90      0.88      0.87         8\n",
      "\n",
      "K best features with predictions\n",
      "   calm  mild  rainy Nice actuals Nice predictions\n",
      "0     1     1      0            Y                Y\n",
      "1     0     0      0            Y                N\n",
      "2     0     0      0            N                N\n",
      "3     0     0      0            N                N\n",
      "4     1     1      0            Y                Y\n",
      "5     1     1      0            Y                Y\n",
      "6     0     0      1            N                N\n",
      "7     0     0      1            N                N\n",
      "[[-2.37189981e+01 -6.93147181e-01]\n",
      " [-2.37189981e+01 -6.93147181e-01]\n",
      " [-1.00000008e-10 -2.48176104e+01]]\n",
      "  features    N    Y\n",
      "0     calm  0.0  0.5\n",
      "1     mild  0.0  0.5\n",
      "2    rainy  1.0  0.0\n"
     ]
    },
    {
     "name": "stderr",
     "output_type": "stream",
     "text": [
      "/Users/rebjl/opt/anaconda3/lib/python3.7/site-packages/sklearn/naive_bayes.py:507: UserWarning: alpha too small will result in numeric errors, setting alpha = 1.0e-10\n",
      "  'setting alpha = %.1e' % _ALPHA_MIN)\n"
     ]
    }
   ],
   "source": [
    "from sklearn.feature_extraction.text import TfidfTransformer\n",
    "from sklearn.feature_extraction.text import CountVectorizer\n",
    "from sklearn.metrics import accuracy_score, confusion_matrix, classification_report\n",
    "from sklearn.pipeline import Pipeline\n",
    "import numpy as np\n",
    "import pandas as pd\n",
    "\n",
    "class Debug(TransformerMixin, BaseEstimator):\n",
    "    def __init__(self, demo_param='demo'):\n",
    "        self.demo_param = demo_param\n",
    "        self.fit_result = []\n",
    "        self.transform_result = []\n",
    "\n",
    "    def fit(self, X, y=None):\n",
    "        # Return the transformer\n",
    "        self.fit_result = X\n",
    "        return self\n",
    "\n",
    "    def transform(self, X):\n",
    "        # No op transform\n",
    "        self.transform_result = X\n",
    "        return X\n",
    "\n",
    "def sparse_to_df(sp_matrix, feat_names):\n",
    "    return pd.DataFrame(sp_matrix.todense(), columns=feat_names)\n",
    "\n",
    "def convert_log_prob_to_df_prob(log_prob, class_names):\n",
    "    # Transpose the class labels into the columns\n",
    "    prob_arr = np.array(log_prob)\n",
    "    prob_arr = np.transpose(prob_arr)\n",
    "    print(prob_arr)\n",
    "    probs = pd.DataFrame(prob_arr, columns = class_names)\n",
    "    # Unlog by taking exponents\n",
    "    probs = probs.apply(np.exp)\n",
    "    # Add the feature names as the first column\n",
    "    probs['feature'] = k_best_feat\n",
    "    probs.set_index('feature', inplace=True)\n",
    "    return probs\n",
    "\n",
    "# initialize list of lists \n",
    "weather =  [\n",
    "        # ['Sunny','Hot','Normal','Calm','Y'],\n",
    "        ['Overcast','Mild','Normal','Calm','Y'],\n",
    "        ['Sunny','Cool','Normal','Windy','Y'],\n",
    "        ['Sunny','Hot','Normal','Windy','N'],\n",
    "        ['Overcast','Cool','Humid','Windy','N'],\n",
    "        ['Sunny','Mild','Humid','Calm','Y'],\n",
    "        ['Overcast','Mild','Normal','Calm','Y'],\n",
    "        ['Rainy','Cool','Humid','Windy','N'],\n",
    "        ['Rainy','Hot','Normal','Windy','N']]\n",
    "  \n",
    "# Create the pandas DataFrame \n",
    "df = pd.DataFrame(weather, columns = ['Weather','Temperature','Humidity','Wind','Nice']) \n",
    "df_text = df[\"Weather\"] + \" \" + df[\"Temperature\"] + \" \" + df[\"Humidity\"] + \" \" +  df[\"Wind\"]\n",
    "\n",
    "X = df_text\n",
    "y = df['Nice']\n",
    "\n",
    "pipe = Pipeline([('count', CountVectorizer()),\n",
    "                 ('countvectorizer_debug', Debug()),\n",
    "                 # ('tf_idf', TfidfTransformer(norm=None)),\n",
    "                 # ('tf_idf_debug', Debug()),\n",
    "                 ('chi2', SelectKBest(chi2, k=3)),\n",
    "                 ('kbest_debug', Debug()),\n",
    "                 ('clf', MultinomialNB(alpha=0))])\n",
    "\n",
    "result = pipe.fit(X, y)\n",
    "\n",
    "feat_names = pipe['count'].get_feature_names()\n",
    "\n",
    "print(sparse_to_df(pipe['countvectorizer_debug'].fit_result, pipe['count'].get_feature_names() ) )\n",
    "\n",
    "print(\"K best features\")\n",
    "k_best_feat = [feat_names[i] for i in pipe['chi2'].get_support(indices=True)]\n",
    "k_best_df = sparse_to_df(pipe['kbest_debug'].fit_result, k_best_feat)\n",
    "k_best_df['Nice actuals'] = y\n",
    "\n",
    "y_preds = pipe.predict(X)\n",
    "print(y_preds)\n",
    "# Confusion matrix and classification report\n",
    "c_m = confusion_matrix(y, y_preds)\n",
    "print(c_m)\n",
    "print(classification_report(y, y_preds))\n",
    "\n",
    "k_best_df['Nice predictions'] = pd.Series(y_preds)\n",
    "print(\"K best features with predictions\")\n",
    "print(k_best_df)\n",
    "\n",
    "probs = convert_log_prob_to_df_prob(pipe['clf'].feature_log_prob_, pipe['clf'].classes_)\n",
    "\n",
    "# For each feature, calculate it's p(feature | outcome)\n",
    "rows = []\n",
    "\n",
    "for f in k_best_feat:\n",
    "    vcs = [f]\n",
    "    for c in pipe['clf'].classes_ :\n",
    "        vc = k_best_df[k_best_df['Nice actuals'] == c][f].value_counts()\n",
    "        # Get the 1's\n",
    "        vc = vc.get(1) if vc.get(1) else 0\n",
    "        vcs.append(vc)\n",
    "    rows.append(vcs)\n",
    "\n",
    "cols = ['features']\n",
    "cols.extend(pipe['clf'].classes_)\n",
    "\n",
    "likelihoods_df = pd.DataFrame(rows, columns = cols)\n",
    "for c in pipe['clf'].classes_ :\n",
    "    likelihoods_df[c] = likelihoods_df[c] / likelihoods_df[c].sum()\n",
    "print(likelihoods_df)\n",
    "    \n"
   ]
  },
  {
   "cell_type": "code",
   "execution_count": 57,
   "metadata": {},
   "outputs": [
    {
     "name": "stdout",
     "output_type": "stream",
     "text": [
      "   but  can  catch  drink  flies  him  honey  horse  lead  make  more  than  to  vinegar  water  with  you\n",
      "0    0    2      1      0      1    0      1      0     0     0     1     1   0        1      0     2    2\n",
      "1    1    2      0      1      0    1      0      1     1     1     0     0   1        0      1     0    2\n"
     ]
    }
   ],
   "source": [
    "from pandas import DataFrame\n",
    "from sklearn.feature_extraction.text import CountVectorizer\n",
    "docs = [\"You can catch more flies with honey than you can with vinegar.\",\n",
    "         \"You can lead a horse to water, but you can't make him drink.\"]\n",
    "vect = CountVectorizer(min_df=0., max_df=1.0)\n",
    "X = vect.fit_transform(docs)\n",
    "print(DataFrame(X.A, columns=vect.get_feature_names()).to_string())"
   ]
  },
  {
   "cell_type": "code",
   "execution_count": 84,
   "metadata": {},
   "outputs": [
    {
     "name": "stdout",
     "output_type": "stream",
     "text": [
      "[[1 0 0 0]\n",
      " [0 2 0 0]\n",
      " [0 0 3 0]\n",
      " [0 0 0 4]]\n"
     ]
    },
    {
     "data": {
      "text/plain": [
       "array([[2, 0, 0, 0],\n",
       "       [0, 4, 0, 0],\n",
       "       [0, 0, 6, 0],\n",
       "       [0, 0, 0, 8]])"
      ]
     },
     "execution_count": 84,
     "metadata": {},
     "output_type": "execute_result"
    }
   ],
   "source": [
    "from sklearn.base import BaseEstimator, TransformerMixin\n",
    "class FeatureMultiplier(BaseEstimator, TransformerMixin):\n",
    "    def __init__(self, factor):\n",
    "        self.factor = factor\n",
    "\n",
    "    def transform(self, X, *_):\n",
    "        return X * self.factor\n",
    "\n",
    "    def fit(self, *_):\n",
    "        return self\n",
    "\n",
    "fm = FeatureMultiplier(2)\n",
    "\n",
    "test = np.diag((1,2,3,4))\n",
    "print(test)\n",
    "\n",
    "fm.transform(test)"
   ]
  },
  {
   "cell_type": "code",
   "execution_count": 124,
   "metadata": {},
   "outputs": [
    {
     "data": {
      "text/plain": [
       "(150, 2)"
      ]
     },
     "execution_count": 124,
     "metadata": {},
     "output_type": "execute_result"
    }
   ],
   "source": [
    "from sklearn.datasets import load_iris\n",
    "from sklearn.feature_selection import SelectKBest\n",
    "from sklearn.feature_selection import chi2\n",
    "X, y = load_iris(return_X_y=True)\n",
    "X.shape\n",
    "\n",
    "X_new = SelectKBest(chi2, k=2).fit_transform(X, y)\n",
    "X_new.shape"
   ]
  },
  {
   "cell_type": "code",
   "execution_count": 128,
   "metadata": {},
   "outputs": [
    {
     "data": {
      "text/plain": [
       "array([0, 0, 0, 0, 0, 0, 0, 0, 0, 0, 0, 0, 0, 0, 0, 0, 0, 0, 0, 0, 0, 0,\n",
       "       0, 0, 0, 0, 0, 0, 0, 0, 0, 0, 0, 0, 0, 0, 0, 0, 0, 0, 0, 0, 0, 0,\n",
       "       0, 0, 0, 0, 0, 0, 1, 1, 1, 1, 1, 1, 1, 1, 1, 1, 1, 1, 1, 1, 1, 1,\n",
       "       1, 1, 1, 1, 1, 1, 1, 1, 1, 1, 1, 1, 1, 1, 1, 1, 1, 1, 1, 1, 1, 1,\n",
       "       1, 1, 1, 1, 1, 1, 1, 1, 1, 1, 1, 1, 2, 2, 2, 2, 2, 2, 2, 2, 2, 2,\n",
       "       2, 2, 2, 2, 2, 2, 2, 2, 2, 2, 2, 2, 2, 2, 2, 2, 2, 2, 2, 2, 2, 2,\n",
       "       2, 2, 2, 2, 2, 2, 2, 2, 2, 2, 2, 2, 2, 2, 2, 2, 2, 2])"
      ]
     },
     "execution_count": 128,
     "metadata": {},
     "output_type": "execute_result"
    }
   ],
   "source": [
    "y"
   ]
  },
  {
   "cell_type": "code",
   "execution_count": 226,
   "metadata": {},
   "outputs": [
    {
     "data": {
      "text/plain": [
       "0    5\n",
       "1    3\n",
       "Name: calm, dtype: int64"
      ]
     },
     "execution_count": 226,
     "metadata": {},
     "output_type": "execute_result"
    }
   ],
   "source": [
    "k_best_df['calm'].value_counts()\n"
   ]
  },
  {
   "cell_type": "code",
   "execution_count": null,
   "metadata": {},
   "outputs": [],
   "source": [
    "\n",
    "corpus = ['This little piggy went to market',\n",
    "          'This little piggy stayed home',\n",
    "          'This little piggy had roast beef',\n",
    "          'This little piggy had none',\n",
    "          'And this little piggy cried \"wee wee wee\" all the way home']\n",
    "# Happiness of pigs\n",
    "y = [0, 1, 1, 0, 0]"
   ]
  },
  {
   "cell_type": "code",
   "execution_count": 233,
   "metadata": {},
   "outputs": [
    {
     "data": {
      "text/plain": [
       "0    4\n",
       "Name: rainy, dtype: int64"
      ]
     },
     "execution_count": 233,
     "metadata": {},
     "output_type": "execute_result"
    }
   ],
   "source": [
    " k_best_df[k_best_df['Nice actuals'] == 'Y'][f].value_counts()"
   ]
  },
  {
   "cell_type": "code",
   "execution_count": 232,
   "metadata": {},
   "outputs": [
    {
     "data": {
      "text/plain": [
       "pandas.core.series.Series"
      ]
     },
     "execution_count": 232,
     "metadata": {},
     "output_type": "execute_result"
    }
   ],
   "source": [
    "type( k_best_df[k_best_df['Nice actuals'] == 'Y'][f].value_counts())"
   ]
  },
  {
   "cell_type": "code",
   "execution_count": null,
   "metadata": {},
   "outputs": [],
   "source": []
  }
 ],
 "metadata": {
  "kernelspec": {
   "display_name": "Python 3",
   "language": "python",
   "name": "python3"
  },
  "language_info": {
   "codemirror_mode": {
    "name": "ipython",
    "version": 3
   },
   "file_extension": ".py",
   "mimetype": "text/x-python",
   "name": "python",
   "nbconvert_exporter": "python",
   "pygments_lexer": "ipython3",
   "version": "3.7.4"
  }
 },
 "nbformat": 4,
 "nbformat_minor": 2
}
